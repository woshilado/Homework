{
 "cells": [
  {
   "cell_type": "markdown",
   "metadata": {},
   "source": [
    "### Задание\n",
    "\n",
    "При фиксированном seed=42 поразбирайтесь и поэкспериментируйте с параметрами алгоритма дифференциальной эволюции:\n",
    "strategy, popsize, tol, mutation, recombination и updating.\n",
    "\n",
    "Постройте графики количества итераций оптимизации функции ackley от значения параметра.\n",
    "\n",
    "#### Допзадание\n",
    "\n",
    "Найти множество параметров (strategy=..., ..., updating=...), которые требуют минимального количества итераций."
   ]
  },
  {
   "cell_type": "code",
   "execution_count": 1,
   "metadata": {},
   "outputs": [],
   "source": [
    "import numpy as np\n",
    "from scipy.optimize import differential_evolution"
   ]
  },
  {
   "cell_type": "code",
   "execution_count": 2,
   "metadata": {},
   "outputs": [
    {
     "data": {
      "text/plain": [
       "     fun: 4.440892098500626e-16\n",
       " message: 'Optimization terminated successfully.'\n",
       "    nfev: 2793\n",
       "     nit: 90\n",
       " success: True\n",
       "       x: array([0., 0.])"
      ]
     },
     "execution_count": 2,
     "metadata": {},
     "output_type": "execute_result"
    }
   ],
   "source": [
    "def ackley(x):\n",
    "    arg1 = -0.2 * np.sqrt(0.5 * (x[0] ** 2 + x[1] ** 2))\n",
    "    arg2 = 0.5 * (np.cos(2. * np.pi * x[0]) + np.cos(2. * np.pi * x[1]))\n",
    "    return -20. * np.exp(arg1) - np.exp(arg2) + 20. + np.e\n",
    "\n",
    "bounds = [(-10, 10), (-10, 10)]\n",
    "result = differential_evolution(ackley, bounds, seed=42)\n",
    "result"
   ]
  },
  {
   "cell_type": "markdown",
   "metadata": {},
   "source": [
    "Параметры differential_evolution по умолчанию:"
   ]
  },
  {
   "cell_type": "code",
   "execution_count": 3,
   "metadata": {},
   "outputs": [],
   "source": [
    "# differential_evolution(func, bounds, args=(), strategy='best1bin', maxiter=1000, popsize=15, tol=0.01,\n",
    "#                        mutation=0.5, 1, recombination=0.7, seed=None, callback=None, disp=False, polish=True,\n",
    "#                        init='latinhypercube', atol=0, updating='immediate', workers=1, constraints=())"
   ]
  },
  {
   "cell_type": "markdown",
   "metadata": {},
   "source": [
    "Изменим:  \n",
    "1) strategy с 'best1bin' на 'rand2bin'  \n",
    "2) popsize с 15 на 10  \n",
    "3) tol с 0.01 на 0.02  \n",
    "4) mutation с 0.5 на 1 (должна быть in the range [0, 2])  \n",
    "5) recombination с 0.7 на 0.5 (должен быть in the range [0, 1])  \n",
    "6) updating с 'immediate' на 'deferred'"
   ]
  },
  {
   "cell_type": "code",
   "execution_count": 4,
   "metadata": {},
   "outputs": [
    {
     "data": {
      "text/plain": [
       "     fun: 4.440892098500626e-16\n",
       " message: 'Optimization terminated successfully.'\n",
       "    nfev: 6783\n",
       "     nit: 335\n",
       " success: True\n",
       "       x: array([0., 0.])"
      ]
     },
     "execution_count": 4,
     "metadata": {},
     "output_type": "execute_result"
    }
   ],
   "source": [
    "bounds = [(-10, 10), (-10, 10)]\n",
    "result2 = differential_evolution(ackley, bounds, strategy='rand2bin', popsize=10, tol=0.02,\n",
    "                       mutation=1, recombination=0.5, seed=42, updating='deferred')\n",
    "result2"
   ]
  },
  {
   "cell_type": "markdown",
   "metadata": {},
   "source": [
    "Получили тот же результат, но число оценок целевых функций (nfev) и количество итераций (nit) заметно возросло"
   ]
  },
  {
   "cell_type": "code",
   "execution_count": 5,
   "metadata": {},
   "outputs": [],
   "source": [
    "import matplotlib.pyplot as plt"
   ]
  },
  {
   "cell_type": "code",
   "execution_count": 6,
   "metadata": {},
   "outputs": [
    {
     "data": {
      "text/plain": [
       "<BarContainer object of 1 artists>"
      ]
     },
     "execution_count": 6,
     "metadata": {},
     "output_type": "execute_result"
    },
    {
     "data": {
      "image/png": "[encoded data removed]",
      "text/plain": [
       "<Figure size 432x288 with 1 Axes>"
      ]
     },
     "metadata": {
      "needs_background": "light"
     },
     "output_type": "display_data"
    }
   ],
   "source": [
    "plt.bar('Number of iterations\\nby default', result['nit'])\n",
    "plt.bar('Number of iterations\\nafter correction', result2['nit'])"
   ]
  },
  {
   "cell_type": "code",
   "execution_count": 7,
   "metadata": {},
   "outputs": [
    {
     "data": {
      "text/plain": [
       "<BarContainer object of 1 artists>"
      ]
     },
     "execution_count": 7,
     "metadata": {},
     "output_type": "execute_result"
    },
    {
     "data": {
      "image/png": "[encoded data removed]",
      "text/plain": [
       "<Figure size 432x288 with 1 Axes>"
      ]
     },
     "metadata": {
      "needs_background": "light"
     },
     "output_type": "display_data"
    }
   ],
   "source": [
    "plt.bar('Number of evaluations of\\nthe objective functions\\nby default', result['nfev'])\n",
    "plt.bar('Number of evaluations of\\nthe objective functions\\nafter correction', result2['nfev'])"
   ]
  }
 ],
 "metadata": {
  "kernelspec": {
   "display_name": "Python 3",
   "language": "python",
   "name": "python3"
  },
  "language_info": {
   "codemirror_mode": {
    "name": "ipython",
    "version": 3
   },
   "file_extension": ".py",
   "mimetype": "text/x-python",
   "name": "python",
   "nbconvert_exporter": "python",
   "pygments_lexer": "ipython3",
   "version": "3.7.6"
  }
 },
 "nbformat": 4,
 "nbformat_minor": 2
}

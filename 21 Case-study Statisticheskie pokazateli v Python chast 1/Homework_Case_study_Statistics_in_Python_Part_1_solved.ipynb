{
 "cells": [
  {
   "cell_type": "markdown",
   "metadata": {
    "colab_type": "text",
    "id": "eY5OAxFSfZ9j"
   },
   "source": [
    "# Домашняя работа №6"
   ]
  },
  {
   "cell_type": "markdown",
   "metadata": {
    "colab_type": "text",
    "id": "bozSzxpJfgaR"
   },
   "source": [
    "Для датасета kaggle, Credit Card Fraud Detection. https://www.kaggle.com/mlg-ulb/creditcardfraud "
   ]
  },
  {
   "cell_type": "code",
   "execution_count": 1,
   "metadata": {},
   "outputs": [],
   "source": [
    "import io\n",
    "import requests\n",
    "import ssl\n",
    "import pandas as pd\n",
    "import matplotlib.pyplot as plt\n",
    "import seaborn as sns\n",
    "import numpy as np\n",
    "from sklearn.ensemble import RandomForestClassifier\n",
    "# следующая строчка подключает сертификат для защищенного соединения\n",
    "# ssl._create_default_https_context = ssl._create_unverified_context\n",
    "# url=\"http://yustiks.ru/dataset/creditcard.csv\"\n",
    "# dataset=pd.read_csv(url)\n",
    "# dataset.head()"
   ]
  },
  {
   "cell_type": "markdown",
   "metadata": {
    "colab_type": "text",
    "id": "qvuEya_qflkG"
   },
   "source": [
    "**1. Загрузить датасет**"
   ]
  },
  {
   "cell_type": "code",
   "execution_count": 2,
   "metadata": {},
   "outputs": [
    {
     "data": {
      "text/html": [
       "<div>\n",
       "<style scoped>\n",
       "    .dataframe tbody tr th:only-of-type {\n",
       "        vertical-align: middle;\n",
       "    }\n",
       "\n",
       "    .dataframe tbody tr th {\n",
       "        vertical-align: top;\n",
       "    }\n",
       "\n",
       "    .dataframe thead th {\n",
       "        text-align: right;\n",
       "    }\n",
       "</style>\n",
       "<table border=\"1\" class=\"dataframe\">\n",
       "  <thead>\n",
       "    <tr style=\"text-align: right;\">\n",
       "      <th></th>\n",
       "      <th>Time</th>\n",
       "      <th>V1</th>\n",
       "      <th>V2</th>\n",
       "      <th>V3</th>\n",
       "      <th>V4</th>\n",
       "      <th>V5</th>\n",
       "      <th>V6</th>\n",
       "      <th>V7</th>\n",
       "      <th>V8</th>\n",
       "      <th>V9</th>\n",
       "      <th>...</th>\n",
       "      <th>V21</th>\n",
       "      <th>V22</th>\n",
       "      <th>V23</th>\n",
       "      <th>V24</th>\n",
       "      <th>V25</th>\n",
       "      <th>V26</th>\n",
       "      <th>V27</th>\n",
       "      <th>V28</th>\n",
       "      <th>Amount</th>\n",
       "      <th>Class</th>\n",
       "    </tr>\n",
       "  </thead>\n",
       "  <tbody>\n",
       "    <tr>\n",
       "      <th>0</th>\n",
       "      <td>0.0</td>\n",
       "      <td>-1.359807</td>\n",
       "      <td>-0.072781</td>\n",
       "      <td>2.536347</td>\n",
       "      <td>1.378155</td>\n",
       "      <td>-0.338321</td>\n",
       "      <td>0.462388</td>\n",
       "      <td>0.239599</td>\n",
       "      <td>0.098698</td>\n",
       "      <td>0.363787</td>\n",
       "      <td>...</td>\n",
       "      <td>-0.018307</td>\n",
       "      <td>0.277838</td>\n",
       "      <td>-0.110474</td>\n",
       "      <td>0.066928</td>\n",
       "      <td>0.128539</td>\n",
       "      <td>-0.189115</td>\n",
       "      <td>0.133558</td>\n",
       "      <td>-0.021053</td>\n",
       "      <td>149.62</td>\n",
       "      <td>0</td>\n",
       "    </tr>\n",
       "    <tr>\n",
       "      <th>1</th>\n",
       "      <td>0.0</td>\n",
       "      <td>1.191857</td>\n",
       "      <td>0.266151</td>\n",
       "      <td>0.166480</td>\n",
       "      <td>0.448154</td>\n",
       "      <td>0.060018</td>\n",
       "      <td>-0.082361</td>\n",
       "      <td>-0.078803</td>\n",
       "      <td>0.085102</td>\n",
       "      <td>-0.255425</td>\n",
       "      <td>...</td>\n",
       "      <td>-0.225775</td>\n",
       "      <td>-0.638672</td>\n",
       "      <td>0.101288</td>\n",
       "      <td>-0.339846</td>\n",
       "      <td>0.167170</td>\n",
       "      <td>0.125895</td>\n",
       "      <td>-0.008983</td>\n",
       "      <td>0.014724</td>\n",
       "      <td>2.69</td>\n",
       "      <td>0</td>\n",
       "    </tr>\n",
       "    <tr>\n",
       "      <th>2</th>\n",
       "      <td>1.0</td>\n",
       "      <td>-1.358354</td>\n",
       "      <td>-1.340163</td>\n",
       "      <td>1.773209</td>\n",
       "      <td>0.379780</td>\n",
       "      <td>-0.503198</td>\n",
       "      <td>1.800499</td>\n",
       "      <td>0.791461</td>\n",
       "      <td>0.247676</td>\n",
       "      <td>-1.514654</td>\n",
       "      <td>...</td>\n",
       "      <td>0.247998</td>\n",
       "      <td>0.771679</td>\n",
       "      <td>0.909412</td>\n",
       "      <td>-0.689281</td>\n",
       "      <td>-0.327642</td>\n",
       "      <td>-0.139097</td>\n",
       "      <td>-0.055353</td>\n",
       "      <td>-0.059752</td>\n",
       "      <td>378.66</td>\n",
       "      <td>0</td>\n",
       "    </tr>\n",
       "    <tr>\n",
       "      <th>3</th>\n",
       "      <td>1.0</td>\n",
       "      <td>-0.966272</td>\n",
       "      <td>-0.185226</td>\n",
       "      <td>1.792993</td>\n",
       "      <td>-0.863291</td>\n",
       "      <td>-0.010309</td>\n",
       "      <td>1.247203</td>\n",
       "      <td>0.237609</td>\n",
       "      <td>0.377436</td>\n",
       "      <td>-1.387024</td>\n",
       "      <td>...</td>\n",
       "      <td>-0.108300</td>\n",
       "      <td>0.005274</td>\n",
       "      <td>-0.190321</td>\n",
       "      <td>-1.175575</td>\n",
       "      <td>0.647376</td>\n",
       "      <td>-0.221929</td>\n",
       "      <td>0.062723</td>\n",
       "      <td>0.061458</td>\n",
       "      <td>123.50</td>\n",
       "      <td>0</td>\n",
       "    </tr>\n",
       "    <tr>\n",
       "      <th>4</th>\n",
       "      <td>2.0</td>\n",
       "      <td>-1.158233</td>\n",
       "      <td>0.877737</td>\n",
       "      <td>1.548718</td>\n",
       "      <td>0.403034</td>\n",
       "      <td>-0.407193</td>\n",
       "      <td>0.095921</td>\n",
       "      <td>0.592941</td>\n",
       "      <td>-0.270533</td>\n",
       "      <td>0.817739</td>\n",
       "      <td>...</td>\n",
       "      <td>-0.009431</td>\n",
       "      <td>0.798278</td>\n",
       "      <td>-0.137458</td>\n",
       "      <td>0.141267</td>\n",
       "      <td>-0.206010</td>\n",
       "      <td>0.502292</td>\n",
       "      <td>0.219422</td>\n",
       "      <td>0.215153</td>\n",
       "      <td>69.99</td>\n",
       "      <td>0</td>\n",
       "    </tr>\n",
       "  </tbody>\n",
       "</table>\n",
       "<p>5 rows × 31 columns</p>\n",
       "</div>"
      ],
      "text/plain": [
       "   Time        V1        V2        V3        V4        V5        V6        V7  \\\n",
       "0   0.0 -1.359807 -0.072781  2.536347  1.378155 -0.338321  0.462388  0.239599   \n",
       "1   0.0  1.191857  0.266151  0.166480  0.448154  0.060018 -0.082361 -0.078803   \n",
       "2   1.0 -1.358354 -1.340163  1.773209  0.379780 -0.503198  1.800499  0.791461   \n",
       "3   1.0 -0.966272 -0.185226  1.792993 -0.863291 -0.010309  1.247203  0.237609   \n",
       "4   2.0 -1.158233  0.877737  1.548718  0.403034 -0.407193  0.095921  0.592941   \n",
       "\n",
       "         V8        V9  ...       V21       V22       V23       V24       V25  \\\n",
       "0  0.098698  0.363787  ... -0.018307  0.277838 -0.110474  0.066928  0.128539   \n",
       "1  0.085102 -0.255425  ... -0.225775 -0.638672  0.101288 -0.339846  0.167170   \n",
       "2  0.247676 -1.514654  ...  0.247998  0.771679  0.909412 -0.689281 -0.327642   \n",
       "3  0.377436 -1.387024  ... -0.108300  0.005274 -0.190321 -1.175575  0.647376   \n",
       "4 -0.270533  0.817739  ... -0.009431  0.798278 -0.137458  0.141267 -0.206010   \n",
       "\n",
       "        V26       V27       V28  Amount  Class  \n",
       "0 -0.189115  0.133558 -0.021053  149.62      0  \n",
       "1  0.125895 -0.008983  0.014724    2.69      0  \n",
       "2 -0.139097 -0.055353 -0.059752  378.66      0  \n",
       "3 -0.221929  0.062723  0.061458  123.50      0  \n",
       "4  0.502292  0.219422  0.215153   69.99      0  \n",
       "\n",
       "[5 rows x 31 columns]"
      ]
     },
     "execution_count": 2,
     "metadata": {},
     "output_type": "execute_result"
    }
   ],
   "source": [
    "ssl._create_default_https_context = ssl._create_unverified_context\n",
    "# url=\"http://yustiks.ru/dataset/creditcard.csv\"\n",
    "dataset=pd.read_csv('creditcard.csv')\n",
    "dataset.head()"
   ]
  },
  {
   "cell_type": "markdown",
   "metadata": {
    "colab_type": "text",
    "id": "6gSTHiOJfqb2"
   },
   "source": [
    "**2. Посмотреть отсутствующие значения (какое количество Nan элементов).**"
   ]
  },
  {
   "cell_type": "code",
   "execution_count": 3,
   "metadata": {},
   "outputs": [
    {
     "name": "stdout",
     "output_type": "stream",
     "text": [
      "Количество отсутствующих значений (NaN): 0\n"
     ]
    }
   ],
   "source": [
    "print('Количество отсутствующих значений (NaN):', dataset.isnull().sum().sum())"
   ]
  },
  {
   "cell_type": "markdown",
   "metadata": {
    "colab_type": "text",
    "id": "OFDGPbTpf7wn"
   },
   "source": [
    "**3. Основное таргет значение: 1 - сделка была обманной, 0 - честной. Сделать график barplot для этих двух классов из колонки 'Class'. Посчитать количество элементов в классе 1 и в классе 2.**"
   ]
  },
  {
   "cell_type": "code",
   "execution_count": 4,
   "metadata": {},
   "outputs": [
    {
     "data": {
      "text/plain": [
       "([0, 1], [284315, 492])"
      ]
     },
     "execution_count": 4,
     "metadata": {},
     "output_type": "execute_result"
    }
   ],
   "source": [
    "# Выделим классы и количество к ним относящихся операций\n",
    "\n",
    "credit_class = list(dataset.Class.unique())\n",
    "credit_calss_volume = [len(dataset.Class[dataset.Class == credit_class[0]]),\n",
    "                       len(dataset.Class[dataset.Class == credit_class[1]])]\n",
    "credit_class, credit_calss_volume"
   ]
  },
  {
   "cell_type": "code",
   "execution_count": 5,
   "metadata": {},
   "outputs": [
    {
     "data": {
      "image/png": "[encoded data removed]",
      "text/plain": [
       "<Figure size 360x360 with 1 Axes>"
      ]
     },
     "metadata": {
      "needs_background": "light"
     },
     "output_type": "display_data"
    }
   ],
   "source": [
    "# Построим barplot на их основании\n",
    "\n",
    "f, ax = plt.subplots(figsize=(5, 5))\n",
    "sns.barplot(x=credit_class, y=credit_calss_volume)\n",
    "\n",
    "plt.xlabel('Class')\n",
    "plt.ylabel('Frequency')\n",
    "# plt.title('Title')\n",
    "# plt.legend()\n",
    "plt.show()"
   ]
  },
  {
   "cell_type": "code",
   "execution_count": 6,
   "metadata": {},
   "outputs": [
    {
     "name": "stdout",
     "output_type": "stream",
     "text": [
      "Количество честных сделок: 284315\n",
      "Количество обманных сделок: 492\n"
     ]
    }
   ],
   "source": [
    "print(f'Количество честных сделок: {len(dataset.Class[dataset.Class == 0])}')\n",
    "print(f'Количество обманных сделок: {len(dataset.Class[dataset.Class == 1])}')"
   ]
  },
  {
   "cell_type": "markdown",
   "metadata": {
    "colab_type": "text",
    "id": "lSsrxdWNhEbt"
   },
   "source": [
    "**4. Сколько денег было использовано в обманных операциях, а сколько - в нормальных операциях?** Сделать частотный график по колонке Amount для колонки Class по двум независимым выборкам: обманная операция, нормальная операция"
   ]
  },
  {
   "cell_type": "code",
   "execution_count": 7,
   "metadata": {},
   "outputs": [
    {
     "data": {
      "image/png": "[encoded data removed]",
      "text/plain": [
       "<Figure size 432x288 with 1 Axes>"
      ]
     },
     "metadata": {
      "needs_background": "light"
     },
     "output_type": "display_data"
    }
   ],
   "source": [
    "plt.hist(dataset.Amount[dataset.Class == 0], 50, color='b')\n",
    "# или\n",
    "# sns.distplot(dataset.Amount[dataset.Class == 0], kde = False)\n",
    "\n",
    "plt.xlabel('Суммы при честных операциях')\n",
    "plt.ylabel('Частота')\n",
    "plt.title('Частотный график сумм, использованных при честных операциях')\n",
    "plt.grid(True)\n",
    "plt.show()"
   ]
  },
  {
   "cell_type": "code",
   "execution_count": 8,
   "metadata": {},
   "outputs": [
    {
     "data": {
      "image/png": "[encoded data removed]",
      "text/plain": [
       "<Figure size 432x288 with 1 Axes>"
      ]
     },
     "metadata": {
      "needs_background": "light"
     },
     "output_type": "display_data"
    }
   ],
   "source": [
    "plt.hist(dataset.Amount[dataset.Class == 1], 50, color='r')\n",
    "# или\n",
    "# sns.distplot(dataset.Amount[dataset.Class == 1], kde = False)\n",
    "\n",
    "plt.xlabel('Суммы при обманных операциях')\n",
    "plt.ylabel('Частота')\n",
    "plt.title('Частотный график сумм, использованных при обманных операциях')\n",
    "plt.grid(True)\n",
    "plt.show()"
   ]
  },
  {
   "cell_type": "markdown",
   "metadata": {
    "colab_type": "text",
    "id": "ZvLC_vQXiP0N"
   },
   "source": [
    "**5. Построить графики histograms для всех значений**"
   ]
  },
  {
   "cell_type": "code",
   "execution_count": 9,
   "metadata": {},
   "outputs": [
    {
     "data": {
      "image/png": "[encoded data removed]",
      "text/plain": [
       "<Figure size 1080x1080 with 36 Axes>"
      ]
     },
     "metadata": {
      "needs_background": "light"
     },
     "output_type": "display_data"
    }
   ],
   "source": [
    "dataset.hist(figsize=(15,15))\n",
    "plt.show()"
   ]
  },
  {
   "cell_type": "markdown",
   "metadata": {
    "colab_type": "text",
    "id": "APD2wPSpi_eH"
   },
   "source": [
    "**6. Построить матрицу корреляций для всех значений**"
   ]
  },
  {
   "cell_type": "code",
   "execution_count": 10,
   "metadata": {},
   "outputs": [
    {
     "data": {
      "text/plain": [
       "<matplotlib.axes._subplots.AxesSubplot at 0x13684c99648>"
      ]
     },
     "execution_count": 10,
     "metadata": {},
     "output_type": "execute_result"
    },
    {
     "data": {
      "image/png": "[encoded data removed]",
      "text/plain": [
       "<Figure size 936x936 with 2 Axes>"
      ]
     },
     "metadata": {
      "needs_background": "light"
     },
     "output_type": "display_data"
    }
   ],
   "source": [
    "f, ax = plt.subplots(figsize=(13, 13))\n",
    "corr = np.round_(dataset.corr(), decimals=2)\n",
    "sns.heatmap(corr,annot=False,cmap='RdYlGn',linewidths=0.2)\n",
    "\n",
    "# sns.heatmap(dataset.corr(),annot=True,cmap='RdYlGn',linewidths=0.2)\n",
    "# fig=plt.gcf()\n",
    "# fig.set_size_inches(20,20)\n",
    "# plt.show()"
   ]
  },
  {
   "cell_type": "markdown",
   "metadata": {},
   "source": [
    "**7. Взять все имеющиеся атрибуты из таблицы для предсказания. Разделить на тренировочные и тестовые. Написать модель деревья решений. Сделать classification report.**"
   ]
  },
  {
   "cell_type": "markdown",
   "metadata": {},
   "source": [
    "Модель Random Forest"
   ]
  },
  {
   "cell_type": "code",
   "execution_count": 11,
   "metadata": {},
   "outputs": [],
   "source": [
    "# создаем модель деревья решений\n",
    "# выбираем 100 деревьев в качестве параметра\n",
    "# при желании можно изучить и поперебирать другие гиперпараметры \n",
    "# https://scikit-learn.org/stable/modules/generated/sklearn.ensemble.RandomForestClassifier.html\n",
    "# model=RandomForestClassifier(n_estimators=100)\n",
    "\n",
    "# обучаем модель\n",
    "# model.fit(X_train_22,y_train_22)"
   ]
  },
  {
   "cell_type": "code",
   "execution_count": 12,
   "metadata": {},
   "outputs": [],
   "source": [
    "# Отделяем атрибуты от классов\n",
    "\n",
    "output_y = dataset.iloc[:,30:]\n",
    "input_x = dataset.iloc[:,:30]"
   ]
  },
  {
   "cell_type": "code",
   "execution_count": 13,
   "metadata": {},
   "outputs": [
    {
     "name": "stdout",
     "output_type": "stream",
     "text": [
      "Class    284807\n",
      "dtype: int64\n"
     ]
    }
   ],
   "source": [
    "# Тут уже ровным счетом ничего не понятно, кроме того, что мы считаем количество обманных (класс 1) операций\n",
    "# Что делает LabelEncoder? Что такое idxmax(1)? Что происходит здесь le.fit_transform(targets)?\n",
    "\n",
    "from sklearn.preprocessing import LabelEncoder\n",
    "\n",
    "le=LabelEncoder()\n",
    "targets=(output_y.iloc[:,:]==1).idxmax(1)\n",
    "Y=le.fit_transform(targets)\n",
    "print(targets.value_counts())"
   ]
  },
  {
   "cell_type": "code",
   "execution_count": 14,
   "metadata": {},
   "outputs": [],
   "source": [
    "# Разделим данные на 70% тренировочных и на 30% тестовых\n",
    "\n",
    "from sklearn.model_selection import train_test_split\n",
    "\n",
    "X_train, X_test, y_train, y_test = train_test_split(\n",
    "    input_x,\n",
    "    Y,\n",
    "    test_size = 0.3\n",
    ")"
   ]
  },
  {
   "cell_type": "code",
   "execution_count": 15,
   "metadata": {},
   "outputs": [
    {
     "data": {
      "text/plain": [
       "RandomForestClassifier()"
      ]
     },
     "execution_count": 15,
     "metadata": {},
     "output_type": "execute_result"
    }
   ],
   "source": [
    "from sklearn.ensemble import RandomForestClassifier\n",
    "\n",
    "# Создаем модель деревья решений и выбираем 100 деревьев в качестве параметра\n",
    "\n",
    "model=RandomForestClassifier(n_estimators=100)\n",
    "\n",
    "# Обучаем модель\n",
    "\n",
    "model.fit(X_train, y_train)"
   ]
  },
  {
   "cell_type": "markdown",
   "metadata": {},
   "source": [
    "Как делать classification report:"
   ]
  },
  {
   "cell_type": "code",
   "execution_count": 16,
   "metadata": {},
   "outputs": [
    {
     "name": "stdout",
     "output_type": "stream",
     "text": [
      "              precision    recall  f1-score   support\n",
      "\n",
      "           0       1.00      1.00      1.00     85443\n",
      "\n",
      "    accuracy                           1.00     85443\n",
      "   macro avg       1.00      1.00      1.00     85443\n",
      "weighted avg       1.00      1.00      1.00     85443\n",
      "\n"
     ]
    },
    {
     "data": {
      "text/plain": [
       "1.0"
      ]
     },
     "execution_count": 16,
     "metadata": {},
     "output_type": "execute_result"
    }
   ],
   "source": [
    "from sklearn.metrics import classification_report\n",
    "\n",
    "model_pred = model.predict(X_test)\n",
    "\n",
    "print(classification_report(y_test, model_pred))\n",
    "\n",
    "model.score(X_test, y_test)"
   ]
  },
  {
   "cell_type": "code",
   "execution_count": 17,
   "metadata": {},
   "outputs": [],
   "source": [
    "# Где ошибка? Почему 1.0?"
   ]
  },
  {
   "cell_type": "markdown",
   "metadata": {
    "colab_type": "text",
    "id": "9LPV_8ixUE1X"
   },
   "source": [
    "**8. Нормализовать данные и написать модель Random Forest уже на нормализованных данных. Сделать classification report. Сравнить с результатом, полученном в задаче 7. Нужно ли нормализовывать данные?**"
   ]
  },
  {
   "cell_type": "code",
   "execution_count": 18,
   "metadata": {},
   "outputs": [
    {
     "data": {
      "text/html": [
       "<div>\n",
       "<style scoped>\n",
       "    .dataframe tbody tr th:only-of-type {\n",
       "        vertical-align: middle;\n",
       "    }\n",
       "\n",
       "    .dataframe tbody tr th {\n",
       "        vertical-align: top;\n",
       "    }\n",
       "\n",
       "    .dataframe thead th {\n",
       "        text-align: right;\n",
       "    }\n",
       "</style>\n",
       "<table border=\"1\" class=\"dataframe\">\n",
       "  <thead>\n",
       "    <tr style=\"text-align: right;\">\n",
       "      <th></th>\n",
       "      <th>Time</th>\n",
       "      <th>V1</th>\n",
       "      <th>V2</th>\n",
       "      <th>V3</th>\n",
       "      <th>V4</th>\n",
       "      <th>V5</th>\n",
       "      <th>V6</th>\n",
       "      <th>V7</th>\n",
       "      <th>V8</th>\n",
       "      <th>V9</th>\n",
       "      <th>...</th>\n",
       "      <th>V20</th>\n",
       "      <th>V21</th>\n",
       "      <th>V22</th>\n",
       "      <th>V23</th>\n",
       "      <th>V24</th>\n",
       "      <th>V25</th>\n",
       "      <th>V26</th>\n",
       "      <th>V27</th>\n",
       "      <th>V28</th>\n",
       "      <th>Amount</th>\n",
       "    </tr>\n",
       "  </thead>\n",
       "  <tbody>\n",
       "    <tr>\n",
       "      <th>0</th>\n",
       "      <td>0.0</td>\n",
       "      <td>-1.359807</td>\n",
       "      <td>-0.072781</td>\n",
       "      <td>2.536347</td>\n",
       "      <td>1.378155</td>\n",
       "      <td>-0.338321</td>\n",
       "      <td>0.462388</td>\n",
       "      <td>0.239599</td>\n",
       "      <td>0.098698</td>\n",
       "      <td>0.363787</td>\n",
       "      <td>...</td>\n",
       "      <td>0.251412</td>\n",
       "      <td>-0.018307</td>\n",
       "      <td>0.277838</td>\n",
       "      <td>-0.110474</td>\n",
       "      <td>0.066928</td>\n",
       "      <td>0.128539</td>\n",
       "      <td>-0.189115</td>\n",
       "      <td>0.133558</td>\n",
       "      <td>-0.021053</td>\n",
       "      <td>149.62</td>\n",
       "    </tr>\n",
       "    <tr>\n",
       "      <th>1</th>\n",
       "      <td>0.0</td>\n",
       "      <td>1.191857</td>\n",
       "      <td>0.266151</td>\n",
       "      <td>0.166480</td>\n",
       "      <td>0.448154</td>\n",
       "      <td>0.060018</td>\n",
       "      <td>-0.082361</td>\n",
       "      <td>-0.078803</td>\n",
       "      <td>0.085102</td>\n",
       "      <td>-0.255425</td>\n",
       "      <td>...</td>\n",
       "      <td>-0.069083</td>\n",
       "      <td>-0.225775</td>\n",
       "      <td>-0.638672</td>\n",
       "      <td>0.101288</td>\n",
       "      <td>-0.339846</td>\n",
       "      <td>0.167170</td>\n",
       "      <td>0.125895</td>\n",
       "      <td>-0.008983</td>\n",
       "      <td>0.014724</td>\n",
       "      <td>2.69</td>\n",
       "    </tr>\n",
       "    <tr>\n",
       "      <th>2</th>\n",
       "      <td>1.0</td>\n",
       "      <td>-1.358354</td>\n",
       "      <td>-1.340163</td>\n",
       "      <td>1.773209</td>\n",
       "      <td>0.379780</td>\n",
       "      <td>-0.503198</td>\n",
       "      <td>1.800499</td>\n",
       "      <td>0.791461</td>\n",
       "      <td>0.247676</td>\n",
       "      <td>-1.514654</td>\n",
       "      <td>...</td>\n",
       "      <td>0.524980</td>\n",
       "      <td>0.247998</td>\n",
       "      <td>0.771679</td>\n",
       "      <td>0.909412</td>\n",
       "      <td>-0.689281</td>\n",
       "      <td>-0.327642</td>\n",
       "      <td>-0.139097</td>\n",
       "      <td>-0.055353</td>\n",
       "      <td>-0.059752</td>\n",
       "      <td>378.66</td>\n",
       "    </tr>\n",
       "    <tr>\n",
       "      <th>3</th>\n",
       "      <td>1.0</td>\n",
       "      <td>-0.966272</td>\n",
       "      <td>-0.185226</td>\n",
       "      <td>1.792993</td>\n",
       "      <td>-0.863291</td>\n",
       "      <td>-0.010309</td>\n",
       "      <td>1.247203</td>\n",
       "      <td>0.237609</td>\n",
       "      <td>0.377436</td>\n",
       "      <td>-1.387024</td>\n",
       "      <td>...</td>\n",
       "      <td>-0.208038</td>\n",
       "      <td>-0.108300</td>\n",
       "      <td>0.005274</td>\n",
       "      <td>-0.190321</td>\n",
       "      <td>-1.175575</td>\n",
       "      <td>0.647376</td>\n",
       "      <td>-0.221929</td>\n",
       "      <td>0.062723</td>\n",
       "      <td>0.061458</td>\n",
       "      <td>123.50</td>\n",
       "    </tr>\n",
       "    <tr>\n",
       "      <th>4</th>\n",
       "      <td>2.0</td>\n",
       "      <td>-1.158233</td>\n",
       "      <td>0.877737</td>\n",
       "      <td>1.548718</td>\n",
       "      <td>0.403034</td>\n",
       "      <td>-0.407193</td>\n",
       "      <td>0.095921</td>\n",
       "      <td>0.592941</td>\n",
       "      <td>-0.270533</td>\n",
       "      <td>0.817739</td>\n",
       "      <td>...</td>\n",
       "      <td>0.408542</td>\n",
       "      <td>-0.009431</td>\n",
       "      <td>0.798278</td>\n",
       "      <td>-0.137458</td>\n",
       "      <td>0.141267</td>\n",
       "      <td>-0.206010</td>\n",
       "      <td>0.502292</td>\n",
       "      <td>0.219422</td>\n",
       "      <td>0.215153</td>\n",
       "      <td>69.99</td>\n",
       "    </tr>\n",
       "  </tbody>\n",
       "</table>\n",
       "<p>5 rows × 30 columns</p>\n",
       "</div>"
      ],
      "text/plain": [
       "   Time        V1        V2        V3        V4        V5        V6        V7  \\\n",
       "0   0.0 -1.359807 -0.072781  2.536347  1.378155 -0.338321  0.462388  0.239599   \n",
       "1   0.0  1.191857  0.266151  0.166480  0.448154  0.060018 -0.082361 -0.078803   \n",
       "2   1.0 -1.358354 -1.340163  1.773209  0.379780 -0.503198  1.800499  0.791461   \n",
       "3   1.0 -0.966272 -0.185226  1.792993 -0.863291 -0.010309  1.247203  0.237609   \n",
       "4   2.0 -1.158233  0.877737  1.548718  0.403034 -0.407193  0.095921  0.592941   \n",
       "\n",
       "         V8        V9  ...       V20       V21       V22       V23       V24  \\\n",
       "0  0.098698  0.363787  ...  0.251412 -0.018307  0.277838 -0.110474  0.066928   \n",
       "1  0.085102 -0.255425  ... -0.069083 -0.225775 -0.638672  0.101288 -0.339846   \n",
       "2  0.247676 -1.514654  ...  0.524980  0.247998  0.771679  0.909412 -0.689281   \n",
       "3  0.377436 -1.387024  ... -0.208038 -0.108300  0.005274 -0.190321 -1.175575   \n",
       "4 -0.270533  0.817739  ...  0.408542 -0.009431  0.798278 -0.137458  0.141267   \n",
       "\n",
       "        V25       V26       V27       V28  Amount  \n",
       "0  0.128539 -0.189115  0.133558 -0.021053  149.62  \n",
       "1  0.167170  0.125895 -0.008983  0.014724    2.69  \n",
       "2 -0.327642 -0.139097 -0.055353 -0.059752  378.66  \n",
       "3  0.647376 -0.221929  0.062723  0.061458  123.50  \n",
       "4 -0.206010  0.502292  0.219422  0.215153   69.99  \n",
       "\n",
       "[5 rows x 30 columns]"
      ]
     },
     "execution_count": 18,
     "metadata": {},
     "output_type": "execute_result"
    }
   ],
   "source": [
    "# Составим датасет только из атрибутов без колонки класса\n",
    "\n",
    "dataset_attributes = dataset.iloc[:,:30]\n",
    "dataset_attributes.head()"
   ]
  },
  {
   "cell_type": "code",
   "execution_count": 19,
   "metadata": {},
   "outputs": [],
   "source": [
    "# Выделим наименования столбцов в отдельный список\n",
    "\n",
    "headers = list(dataset_attributes.columns.values)"
   ]
  },
  {
   "cell_type": "code",
   "execution_count": 20,
   "metadata": {},
   "outputs": [
    {
     "data": {
      "text/html": [
       "<div>\n",
       "<style scoped>\n",
       "    .dataframe tbody tr th:only-of-type {\n",
       "        vertical-align: middle;\n",
       "    }\n",
       "\n",
       "    .dataframe tbody tr th {\n",
       "        vertical-align: top;\n",
       "    }\n",
       "\n",
       "    .dataframe thead th {\n",
       "        text-align: right;\n",
       "    }\n",
       "</style>\n",
       "<table border=\"1\" class=\"dataframe\">\n",
       "  <thead>\n",
       "    <tr style=\"text-align: right;\">\n",
       "      <th></th>\n",
       "      <th>0</th>\n",
       "      <th>1</th>\n",
       "      <th>2</th>\n",
       "      <th>3</th>\n",
       "      <th>4</th>\n",
       "      <th>5</th>\n",
       "      <th>6</th>\n",
       "      <th>7</th>\n",
       "      <th>8</th>\n",
       "      <th>9</th>\n",
       "      <th>...</th>\n",
       "      <th>20</th>\n",
       "      <th>21</th>\n",
       "      <th>22</th>\n",
       "      <th>23</th>\n",
       "      <th>24</th>\n",
       "      <th>25</th>\n",
       "      <th>26</th>\n",
       "      <th>27</th>\n",
       "      <th>28</th>\n",
       "      <th>29</th>\n",
       "    </tr>\n",
       "  </thead>\n",
       "  <tbody>\n",
       "    <tr>\n",
       "      <th>0</th>\n",
       "      <td>-1.000000</td>\n",
       "      <td>0.870385</td>\n",
       "      <td>0.532981</td>\n",
       "      <td>0.762730</td>\n",
       "      <td>-0.373955</td>\n",
       "      <td>0.526877</td>\n",
       "      <td>-0.464663</td>\n",
       "      <td>-0.466370</td>\n",
       "      <td>0.572888</td>\n",
       "      <td>-0.049377</td>\n",
       "      <td>...</td>\n",
       "      <td>0.165884</td>\n",
       "      <td>0.122369</td>\n",
       "      <td>0.045984</td>\n",
       "      <td>0.327586</td>\n",
       "      <td>-0.217495</td>\n",
       "      <td>0.170244</td>\n",
       "      <td>-0.210886</td>\n",
       "      <td>-0.162048</td>\n",
       "      <td>-0.374607</td>\n",
       "      <td>-0.988352</td>\n",
       "    </tr>\n",
       "    <tr>\n",
       "      <th>1</th>\n",
       "      <td>-1.000000</td>\n",
       "      <td>0.957084</td>\n",
       "      <td>0.540133</td>\n",
       "      <td>0.680597</td>\n",
       "      <td>-0.456407</td>\n",
       "      <td>0.532241</td>\n",
       "      <td>-0.475617</td>\n",
       "      <td>-0.470249</td>\n",
       "      <td>0.572597</td>\n",
       "      <td>-0.092038</td>\n",
       "      <td>...</td>\n",
       "      <td>0.159060</td>\n",
       "      <td>0.115680</td>\n",
       "      <td>-0.039526</td>\n",
       "      <td>0.333876</td>\n",
       "      <td>-0.327120</td>\n",
       "      <td>0.174581</td>\n",
       "      <td>-0.107974</td>\n",
       "      <td>-0.167310</td>\n",
       "      <td>-0.373155</td>\n",
       "      <td>-0.999791</td>\n",
       "    </tr>\n",
       "    <tr>\n",
       "      <th>2</th>\n",
       "      <td>-0.999988</td>\n",
       "      <td>0.870434</td>\n",
       "      <td>0.506235</td>\n",
       "      <td>0.736282</td>\n",
       "      <td>-0.462469</td>\n",
       "      <td>0.524658</td>\n",
       "      <td>-0.437756</td>\n",
       "      <td>-0.459646</td>\n",
       "      <td>0.576085</td>\n",
       "      <td>-0.178795</td>\n",
       "      <td>...</td>\n",
       "      <td>0.171710</td>\n",
       "      <td>0.130955</td>\n",
       "      <td>0.092060</td>\n",
       "      <td>0.357878</td>\n",
       "      <td>-0.421292</td>\n",
       "      <td>0.119030</td>\n",
       "      <td>-0.194546</td>\n",
       "      <td>-0.169021</td>\n",
       "      <td>-0.376177</td>\n",
       "      <td>-0.970522</td>\n",
       "    </tr>\n",
       "    <tr>\n",
       "      <th>3</th>\n",
       "      <td>-0.999988</td>\n",
       "      <td>0.883756</td>\n",
       "      <td>0.530608</td>\n",
       "      <td>0.736967</td>\n",
       "      <td>-0.572678</td>\n",
       "      <td>0.531294</td>\n",
       "      <td>-0.448882</td>\n",
       "      <td>-0.466394</td>\n",
       "      <td>0.578868</td>\n",
       "      <td>-0.170001</td>\n",
       "      <td>...</td>\n",
       "      <td>0.156100</td>\n",
       "      <td>0.119467</td>\n",
       "      <td>0.020554</td>\n",
       "      <td>0.325214</td>\n",
       "      <td>-0.552348</td>\n",
       "      <td>0.228491</td>\n",
       "      <td>-0.221607</td>\n",
       "      <td>-0.164663</td>\n",
       "      <td>-0.371258</td>\n",
       "      <td>-0.990386</td>\n",
       "    </tr>\n",
       "    <tr>\n",
       "      <th>4</th>\n",
       "      <td>-0.999977</td>\n",
       "      <td>0.877234</td>\n",
       "      <td>0.553040</td>\n",
       "      <td>0.728501</td>\n",
       "      <td>-0.460407</td>\n",
       "      <td>0.525950</td>\n",
       "      <td>-0.472032</td>\n",
       "      <td>-0.462064</td>\n",
       "      <td>0.564967</td>\n",
       "      <td>-0.018101</td>\n",
       "      <td>...</td>\n",
       "      <td>0.169231</td>\n",
       "      <td>0.122655</td>\n",
       "      <td>0.094541</td>\n",
       "      <td>0.326784</td>\n",
       "      <td>-0.197460</td>\n",
       "      <td>0.132685</td>\n",
       "      <td>0.014994</td>\n",
       "      <td>-0.158878</td>\n",
       "      <td>-0.365020</td>\n",
       "      <td>-0.994551</td>\n",
       "    </tr>\n",
       "  </tbody>\n",
       "</table>\n",
       "<p>5 rows × 30 columns</p>\n",
       "</div>"
      ],
      "text/plain": [
       "         0         1         2         3         4         5         6   \\\n",
       "0 -1.000000  0.870385  0.532981  0.762730 -0.373955  0.526877 -0.464663   \n",
       "1 -1.000000  0.957084  0.540133  0.680597 -0.456407  0.532241 -0.475617   \n",
       "2 -0.999988  0.870434  0.506235  0.736282 -0.462469  0.524658 -0.437756   \n",
       "3 -0.999988  0.883756  0.530608  0.736967 -0.572678  0.531294 -0.448882   \n",
       "4 -0.999977  0.877234  0.553040  0.728501 -0.460407  0.525950 -0.472032   \n",
       "\n",
       "         7         8         9   ...        20        21        22        23  \\\n",
       "0 -0.466370  0.572888 -0.049377  ...  0.165884  0.122369  0.045984  0.327586   \n",
       "1 -0.470249  0.572597 -0.092038  ...  0.159060  0.115680 -0.039526  0.333876   \n",
       "2 -0.459646  0.576085 -0.178795  ...  0.171710  0.130955  0.092060  0.357878   \n",
       "3 -0.466394  0.578868 -0.170001  ...  0.156100  0.119467  0.020554  0.325214   \n",
       "4 -0.462064  0.564967 -0.018101  ...  0.169231  0.122655  0.094541  0.326784   \n",
       "\n",
       "         24        25        26        27        28        29  \n",
       "0 -0.217495  0.170244 -0.210886 -0.162048 -0.374607 -0.988352  \n",
       "1 -0.327120  0.174581 -0.107974 -0.167310 -0.373155 -0.999791  \n",
       "2 -0.421292  0.119030 -0.194546 -0.169021 -0.376177 -0.970522  \n",
       "3 -0.552348  0.228491 -0.221607 -0.164663 -0.371258 -0.990386  \n",
       "4 -0.197460  0.132685  0.014994 -0.158878 -0.365020 -0.994551  \n",
       "\n",
       "[5 rows x 30 columns]"
      ]
     },
     "execution_count": 20,
     "metadata": {},
     "output_type": "execute_result"
    }
   ],
   "source": [
    "# Нормализуем параметры\n",
    "\n",
    "from sklearn import preprocessing\n",
    "\n",
    "min_max_scaler = preprocessing.MinMaxScaler(feature_range=(-1,1))\n",
    "np_scaled = min_max_scaler.fit_transform(dataset_attributes)\n",
    "df_norm = pd.DataFrame(np_scaled)\n",
    "df_norm.head()"
   ]
  },
  {
   "cell_type": "code",
   "execution_count": 21,
   "metadata": {},
   "outputs": [
    {
     "data": {
      "text/html": [
       "<div>\n",
       "<style scoped>\n",
       "    .dataframe tbody tr th:only-of-type {\n",
       "        vertical-align: middle;\n",
       "    }\n",
       "\n",
       "    .dataframe tbody tr th {\n",
       "        vertical-align: top;\n",
       "    }\n",
       "\n",
       "    .dataframe thead th {\n",
       "        text-align: right;\n",
       "    }\n",
       "</style>\n",
       "<table border=\"1\" class=\"dataframe\">\n",
       "  <thead>\n",
       "    <tr style=\"text-align: right;\">\n",
       "      <th></th>\n",
       "      <th>Time</th>\n",
       "      <th>V1</th>\n",
       "      <th>V2</th>\n",
       "      <th>V3</th>\n",
       "      <th>V4</th>\n",
       "      <th>V5</th>\n",
       "      <th>V6</th>\n",
       "      <th>V7</th>\n",
       "      <th>V8</th>\n",
       "      <th>V9</th>\n",
       "      <th>...</th>\n",
       "      <th>V20</th>\n",
       "      <th>V21</th>\n",
       "      <th>V22</th>\n",
       "      <th>V23</th>\n",
       "      <th>V24</th>\n",
       "      <th>V25</th>\n",
       "      <th>V26</th>\n",
       "      <th>V27</th>\n",
       "      <th>V28</th>\n",
       "      <th>Amount</th>\n",
       "    </tr>\n",
       "  </thead>\n",
       "  <tbody>\n",
       "    <tr>\n",
       "      <th>0</th>\n",
       "      <td>-1.000000</td>\n",
       "      <td>0.870385</td>\n",
       "      <td>0.532981</td>\n",
       "      <td>0.762730</td>\n",
       "      <td>-0.373955</td>\n",
       "      <td>0.526877</td>\n",
       "      <td>-0.464663</td>\n",
       "      <td>-0.466370</td>\n",
       "      <td>0.572888</td>\n",
       "      <td>-0.049377</td>\n",
       "      <td>...</td>\n",
       "      <td>0.165884</td>\n",
       "      <td>0.122369</td>\n",
       "      <td>0.045984</td>\n",
       "      <td>0.327586</td>\n",
       "      <td>-0.217495</td>\n",
       "      <td>0.170244</td>\n",
       "      <td>-0.210886</td>\n",
       "      <td>-0.162048</td>\n",
       "      <td>-0.374607</td>\n",
       "      <td>-0.988352</td>\n",
       "    </tr>\n",
       "    <tr>\n",
       "      <th>1</th>\n",
       "      <td>-1.000000</td>\n",
       "      <td>0.957084</td>\n",
       "      <td>0.540133</td>\n",
       "      <td>0.680597</td>\n",
       "      <td>-0.456407</td>\n",
       "      <td>0.532241</td>\n",
       "      <td>-0.475617</td>\n",
       "      <td>-0.470249</td>\n",
       "      <td>0.572597</td>\n",
       "      <td>-0.092038</td>\n",
       "      <td>...</td>\n",
       "      <td>0.159060</td>\n",
       "      <td>0.115680</td>\n",
       "      <td>-0.039526</td>\n",
       "      <td>0.333876</td>\n",
       "      <td>-0.327120</td>\n",
       "      <td>0.174581</td>\n",
       "      <td>-0.107974</td>\n",
       "      <td>-0.167310</td>\n",
       "      <td>-0.373155</td>\n",
       "      <td>-0.999791</td>\n",
       "    </tr>\n",
       "    <tr>\n",
       "      <th>2</th>\n",
       "      <td>-0.999988</td>\n",
       "      <td>0.870434</td>\n",
       "      <td>0.506235</td>\n",
       "      <td>0.736282</td>\n",
       "      <td>-0.462469</td>\n",
       "      <td>0.524658</td>\n",
       "      <td>-0.437756</td>\n",
       "      <td>-0.459646</td>\n",
       "      <td>0.576085</td>\n",
       "      <td>-0.178795</td>\n",
       "      <td>...</td>\n",
       "      <td>0.171710</td>\n",
       "      <td>0.130955</td>\n",
       "      <td>0.092060</td>\n",
       "      <td>0.357878</td>\n",
       "      <td>-0.421292</td>\n",
       "      <td>0.119030</td>\n",
       "      <td>-0.194546</td>\n",
       "      <td>-0.169021</td>\n",
       "      <td>-0.376177</td>\n",
       "      <td>-0.970522</td>\n",
       "    </tr>\n",
       "    <tr>\n",
       "      <th>3</th>\n",
       "      <td>-0.999988</td>\n",
       "      <td>0.883756</td>\n",
       "      <td>0.530608</td>\n",
       "      <td>0.736967</td>\n",
       "      <td>-0.572678</td>\n",
       "      <td>0.531294</td>\n",
       "      <td>-0.448882</td>\n",
       "      <td>-0.466394</td>\n",
       "      <td>0.578868</td>\n",
       "      <td>-0.170001</td>\n",
       "      <td>...</td>\n",
       "      <td>0.156100</td>\n",
       "      <td>0.119467</td>\n",
       "      <td>0.020554</td>\n",
       "      <td>0.325214</td>\n",
       "      <td>-0.552348</td>\n",
       "      <td>0.228491</td>\n",
       "      <td>-0.221607</td>\n",
       "      <td>-0.164663</td>\n",
       "      <td>-0.371258</td>\n",
       "      <td>-0.990386</td>\n",
       "    </tr>\n",
       "    <tr>\n",
       "      <th>4</th>\n",
       "      <td>-0.999977</td>\n",
       "      <td>0.877234</td>\n",
       "      <td>0.553040</td>\n",
       "      <td>0.728501</td>\n",
       "      <td>-0.460407</td>\n",
       "      <td>0.525950</td>\n",
       "      <td>-0.472032</td>\n",
       "      <td>-0.462064</td>\n",
       "      <td>0.564967</td>\n",
       "      <td>-0.018101</td>\n",
       "      <td>...</td>\n",
       "      <td>0.169231</td>\n",
       "      <td>0.122655</td>\n",
       "      <td>0.094541</td>\n",
       "      <td>0.326784</td>\n",
       "      <td>-0.197460</td>\n",
       "      <td>0.132685</td>\n",
       "      <td>0.014994</td>\n",
       "      <td>-0.158878</td>\n",
       "      <td>-0.365020</td>\n",
       "      <td>-0.994551</td>\n",
       "    </tr>\n",
       "  </tbody>\n",
       "</table>\n",
       "<p>5 rows × 30 columns</p>\n",
       "</div>"
      ],
      "text/plain": [
       "       Time        V1        V2        V3        V4        V5        V6  \\\n",
       "0 -1.000000  0.870385  0.532981  0.762730 -0.373955  0.526877 -0.464663   \n",
       "1 -1.000000  0.957084  0.540133  0.680597 -0.456407  0.532241 -0.475617   \n",
       "2 -0.999988  0.870434  0.506235  0.736282 -0.462469  0.524658 -0.437756   \n",
       "3 -0.999988  0.883756  0.530608  0.736967 -0.572678  0.531294 -0.448882   \n",
       "4 -0.999977  0.877234  0.553040  0.728501 -0.460407  0.525950 -0.472032   \n",
       "\n",
       "         V7        V8        V9  ...       V20       V21       V22       V23  \\\n",
       "0 -0.466370  0.572888 -0.049377  ...  0.165884  0.122369  0.045984  0.327586   \n",
       "1 -0.470249  0.572597 -0.092038  ...  0.159060  0.115680 -0.039526  0.333876   \n",
       "2 -0.459646  0.576085 -0.178795  ...  0.171710  0.130955  0.092060  0.357878   \n",
       "3 -0.466394  0.578868 -0.170001  ...  0.156100  0.119467  0.020554  0.325214   \n",
       "4 -0.462064  0.564967 -0.018101  ...  0.169231  0.122655  0.094541  0.326784   \n",
       "\n",
       "        V24       V25       V26       V27       V28    Amount  \n",
       "0 -0.217495  0.170244 -0.210886 -0.162048 -0.374607 -0.988352  \n",
       "1 -0.327120  0.174581 -0.107974 -0.167310 -0.373155 -0.999791  \n",
       "2 -0.421292  0.119030 -0.194546 -0.169021 -0.376177 -0.970522  \n",
       "3 -0.552348  0.228491 -0.221607 -0.164663 -0.371258 -0.990386  \n",
       "4 -0.197460  0.132685  0.014994 -0.158878 -0.365020 -0.994551  \n",
       "\n",
       "[5 rows x 30 columns]"
      ]
     },
     "execution_count": 21,
     "metadata": {},
     "output_type": "execute_result"
    }
   ],
   "source": [
    "# Восстановим наименования столбцов, которые стерлись при нормализации\n",
    "\n",
    "df_norm.columns = headers\n",
    "df_norm.head()"
   ]
  },
  {
   "cell_type": "code",
   "execution_count": 22,
   "metadata": {},
   "outputs": [],
   "source": [
    "output_y = dataset.iloc[:,30:]\n",
    "input_x = df_norm"
   ]
  },
  {
   "cell_type": "code",
   "execution_count": 23,
   "metadata": {},
   "outputs": [
    {
     "name": "stdout",
     "output_type": "stream",
     "text": [
      "Class    284807\n",
      "dtype: int64\n"
     ]
    }
   ],
   "source": [
    "le=LabelEncoder()\n",
    "targets=(output_y.iloc[:,:]==1).idxmax(1)\n",
    "Y=le.fit_transform(targets)\n",
    "print(targets.value_counts())"
   ]
  },
  {
   "cell_type": "code",
   "execution_count": 24,
   "metadata": {},
   "outputs": [],
   "source": [
    "from sklearn.model_selection import train_test_split\n",
    "\n",
    "X_train, X_test, y_train, y_test = train_test_split(\n",
    "    input_x,\n",
    "    Y,\n",
    "    test_size = 0.3\n",
    ")"
   ]
  },
  {
   "cell_type": "code",
   "execution_count": 25,
   "metadata": {},
   "outputs": [
    {
     "data": {
      "text/plain": [
       "RandomForestClassifier()"
      ]
     },
     "execution_count": 25,
     "metadata": {},
     "output_type": "execute_result"
    }
   ],
   "source": [
    "# Создаем модель деревья решений и выбираем 100 деревьев в качестве параметра\n",
    "\n",
    "model=RandomForestClassifier(n_estimators=100)\n",
    "\n",
    "# Обучаем модель\n",
    "\n",
    "model.fit(X_train, y_train)"
   ]
  },
  {
   "cell_type": "code",
   "execution_count": 26,
   "metadata": {},
   "outputs": [
    {
     "name": "stdout",
     "output_type": "stream",
     "text": [
      "              precision    recall  f1-score   support\n",
      "\n",
      "           0       1.00      1.00      1.00     85443\n",
      "\n",
      "    accuracy                           1.00     85443\n",
      "   macro avg       1.00      1.00      1.00     85443\n",
      "weighted avg       1.00      1.00      1.00     85443\n",
      "\n"
     ]
    },
    {
     "data": {
      "text/plain": [
       "1.0"
      ]
     },
     "execution_count": 26,
     "metadata": {},
     "output_type": "execute_result"
    }
   ],
   "source": [
    "model_pred = model.predict(X_test)\n",
    "\n",
    "print(classification_report(y_test, model_pred))\n",
    "\n",
    "model.score(X_test, y_test)"
   ]
  },
  {
   "cell_type": "code",
   "execution_count": 27,
   "metadata": {},
   "outputs": [],
   "source": [
    "# Опять 1.0..."
   ]
  },
  {
   "cell_type": "markdown",
   "metadata": {},
   "source": [
    "**9. Уравновесить классы с помощью up-sampling (тестовые данные не меняем, только тренировочные).**"
   ]
  },
  {
   "cell_type": "code",
   "execution_count": 28,
   "metadata": {},
   "outputs": [],
   "source": [
    "from sklearn.model_selection import train_test_split\n",
    "X_train, X_test, y_train, y_test = train_test_split(df_norm,\n",
    "                                                 Y,\n",
    "                                                 test_size = 0.3,\n",
    "                                                 random_state = 3)"
   ]
  },
  {
   "cell_type": "code",
   "execution_count": 29,
   "metadata": {},
   "outputs": [
    {
     "ename": "ValueError",
     "evalue": "The target 'y' needs to have more than 1 class. Got 1 class instead",
     "output_type": "error",
     "traceback": [
      "\u001b[1;31m---------------------------------------------------------------------------\u001b[0m",
      "\u001b[1;31mValueError\u001b[0m                                Traceback (most recent call last)",
      "\u001b[1;32m<ipython-input-29-3b34b57388b4>\u001b[0m in \u001b[0;36m<module>\u001b[1;34m\u001b[0m\n\u001b[0;32m      4\u001b[0m \u001b[0mros\u001b[0m \u001b[1;33m=\u001b[0m \u001b[0mRandomOverSampler\u001b[0m\u001b[1;33m(\u001b[0m\u001b[0mrandom_state\u001b[0m\u001b[1;33m=\u001b[0m\u001b[1;36m0\u001b[0m\u001b[1;33m)\u001b[0m\u001b[1;33m\u001b[0m\u001b[1;33m\u001b[0m\u001b[0m\n\u001b[0;32m      5\u001b[0m \u001b[1;33m\u001b[0m\u001b[0m\n\u001b[1;32m----> 6\u001b[1;33m \u001b[0mros\u001b[0m\u001b[1;33m.\u001b[0m\u001b[0mfit\u001b[0m\u001b[1;33m(\u001b[0m\u001b[0mX_train\u001b[0m\u001b[1;33m,\u001b[0m \u001b[0my_train\u001b[0m\u001b[1;33m)\u001b[0m\u001b[1;33m\u001b[0m\u001b[1;33m\u001b[0m\u001b[0m\n\u001b[0m\u001b[0;32m      7\u001b[0m \u001b[0mX_resampled\u001b[0m\u001b[1;33m,\u001b[0m \u001b[0my_resampled\u001b[0m \u001b[1;33m=\u001b[0m \u001b[0mros\u001b[0m\u001b[1;33m.\u001b[0m\u001b[0mfit_sample\u001b[0m\u001b[1;33m(\u001b[0m\u001b[0mX_train\u001b[0m\u001b[1;33m,\u001b[0m \u001b[0my_train\u001b[0m\u001b[1;33m)\u001b[0m\u001b[1;33m\u001b[0m\u001b[1;33m\u001b[0m\u001b[0m\n\u001b[0;32m      8\u001b[0m \u001b[0mprint\u001b[0m\u001b[1;33m(\u001b[0m\u001b[1;34m'Количество элементов до операции:'\u001b[0m\u001b[1;33m,\u001b[0m \u001b[0mlen\u001b[0m\u001b[1;33m(\u001b[0m\u001b[0mX_train\u001b[0m\u001b[1;33m)\u001b[0m\u001b[1;33m)\u001b[0m\u001b[1;33m\u001b[0m\u001b[1;33m\u001b[0m\u001b[0m\n",
      "\u001b[1;32m~\\anaconda3\\lib\\site-packages\\imblearn\\base.py\u001b[0m in \u001b[0;36mfit\u001b[1;34m(self, X, y)\u001b[0m\n\u001b[0;32m     48\u001b[0m         \u001b[0mX\u001b[0m\u001b[1;33m,\u001b[0m \u001b[0my\u001b[0m\u001b[1;33m,\u001b[0m \u001b[0m_\u001b[0m \u001b[1;33m=\u001b[0m \u001b[0mself\u001b[0m\u001b[1;33m.\u001b[0m\u001b[0m_check_X_y\u001b[0m\u001b[1;33m(\u001b[0m\u001b[0mX\u001b[0m\u001b[1;33m,\u001b[0m \u001b[0my\u001b[0m\u001b[1;33m)\u001b[0m\u001b[1;33m\u001b[0m\u001b[1;33m\u001b[0m\u001b[0m\n\u001b[0;32m     49\u001b[0m         self.sampling_strategy_ = check_sampling_strategy(\n\u001b[1;32m---> 50\u001b[1;33m             \u001b[0mself\u001b[0m\u001b[1;33m.\u001b[0m\u001b[0msampling_strategy\u001b[0m\u001b[1;33m,\u001b[0m \u001b[0my\u001b[0m\u001b[1;33m,\u001b[0m \u001b[0mself\u001b[0m\u001b[1;33m.\u001b[0m\u001b[0m_sampling_type\u001b[0m\u001b[1;33m\u001b[0m\u001b[1;33m\u001b[0m\u001b[0m\n\u001b[0m\u001b[0;32m     51\u001b[0m         )\n\u001b[0;32m     52\u001b[0m         \u001b[1;32mreturn\u001b[0m \u001b[0mself\u001b[0m\u001b[1;33m\u001b[0m\u001b[1;33m\u001b[0m\u001b[0m\n",
      "\u001b[1;32m~\\anaconda3\\lib\\site-packages\\imblearn\\utils\\_validation.py\u001b[0m in \u001b[0;36mcheck_sampling_strategy\u001b[1;34m(sampling_strategy, y, sampling_type, **kwargs)\u001b[0m\n\u001b[0;32m    531\u001b[0m         raise ValueError(\n\u001b[0;32m    532\u001b[0m             \u001b[1;34m\"The target 'y' needs to have more than 1 class.\"\u001b[0m\u001b[1;33m\u001b[0m\u001b[1;33m\u001b[0m\u001b[0m\n\u001b[1;32m--> 533\u001b[1;33m             \u001b[1;34m\" Got {} class instead\"\u001b[0m\u001b[1;33m.\u001b[0m\u001b[0mformat\u001b[0m\u001b[1;33m(\u001b[0m\u001b[0mnp\u001b[0m\u001b[1;33m.\u001b[0m\u001b[0munique\u001b[0m\u001b[1;33m(\u001b[0m\u001b[0my\u001b[0m\u001b[1;33m)\u001b[0m\u001b[1;33m.\u001b[0m\u001b[0msize\u001b[0m\u001b[1;33m)\u001b[0m\u001b[1;33m\u001b[0m\u001b[1;33m\u001b[0m\u001b[0m\n\u001b[0m\u001b[0;32m    534\u001b[0m         )\n\u001b[0;32m    535\u001b[0m \u001b[1;33m\u001b[0m\u001b[0m\n",
      "\u001b[1;31mValueError\u001b[0m: The target 'y' needs to have more than 1 class. Got 1 class instead"
     ]
    }
   ],
   "source": [
    "from imblearn.over_sampling import RandomOverSampler\n",
    "from imblearn.under_sampling import RandomUnderSampler\n",
    "\n",
    "ros = RandomOverSampler(random_state=0)\n",
    "\n",
    "ros.fit(X_train, y_train)\n",
    "X_resampled, y_resampled = ros.fit_sample(X_train, y_train)\n",
    "print('Количество элементов до операции:', len(X_train))\n",
    "print('Количество элементов после операции:', len(X_resampled))"
   ]
  },
  {
   "cell_type": "code",
   "execution_count": null,
   "metadata": {},
   "outputs": [],
   "source": [
    "# Что не так?!"
   ]
  },
  {
   "cell_type": "markdown",
   "metadata": {},
   "source": [
    "**Уважаемые преподаватели, убедительная просьба уделять в разы больше времени коду. Разбирать каждую строчку. Если не успеваете во время лекции, делайте, пожалуйста, комментарии прямо в ноутбуке до лекции. Так будет удобнее для всех. В Слаке толком ни на один вопрос не отвечают. В коде гораздо больше непонятных моментов, нежели в голой теории. На одну непонятную строчку при выполнении домашнего задания и анализа лекции может уходить больше часа в поисках логики на просторах интернета. Дело доходит до того, что одно домашнее задание выполняется 15-16 часов чистого времени. Это без учета лекции, которую нужно смотреть 4 часа в записи с остановками, чтобы что-то понять. Итого 40 часов в неделю, вместо заявленных в начале курса 10 часов. Это не критика, но раздел \"Статистика\" превратился в каждодневный кошмар и круглосуточный непрерывный поиск в Google. Это неправильно. С этим надо что-то делать.  \n",
    "Резюме: код лекций непонятен, а поиск в интернете дает ответы далеко не на все вопросы. Дал бы на все, если бы в сутках было больше часов (раза в два), ну а мы, взрослые люди, не были бы обременены никакими другими делами, кроме данного курса. Просьба пояснять в первую очередь сам код, а теория как раз очень легко гуглится. В итоге статистика проходит мимо, в то время как это один из важнейших инструментов для data scientist.  \n",
    "Спасибо.**"
   ]
  }
 ],
 "metadata": {
  "colab": {
   "include_colab_link": true,
   "name": "dz_4.version2.ipynb",
   "provenance": [],
   "toc_visible": true
  },
  "kernelspec": {
   "display_name": "Python 3",
   "language": "python",
   "name": "python3"
  },
  "language_info": {
   "codemirror_mode": {
    "name": "ipython",
    "version": 3
   },
   "file_extension": ".py",
   "mimetype": "text/x-python",
   "name": "python",
   "nbconvert_exporter": "python",
   "pygments_lexer": "ipython3",
   "version": "3.7.6"
  }
 },
 "nbformat": 4,
 "nbformat_minor": 1
}

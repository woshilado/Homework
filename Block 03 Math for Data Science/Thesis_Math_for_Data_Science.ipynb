{
 "cells": [
  {
   "cell_type": "code",
   "execution_count": 1,
   "metadata": {},
   "outputs": [],
   "source": [
    "import matplotlib.pyplot as plt\n",
    "import numpy as np\n",
    "\n",
    "from scipy.optimize import minimize\n",
    "from scipy.stats import pearsonr\n",
    "%matplotlib inline"
   ]
  },
  {
   "cell_type": "markdown",
   "metadata": {},
   "source": [
    "### Задание 1"
   ]
  },
  {
   "cell_type": "markdown",
   "metadata": {},
   "source": [
    "Дана матрица рейтингов фильмов (строки - пользователи (10 человек), столбцы - фильмы (15 фильмов))"
   ]
  },
  {
   "cell_type": "code",
   "execution_count": 2,
   "metadata": {},
   "outputs": [],
   "source": [
    "ratings = np.array([[ 4,  4,  9,  4,  1,  6, 10,  7,  9,  6,  9,  2,  8,  6,  6],\n",
    "                    [ 9,  2,  5, 10,  7,  8, 10,  5,  6,  2,  1,  6,  8,  9,  7],\n",
    "                    [ 1,  6,  8,  8,  4,  9,  3,  8, 10,  5,  2,  6,  8,  1,  6],\n",
    "                    [ 6,  1,  9,  7,  7,  9,  2,  3,  5,  1,  6,  6,  3,  2,  7],\n",
    "                    [ 3,  7,  3,  5,  7,  9,  9,  6,  2,  9,  1,  2,  8, 10,  6],\n",
    "                    [ 8,  3,  7,  3,  8,  6,  1,  8,  8,  6,  1,  9,  4, 10,  1],\n",
    "                    [ 9,  8,  4,  8,  8, 10,  6,  1,  1,  2,  9,  5,  2,  7,  2],\n",
    "                    [ 4,  1,  6,  4,  3, 10,  4,  4,  2,  8,  7,  9,  3,  8,  3],\n",
    "                    [ 2,  7,  7,  6, 10,  6,  8,  9,  8,  6, 10,  1,  7, 10,  4],\n",
    "                    [ 5, 10,  8,  8,  9,  7,  2,  9,  9, 10,  8,  8,  8,  6, 10]])"
   ]
  },
  {
   "cell_type": "markdown",
   "metadata": {},
   "source": [
    "<b> a) </b> Необходимо найти наиболее похожего пользователя по косинусной метрике для каждого из (ответ: 10 пар вида (x, y), где y - наиболее похожий пользователь на пользователя x)."
   ]
  },
  {
   "cell_type": "code",
   "execution_count": 3,
   "metadata": {},
   "outputs": [],
   "source": [
    "def cosine(a, b):\n",
    "    aLength = np.linalg.norm( a )\n",
    "    bLength = np.linalg.norm( b )\n",
    "    return np.dot(a, b) / (aLength * bLength)"
   ]
  },
  {
   "cell_type": "code",
   "execution_count": 4,
   "metadata": {},
   "outputs": [
    {
     "name": "stdout",
     "output_type": "stream",
     "text": [
      "Наиболее похожим на пользователя с ID 1 является пользователь с ID 9\n",
      "Справочно: косинусное расстояние составляет 0.9106598233573044\n",
      "Наиболее похожим на пользователя с ID 2 является пользователь с ID 5\n",
      "Справочно: косинусное расстояние составляет 0.8713805223930228\n",
      "Наиболее похожим на пользователя с ID 3 является пользователь с ID 10\n",
      "Справочно: косинусное расстояние составляет 0.9187305147356807\n",
      "Наиболее похожим на пользователя с ID 4 является пользователь с ID 10\n",
      "Справочно: косинусное расстояние составляет 0.8588686958710952\n",
      "Наиболее похожим на пользователя с ID 5 является пользователь с ID 9\n",
      "Справочно: косинусное расстояние составляет 0.8794847716076252\n",
      "Наиболее похожим на пользователя с ID 6 является пользователь с ID 10\n",
      "Справочно: косинусное расстояние составляет 0.8551490764118892\n",
      "Наиболее похожим на пользователя с ID 7 является пользователь с ID 4\n",
      "Справочно: косинусное расстояние составляет 0.832742107055763\n",
      "Наиболее похожим на пользователя с ID 8 является пользователь с ID 6\n",
      "Справочно: косинусное расстояние составляет 0.8445168512565341\n",
      "Наиболее похожим на пользователя с ID 9 является пользователь с ID 1\n",
      "Справочно: косинусное расстояние составляет 0.9106598233573044\n",
      "Наиболее похожим на пользователя с ID 10 является пользователь с ID 3\n",
      "Справочно: косинусное расстояние составляет 0.9187305147356807\n"
     ]
    }
   ],
   "source": [
    "for n in range(len(ratings)):\n",
    "    cos_max = 0\n",
    "    for i, line in enumerate(ratings):\n",
    "        if n != i: # это позволяет не сравнивать пользователя с самим собой\n",
    "            if cosine(line, ratings[n]) > cos_max:\n",
    "                cos_max = cosine(line, ratings[n])\n",
    "    for i, line in enumerate(ratings):\n",
    "        if cosine(line, ratings[n]) == cos_max:\n",
    "            print(f'Наиболее похожим на пользователя с ID {n+1} является пользователь с ID {i+1}\\nСправочно: косинусное расстояние составляет {cos_max}')"
   ]
  },
  {
   "cell_type": "markdown",
   "metadata": {},
   "source": [
    "<b> b) </b>Предположим, вы захотели сжать признаковые описания пользователя с 15 фильмов, до, скажем, 5-ти признаков, как вы это сделаете?"
   ]
  },
  {
   "cell_type": "markdown",
   "metadata": {},
   "source": [
    "С помощью коэффициента корреляции Пирсона можно избавиться от столбцов, создающих мультиколлинеарность"
   ]
  },
  {
   "cell_type": "code",
   "execution_count": 5,
   "metadata": {},
   "outputs": [],
   "source": [
    "ratings_tr = ratings.T\n",
    "# ratings_tr"
   ]
  },
  {
   "cell_type": "code",
   "execution_count": 6,
   "metadata": {},
   "outputs": [
    {
     "name": "stdout",
     "output_type": "stream",
     "text": [
      "Наибольшая корреляция у фильма 0 прослеживается с фильмом 7\n",
      "Наибольшая корреляция у фильма 1 прослеживается с фильмом 4\n",
      "Наибольшая корреляция у фильма 2 прослеживается с фильмом 8\n",
      "Наибольшая корреляция у фильма 3 прослеживается с фильмом 14\n",
      "Наибольшая корреляция у фильма 4 прослеживается с фильмом 1\n",
      "Наибольшая корреляция у фильма 5 прослеживается с фильмом 7\n",
      "Наибольшая корреляция у фильма 6 прослеживается с фильмом 11\n",
      "Наибольшая корреляция у фильма 7 прослеживается с фильмом 8\n",
      "Наибольшая корреляция у фильма 8 прослеживается с фильмом 7\n",
      "Наибольшая корреляция у фильма 9 прослеживается с фильмом 7\n",
      "Наибольшая корреляция у фильма 10 прослеживается с фильмом 2\n",
      "Наибольшая корреляция у фильма 11 прослеживается с фильмом 6\n",
      "Наибольшая корреляция у фильма 12 прослеживается с фильмом 7\n",
      "Наибольшая корреляция у фильма 13 прослеживается с фильмом 2\n",
      "Наибольшая корреляция у фильма 14 прослеживается с фильмом 12\n"
     ]
    }
   ],
   "source": [
    "for n in range(len(ratings_tr)):\n",
    "    corr_max = 0\n",
    "    for i, line in enumerate(ratings_tr):\n",
    "        if n != i:\n",
    "            if abs(pearsonr(line, ratings_tr[n])[0]) > corr_max:\n",
    "                corr_max = abs(pearsonr(line, ratings_tr[n])[0])\n",
    "    for i, line in enumerate(ratings_tr):\n",
    "        if abs(pearsonr(line, ratings_tr[n])[0]) == corr_max:\n",
    "            print(f'Наибольшая корреляция у фильма {n} прослеживается с фильмом {i}')"
   ]
  },
  {
   "cell_type": "markdown",
   "metadata": {},
   "source": [
    "В первую очередь удаляем по одному фильму из пар со взаимной наибольшей корреляцией, т.е. 4, 8, 11.  \n",
    "Затем наиболее часто коррелируемые, т.е. 1, 2, 6, 7, 12, 14 (и 13)."
   ]
  },
  {
   "cell_type": "code",
   "execution_count": 7,
   "metadata": {},
   "outputs": [
    {
     "data": {
      "text/plain": [
       "array([[ 4,  4,  6,  6,  9],\n",
       "       [ 9, 10,  8,  2,  1],\n",
       "       [ 1,  8,  9,  5,  2],\n",
       "       [ 6,  7,  9,  1,  6],\n",
       "       [ 3,  5,  9,  9,  1],\n",
       "       [ 8,  3,  6,  6,  1],\n",
       "       [ 9,  8, 10,  2,  9],\n",
       "       [ 4,  4, 10,  8,  7],\n",
       "       [ 2,  6,  6,  6, 10],\n",
       "       [ 5,  8,  7, 10,  8]])"
      ]
     },
     "execution_count": 7,
     "metadata": {},
     "output_type": "execute_result"
    }
   ],
   "source": [
    "ratings_tr_cut = np.delete(ratings_tr, (4, 8, 11, 1, 2, 6, 7, 12, 14, 13), axis=0)\n",
    "ratings_tr_cut.T"
   ]
  },
  {
   "cell_type": "markdown",
   "metadata": {},
   "source": [
    "### Задание 2"
   ]
  },
  {
   "cell_type": "markdown",
   "metadata": {},
   "source": [
    "Вычислите производную $tg^2(sin(x) + cos(2x+3))$ в точке $x_0=1$ на python и на бумаге (просто подставить точку в производную и ничего не упрощать)."
   ]
  },
  {
   "cell_type": "code",
   "execution_count": 8,
   "metadata": {},
   "outputs": [],
   "source": [
    "from sympy import *"
   ]
  },
  {
   "cell_type": "markdown",
   "metadata": {},
   "source": [
    "**Решение на SciPy**"
   ]
  },
  {
   "cell_type": "markdown",
   "metadata": {},
   "source": [
    "Найдем производную"
   ]
  },
  {
   "cell_type": "code",
   "execution_count": 9,
   "metadata": {},
   "outputs": [
    {
     "data": {
      "text/latex": [
       "$\\displaystyle 2 \\left(- 2 \\sin{\\left(2 x + 3 \\right)} + \\cos{\\left(x \\right)}\\right) \\left(\\tan^{2}{\\left(\\sin{\\left(x \\right)} + \\cos{\\left(2 x + 3 \\right)} \\right)} + 1\\right) \\tan{\\left(\\sin{\\left(x \\right)} + \\cos{\\left(2 x + 3 \\right)} \\right)}$"
      ],
      "text/plain": [
       "2*(-2*sin(2*x + 3) + cos(x))*(tan(sin(x) + cos(2*x + 3))**2 + 1)*tan(sin(x) + cos(2*x + 3))"
      ]
     },
     "execution_count": 9,
     "metadata": {},
     "output_type": "execute_result"
    }
   ],
   "source": [
    "x = symbols('x')\n",
    "fx = tan(sin(x) + cos(2*x + 3))**2\n",
    "deriv = diff(fx)\n",
    "deriv"
   ]
  },
  {
   "cell_type": "markdown",
   "metadata": {},
   "source": [
    "Посчитаем значение производной в точке х = 1"
   ]
  },
  {
   "cell_type": "code",
   "execution_count": 10,
   "metadata": {},
   "outputs": [
    {
     "data": {
      "text/latex": [
       "$\\displaystyle 55.3859176353379$"
      ],
      "text/plain": [
       "55.3859176353379"
      ]
     },
     "execution_count": 10,
     "metadata": {},
     "output_type": "execute_result"
    }
   ],
   "source": [
    "y = deriv.evalf(subs={x:1})\n",
    "y"
   ]
  },
  {
   "cell_type": "markdown",
   "metadata": {},
   "source": [
    "**Решение \"на бумажке\"**  "
   ]
  },
  {
   "cell_type": "markdown",
   "metadata": {},
   "source": [
    "$f'(x) = 2(−2sin(2𝑥+3)+cos(𝑥))(tg^2(sin(𝑥)+cos(2𝑥+3))+1)tg(sin(𝑥)+cos(2𝑥+3))=$\n",
    "$=2(−2sin(5)+cos(1))(tg^2(sin(1)+cos(5))+1)tg(sin(1)+cos(5))=$  \n",
    "$=2\\cdot2.45815085519442\\cdot5.38185372806127\\cdot2.09328777956144=55.3859$"
   ]
  },
  {
   "cell_type": "markdown",
   "metadata": {},
   "source": [
    "### Задание 3"
   ]
  },
  {
   "cell_type": "markdown",
   "metadata": {},
   "source": [
    "Дана функция с неизвестными параметрами a и b, вам также известны значения функции fx в точках x. Найдите оптимальные параметры a, b, минимизирующие абсолютную ошибку <b>error</b>"
   ]
  },
  {
   "cell_type": "code",
   "execution_count": 11,
   "metadata": {},
   "outputs": [],
   "source": [
    "def f(x, a, b):\n",
    "    return np.e**a * np.sin(b*x) + x"
   ]
  },
  {
   "cell_type": "code",
   "execution_count": 12,
   "metadata": {},
   "outputs": [],
   "source": [
    "x = np.array([0.        , 0.26315789, 0.52631579, 0.78947368, 1.05263158,\n",
    "              1.31578947, 1.57894737, 1.84210526, 2.10526316, 2.36842105,\n",
    "              2.63157895, 2.89473684, 3.15789474, 3.42105263, 3.68421053,\n",
    "              3.94736842, 4.21052632, 4.47368421, 4.73684211, 5.        ])"
   ]
  },
  {
   "cell_type": "code",
   "execution_count": 13,
   "metadata": {},
   "outputs": [],
   "source": [
    "fx = np.array([  0.        , -12.01819092, -18.90968634, -17.68786571,\n",
    "                -8.7529108 ,   4.27524517,  16.06801336,  21.81250213,\n",
    "                19.22059845,   9.48411207,  -3.22273056, -13.48576488,\n",
    "               -16.91096359, -11.95866834,  -0.58630088,  12.56873816,\n",
    "                22.12489421,  24.20292139,  18.04522521,   6.33211092])"
   ]
  },
  {
   "cell_type": "code",
   "execution_count": 14,
   "metadata": {},
   "outputs": [
    {
     "data": {
      "image/png": "[encoded data removed]",
      "text/plain": [
       "<Figure size 432x288 with 1 Axes>"
      ]
     },
     "metadata": {
      "needs_background": "light"
     },
     "output_type": "display_data"
    }
   ],
   "source": [
    "plt.plot(x, fx)\n",
    "plt.show()"
   ]
  },
  {
   "cell_type": "code",
   "execution_count": 15,
   "metadata": {},
   "outputs": [],
   "source": [
    "def error(params):\n",
    "    return np.sum(np.abs(fx - f(x, params[0], params[1])))"
   ]
  },
  {
   "cell_type": "code",
   "execution_count": 16,
   "metadata": {},
   "outputs": [
    {
     "name": "stdout",
     "output_type": "stream",
     "text": [
      "Optimization terminated successfully.\n",
      "         Current function value: 232.958617\n",
      "         Iterations: 1554\n",
      "         Function evaluations: 2325\n"
     ]
    }
   ],
   "source": [
    "res = minimize(error, fx, method='nelder-mead', options={'xtol': 1e-6, 'disp': True})"
   ]
  },
  {
   "cell_type": "markdown",
   "metadata": {},
   "source": [
    "### Задание 4"
   ]
  },
  {
   "cell_type": "markdown",
   "metadata": {},
   "source": [
    "Создайте собственную дискретную случайную величину с 20 значениями. Сгенерируйте 1000 выборок размера 50. Посчитайте среднее для каждой выборки. Постройте гистограмму распределения средних."
   ]
  },
  {
   "cell_type": "code",
   "execution_count": 17,
   "metadata": {},
   "outputs": [
    {
     "data": {
      "text/plain": [
       "(1000, 50)"
      ]
     },
     "execution_count": 17,
     "metadata": {},
     "output_type": "execute_result"
    }
   ],
   "source": [
    "rand_var = np.random.randint(1, 21, 50000)\n",
    "rand_var = rand_var.reshape((1000, 50))\n",
    "rand_var.shape"
   ]
  },
  {
   "cell_type": "code",
   "execution_count": 18,
   "metadata": {},
   "outputs": [],
   "source": [
    "mean_list = []\n",
    "for i in rand_var:\n",
    "    mean_list.append(i.mean())"
   ]
  },
  {
   "cell_type": "code",
   "execution_count": 19,
   "metadata": {
    "scrolled": true
   },
   "outputs": [
    {
     "data": {
      "image/png": "[encoded data removed]",
      "text/plain": [
       "<Figure size 432x288 with 1 Axes>"
      ]
     },
     "metadata": {
      "needs_background": "light"
     },
     "output_type": "display_data"
    }
   ],
   "source": [
    "plt.hist(mean_list, 20, color='g')\n",
    "\n",
    "plt.xlabel('средние значения')\n",
    "plt.ylabel('частота')\n",
    "plt.title('Распределение средних значений (20 bins)')\n",
    "plt.grid(True)\n",
    "plt.show()"
   ]
  },
  {
   "cell_type": "markdown",
   "metadata": {},
   "source": [
    "### Задание 5"
   ]
  },
  {
   "cell_type": "markdown",
   "metadata": {},
   "source": [
    "Найдите собственные значения и собственные вектора матрицы (на python и на бумаге)\n",
    "\n",
    "[[1, 4],\n",
    "\n",
    " [1, 1]]"
   ]
  },
  {
   "cell_type": "markdown",
   "metadata": {},
   "source": [
    "**Решение на Python**"
   ]
  },
  {
   "cell_type": "code",
   "execution_count": 20,
   "metadata": {},
   "outputs": [
    {
     "name": "stdout",
     "output_type": "stream",
     "text": [
      "[[1 4]\n",
      " [1 1]]\n"
     ]
    }
   ],
   "source": [
    "M = np.array([[1, 4], [1, 1]])\n",
    "print(M)"
   ]
  },
  {
   "cell_type": "code",
   "execution_count": 21,
   "metadata": {},
   "outputs": [
    {
     "name": "stdout",
     "output_type": "stream",
     "text": [
      "Собственному значению 3.0000000000000004 соответствует собственный вектор [0.89442719 0.4472136 ]\n",
      "Собственному значению -0.9999999999999996 соответствует собственный вектор [-0.89442719  0.4472136 ]\n"
     ]
    }
   ],
   "source": [
    "w, v = np.linalg.eig(M)\n",
    "for i in range(len(w)):\n",
    "    print(f'Собственному значению {str(w[i])} соответствует собственный вектор {str(v[:,i])}')"
   ]
  },
  {
   "cell_type": "markdown",
   "metadata": {},
   "source": [
    "**Решение \"на бумажке\"**"
   ]
  },
  {
   "cell_type": "markdown",
   "metadata": {},
   "source": [
    "$\\boldsymbol{A}=\\begin{bmatrix}\n",
    "1 & 4\\\\ \n",
    "1 & 1\n",
    "\\end{bmatrix}$\n",
    "\n",
    "$\\begin{bmatrix}\n",
    "1-\\lambda & 4\\\\ \n",
    "1 & 1-\\lambda\n",
    "\\end{bmatrix}=0$\n",
    "\n",
    "$\\lambda^2-2\\lambda-3=0$\n",
    "\n",
    "$\\lambda_1=-1$  \n",
    "$\\lambda_2=3$\n",
    "\n",
    "При $\\lambda_1=-1$:  \n",
    "\n",
    "$\\begin{cases}\n",
    " & 2x+4y=0 \\\\ \n",
    " & x+2y=0  \n",
    "\\end{cases}$  \n",
    "\n",
    "$\\boldsymbol{v_1}=\\begin{bmatrix}\n",
    "2\\\\ \n",
    "-1\n",
    "\\end{bmatrix}$\n",
    "\n",
    "При $\\lambda_2=3$:  \n",
    "\n",
    "$\\begin{cases}\n",
    " & -2x+4y=0 \\\\ \n",
    " & x-2y=0  \n",
    "\\end{cases}$  \n",
    "\n",
    "$\\boldsymbol{v_2}=\\begin{bmatrix}\n",
    "2\\\\ \n",
    "1\n",
    "\\end{bmatrix}$"
   ]
  }
 ],
 "metadata": {
  "kernelspec": {
   "display_name": "Python 3",
   "language": "python",
   "name": "python3"
  },
  "language_info": {
   "codemirror_mode": {
    "name": "ipython",
    "version": 3
   },
   "file_extension": ".py",
   "mimetype": "text/x-python",
   "name": "python",
   "nbconvert_exporter": "python",
   "pygments_lexer": "ipython3",
   "version": "3.7.6"
  }
 },
 "nbformat": 4,
 "nbformat_minor": 2
}

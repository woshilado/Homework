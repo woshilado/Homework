{
 "cells": [
  {
   "cell_type": "markdown",
   "metadata": {},
   "source": [
    "**Домашнее задание**  \n",
    "Потренеруем навыки, полученные на практическом занятии.  \n",
    "Пользуясь новыми знаниями, проведите эксплоративный анализ данных на данных недвижимости Бостона, и попытайтесь обучить линейную модель наиболее качественно. Все ваши действия и решения описывайте в markdown.  \n",
    "Данные вы сможете получить исполнив следующий код:  \n",
    "from sklearn.datasets import load_boston  \n",
    "import pandas as pd  \n",
    "data = pd.read_csv(load_boston()[‘filename’], skiprows=1)  \n",
    "Переменная, которую надо предсказать - ’MEDV’.  \n",
    "Прочитать информацию о содержимом датасета:  \n",
    "print(load_boston()[‘DESCR’])  \n",
    "Если вы неудовлетворенны результатом, но лучшего решения предложить не можете, то высылайте задание на проверку.  \n",
    "Цель задания - закрепить полученные навыки."
   ]
  },
  {
   "cell_type": "code",
   "execution_count": 1,
   "metadata": {},
   "outputs": [],
   "source": [
    "# :Attribute Information (in order):\n",
    "#     - CRIM     per capita crime rate by town\n",
    "#     - ZN       proportion of residential land zoned for lots over 25,000 sq.ft.\n",
    "#     - INDUS    proportion of non-retail business acres per town\n",
    "#     - CHAS     Charles River dummy variable (= 1 if tract bounds river; 0 otherwise)\n",
    "#     - NOX      nitric oxides concentration (parts per 10 million)\n",
    "#     - RM       average number of rooms per dwelling\n",
    "#     - AGE      proportion of owner-occupied units built prior to 1940\n",
    "#     - DIS      weighted distances to five Boston employment centres\n",
    "#     - RAD      index of accessibility to radial highways\n",
    "#     - TAX      full-value property-tax rate per $10,000\n",
    "#     - PTRATIO  pupil-teacher ratio by town\n",
    "#     - B        1000(Bk - 0.63)^2 where Bk is the proportion of blacks by town\n",
    "#     - LSTAT    % lower status of the population\n",
    "#     - MEDV     Median value of owner-occupied homes in $1000's"
   ]
  },
  {
   "cell_type": "code",
   "execution_count": 2,
   "metadata": {},
   "outputs": [],
   "source": [
    "import pandas as pd"
   ]
  },
  {
   "cell_type": "code",
   "execution_count": 3,
   "metadata": {},
   "outputs": [
    {
     "data": {
      "text/html": [
       "<div>\n",
       "<style scoped>\n",
       "    .dataframe tbody tr th:only-of-type {\n",
       "        vertical-align: middle;\n",
       "    }\n",
       "\n",
       "    .dataframe tbody tr th {\n",
       "        vertical-align: top;\n",
       "    }\n",
       "\n",
       "    .dataframe thead th {\n",
       "        text-align: right;\n",
       "    }\n",
       "</style>\n",
       "<table border=\"1\" class=\"dataframe\">\n",
       "  <thead>\n",
       "    <tr style=\"text-align: right;\">\n",
       "      <th></th>\n",
       "      <th>CRIM</th>\n",
       "      <th>ZN</th>\n",
       "      <th>INDUS</th>\n",
       "      <th>CHAS</th>\n",
       "      <th>NOX</th>\n",
       "      <th>RM</th>\n",
       "      <th>AGE</th>\n",
       "      <th>DIS</th>\n",
       "      <th>RAD</th>\n",
       "      <th>TAX</th>\n",
       "      <th>PTRATIO</th>\n",
       "      <th>B</th>\n",
       "      <th>LSTAT</th>\n",
       "      <th>MEDV</th>\n",
       "    </tr>\n",
       "  </thead>\n",
       "  <tbody>\n",
       "    <tr>\n",
       "      <th>0</th>\n",
       "      <td>0.00632</td>\n",
       "      <td>18.0</td>\n",
       "      <td>2.31</td>\n",
       "      <td>0</td>\n",
       "      <td>0.538</td>\n",
       "      <td>6.575</td>\n",
       "      <td>65.2</td>\n",
       "      <td>4.0900</td>\n",
       "      <td>1</td>\n",
       "      <td>296</td>\n",
       "      <td>15.3</td>\n",
       "      <td>396.90</td>\n",
       "      <td>4.98</td>\n",
       "      <td>24.0</td>\n",
       "    </tr>\n",
       "    <tr>\n",
       "      <th>1</th>\n",
       "      <td>0.02731</td>\n",
       "      <td>0.0</td>\n",
       "      <td>7.07</td>\n",
       "      <td>0</td>\n",
       "      <td>0.469</td>\n",
       "      <td>6.421</td>\n",
       "      <td>78.9</td>\n",
       "      <td>4.9671</td>\n",
       "      <td>2</td>\n",
       "      <td>242</td>\n",
       "      <td>17.8</td>\n",
       "      <td>396.90</td>\n",
       "      <td>9.14</td>\n",
       "      <td>21.6</td>\n",
       "    </tr>\n",
       "    <tr>\n",
       "      <th>2</th>\n",
       "      <td>0.02729</td>\n",
       "      <td>0.0</td>\n",
       "      <td>7.07</td>\n",
       "      <td>0</td>\n",
       "      <td>0.469</td>\n",
       "      <td>7.185</td>\n",
       "      <td>61.1</td>\n",
       "      <td>4.9671</td>\n",
       "      <td>2</td>\n",
       "      <td>242</td>\n",
       "      <td>17.8</td>\n",
       "      <td>392.83</td>\n",
       "      <td>4.03</td>\n",
       "      <td>34.7</td>\n",
       "    </tr>\n",
       "    <tr>\n",
       "      <th>3</th>\n",
       "      <td>0.03237</td>\n",
       "      <td>0.0</td>\n",
       "      <td>2.18</td>\n",
       "      <td>0</td>\n",
       "      <td>0.458</td>\n",
       "      <td>6.998</td>\n",
       "      <td>45.8</td>\n",
       "      <td>6.0622</td>\n",
       "      <td>3</td>\n",
       "      <td>222</td>\n",
       "      <td>18.7</td>\n",
       "      <td>394.63</td>\n",
       "      <td>2.94</td>\n",
       "      <td>33.4</td>\n",
       "    </tr>\n",
       "    <tr>\n",
       "      <th>4</th>\n",
       "      <td>0.06905</td>\n",
       "      <td>0.0</td>\n",
       "      <td>2.18</td>\n",
       "      <td>0</td>\n",
       "      <td>0.458</td>\n",
       "      <td>7.147</td>\n",
       "      <td>54.2</td>\n",
       "      <td>6.0622</td>\n",
       "      <td>3</td>\n",
       "      <td>222</td>\n",
       "      <td>18.7</td>\n",
       "      <td>396.90</td>\n",
       "      <td>5.33</td>\n",
       "      <td>36.2</td>\n",
       "    </tr>\n",
       "  </tbody>\n",
       "</table>\n",
       "</div>"
      ],
      "text/plain": [
       "      CRIM    ZN  INDUS  CHAS    NOX     RM   AGE     DIS  RAD  TAX  PTRATIO  \\\n",
       "0  0.00632  18.0   2.31     0  0.538  6.575  65.2  4.0900    1  296     15.3   \n",
       "1  0.02731   0.0   7.07     0  0.469  6.421  78.9  4.9671    2  242     17.8   \n",
       "2  0.02729   0.0   7.07     0  0.469  7.185  61.1  4.9671    2  242     17.8   \n",
       "3  0.03237   0.0   2.18     0  0.458  6.998  45.8  6.0622    3  222     18.7   \n",
       "4  0.06905   0.0   2.18     0  0.458  7.147  54.2  6.0622    3  222     18.7   \n",
       "\n",
       "        B  LSTAT  MEDV  \n",
       "0  396.90   4.98  24.0  \n",
       "1  396.90   9.14  21.6  \n",
       "2  392.83   4.03  34.7  \n",
       "3  394.63   2.94  33.4  \n",
       "4  396.90   5.33  36.2  "
      ]
     },
     "execution_count": 3,
     "metadata": {},
     "output_type": "execute_result"
    }
   ],
   "source": [
    "from sklearn.datasets import load_boston\n",
    "data = pd.read_csv(load_boston()['filename'], skiprows=1)\n",
    "data.head()"
   ]
  },
  {
   "cell_type": "markdown",
   "metadata": {},
   "source": [
    "Посмотрим, какие результаты дает первоначальный датасет."
   ]
  },
  {
   "cell_type": "code",
   "execution_count": 4,
   "metadata": {
    "scrolled": true
   },
   "outputs": [
    {
     "name": "stdout",
     "output_type": "stream",
     "text": [
      "Weights: [-1.08011358e-01  4.64204584e-02  2.05586264e-02  2.68673382e+00\n",
      " -1.77666112e+01  3.80986521e+00  6.92224640e-04 -1.47556685e+00\n",
      "  3.06049479e-01 -1.23345939e-02 -9.52747232e-01  9.31168327e-03\n",
      " -5.24758378e-01]\n",
      "Bias: 36.459488385090005\n",
      "Error: 3.270862810900314\n",
      "Median: 21.2\n",
      "Error in %: 15.43\n"
     ]
    }
   ],
   "source": [
    "# Обучаем модель линейной регрессии и смотрим на получившиеся веса, сдвиг и среднюю абсолютную ошибку\n",
    "\n",
    "from sklearn.metrics import mean_absolute_error\n",
    "from sklearn.linear_model import LinearRegression\n",
    "\n",
    "# Вводим иксы\n",
    "X = data[['CRIM', 'ZN', 'INDUS', 'CHAS', 'NOX', 'RM', 'AGE', 'DIS', 'RAD', 'TAX', 'PTRATIO', 'B', 'LSTAT']]\n",
    "# Вводим игреки\n",
    "y = data['MEDV']\n",
    "# Обучаем модель\n",
    "reg = LinearRegression().fit(X, y)\n",
    "# Определяем веса (коэффициенты перед Х):\n",
    "print('Weights: {}'.format(reg.coef_))\n",
    "# Сдвиг\n",
    "print('Bias: {}'.format(reg.intercept_))\n",
    "\n",
    "# С помощью обученной модели и иксов предсказываем игреки\n",
    "pred_values = reg.predict(data[['CRIM', 'ZN', 'INDUS', 'CHAS', 'NOX', 'RM', 'AGE', 'DIS', 'RAD', 'TAX', 'PTRATIO', 'B', 'LSTAT']])\n",
    "# Считаем абсолютную ошибку\n",
    "print('Error: {}'.format(mean_absolute_error(pred_values, y)))\n",
    "print('Median:', y.median())\n",
    "print(f'Error in %: {round((mean_absolute_error(pred_values, y) / y.median() * 100), 2)}')"
   ]
  },
  {
   "cell_type": "markdown",
   "metadata": {},
   "source": [
    "Используя логику и немного подглядывая в веса модели, откорректируем датасет и посмотрим, как изменится точность модели."
   ]
  },
  {
   "cell_type": "markdown",
   "metadata": {},
   "source": [
    "Показатель преступности оставляем. Он явно влияет на стоимость жилья."
   ]
  },
  {
   "cell_type": "markdown",
   "metadata": {},
   "source": [
    "Рассмотрим параметр доли территории, зонированной более 25000 кв. футов. С одной стороны, чем больше участок, тем более состоятельным должен быть покупатель, что отражается на стоимости и качестве здания, с другой - стоимость участков, разбитых на более мелкие части, в сумме дает большую цифру, чем неразбитый участок. Получается очень неоднозначно. Убираем.  \n",
    "Посмотрим, как будет выглядеть модель без этого параметра."
   ]
  },
  {
   "cell_type": "code",
   "execution_count": 5,
   "metadata": {},
   "outputs": [
    {
     "name": "stdout",
     "output_type": "stream",
     "text": [
      "Weights: [-9.83251164e-02 -1.55583378e-03  2.72974803e+00 -1.82288785e+01\n",
      "  4.03004661e+00 -4.69768279e-03 -1.20397374e+00  2.82308788e-01\n",
      " -9.49628894e-03 -1.09041031e+00  9.41531798e-03 -5.15646448e-01]\n",
      "Bias: 36.86325933562916\n",
      "Error: 3.3307069805616605\n",
      "Median: 21.2\n",
      "Error in %: 15.71\n"
     ]
    }
   ],
   "source": [
    "# Обучаем модель линейной регрессии и смотрим на получившиеся веса, сдвиг и среднюю абсолютную ошибку\n",
    "\n",
    "from sklearn.metrics import mean_absolute_error\n",
    "from sklearn.linear_model import LinearRegression\n",
    "\n",
    "# Вводим иксы\n",
    "X = data[['CRIM', 'INDUS', 'CHAS', 'NOX', 'RM', 'AGE', 'DIS', 'RAD', 'TAX', 'PTRATIO', 'B', 'LSTAT']]\n",
    "# Вводим игреки\n",
    "y = data['MEDV']\n",
    "# Обучаем модель\n",
    "reg = LinearRegression().fit(X, y)\n",
    "# Определяем веса (коэффициенты перед Х):\n",
    "print('Weights: {}'.format(reg.coef_))\n",
    "# Сдвиг\n",
    "print('Bias: {}'.format(reg.intercept_))\n",
    "\n",
    "# С помощью обученной модели и иксов предсказываем игреки\n",
    "pred_values = reg.predict(data[['CRIM', 'INDUS', 'CHAS', 'NOX', 'RM', 'AGE', 'DIS', 'RAD', 'TAX', 'PTRATIO', 'B', 'LSTAT']])\n",
    "# Считаем абсолютную ошибку\n",
    "print('Error: {}'.format(mean_absolute_error(pred_values, y)))\n",
    "print('Median:', y.median())\n",
    "print(f'Error in %: {round((mean_absolute_error(pred_values, y) / y.median() * 100), 2)}')"
   ]
  },
  {
   "cell_type": "markdown",
   "metadata": {},
   "source": [
    "Доля нерозничной коммерческой недвижимости прямо не должна влиять на стоимость жилых зданий, что подтверждает ее вес в модели.  \n",
    "Посмотрим, как будет выглядеть модель без этого параметра."
   ]
  },
  {
   "cell_type": "code",
   "execution_count": 6,
   "metadata": {},
   "outputs": [
    {
     "name": "stdout",
     "output_type": "stream",
     "text": [
      "Weights: [-1.08419068e-01  4.59324221e-02  2.71640264e+00 -1.74295266e+01\n",
      "  3.79702088e+00  6.97090941e-04 -1.48964290e+00  2.99874920e-01\n",
      " -1.17840125e-02 -9.47065386e-01  9.28181703e-03 -5.23466594e-01]\n",
      "Bias: 36.36388200705616\n",
      "Error: 3.2722501253652863\n",
      "Median: 21.2\n",
      "Error in %: 15.44\n"
     ]
    }
   ],
   "source": [
    "# Обучаем модель линейной регрессии и смотрим на получившиеся веса, сдвиг и среднюю абсолютную ошибку\n",
    "\n",
    "# Вводим иксы\n",
    "X = data[['CRIM', 'ZN', 'CHAS', 'NOX', 'RM', 'AGE', 'DIS', 'RAD', 'TAX', 'PTRATIO', 'B', 'LSTAT']]\n",
    "# Вводим игреки\n",
    "y = data['MEDV']\n",
    "# Обучаем модель\n",
    "reg = LinearRegression().fit(X, y)\n",
    "# Определяем веса (коэффициенты перед Х):\n",
    "print('Weights: {}'.format(reg.coef_))\n",
    "# Сдвиг\n",
    "print('Bias: {}'.format(reg.intercept_))\n",
    "\n",
    "# С помощью обученной модели и иксов предсказываем игреки\n",
    "pred_values = reg.predict(data[['CRIM', 'ZN', 'CHAS', 'NOX', 'RM', 'AGE', 'DIS', 'RAD', 'TAX', 'PTRATIO', 'B', 'LSTAT']])\n",
    "# Считаем абсолютную ошибку\n",
    "print('Error: {}'.format(mean_absolute_error(pred_values, y)))\n",
    "print('Median:', y.median())\n",
    "print(f'Error in %: {round((mean_absolute_error(pred_values, y) / y.median() * 100), 2)}')"
   ]
  },
  {
   "cell_type": "markdown",
   "metadata": {},
   "source": [
    "Участок будет явно дороже, если он граничит с рекой Чарльз, на которой проводится известная регата, а также расположены такие университеты как Harvard и MIT. Оставляем."
   ]
  },
  {
   "cell_type": "markdown",
   "metadata": {},
   "source": [
    "Концентрацию окиси азота, вероятно, невооруженным носом сложно измерить, и я бы исключил ее из датасета, но сравнительно высокой вес данного параметра не дает мне это сделать. Похоже, американцы используют дополнительные средства для выявления данного показателя, и для них он важен."
   ]
  },
  {
   "cell_type": "markdown",
   "metadata": {},
   "source": [
    "Среднее количество комнат в жилом помещении напрямую влияет на стоимость. Не в ста процентах случаев, но в основном так. Не трогаем."
   ]
  },
  {
   "cell_type": "markdown",
   "metadata": {},
   "source": [
    "Доля занятых собственниками зданий, построенных до 1940 г., на мой взгляд не имеет большого значения. Удаляем.  \n",
    "Посмотрим, как будет выглядеть модель без этого параметра."
   ]
  },
  {
   "cell_type": "code",
   "execution_count": 7,
   "metadata": {},
   "outputs": [
    {
     "name": "stdout",
     "output_type": "stream",
     "text": [
      "Weights: [-1.08005604e-01  4.63336607e-02  2.05621774e-02  2.68902620e+00\n",
      " -1.77135399e+01  3.81439356e+00 -1.47861155e+00  3.05785940e-01\n",
      " -1.23286922e-02 -9.52211173e-01  9.32065314e-03 -5.23851840e-01]\n",
      "Bias: 36.43692664760272\n",
      "Error: 3.2706317845585002\n",
      "Median: 21.2\n",
      "Error in %: 15.43\n"
     ]
    }
   ],
   "source": [
    "# Обучаем модель линейной регрессии и смотрим на получившиеся веса, сдвиг и среднюю абсолютную ошибку\n",
    "\n",
    "# Вводим иксы\n",
    "X = data[['CRIM', 'ZN', 'INDUS', 'CHAS', 'NOX', 'RM', 'DIS', 'RAD', 'TAX', 'PTRATIO', 'B', 'LSTAT']]\n",
    "# Вводим игреки\n",
    "y = data['MEDV']\n",
    "# Обучаем модель\n",
    "reg = LinearRegression().fit(X, y)\n",
    "# Определяем веса (коэффициенты перед Х):\n",
    "print('Weights: {}'.format(reg.coef_))\n",
    "# Сдвиг\n",
    "print('Bias: {}'.format(reg.intercept_))\n",
    "\n",
    "# С помощью обученной модели и иксов предсказываем игреки\n",
    "pred_values = reg.predict(data[['CRIM', 'ZN', 'INDUS', 'CHAS', 'NOX', 'RM', 'DIS', 'RAD', 'TAX', 'PTRATIO', 'B', 'LSTAT']])\n",
    "# Считаем абсолютную ошибку\n",
    "print('Error: {}'.format(mean_absolute_error(pred_values, y)))\n",
    "print('Median:', y.median())\n",
    "print(f'Error in %: {round((mean_absolute_error(pred_values, y) / y.median() * 100), 2)}')"
   ]
  },
  {
   "cell_type": "markdown",
   "metadata": {},
   "source": [
    "Можно было бы удалить параметр удаленности от центров занятости, но по какой-то причине он имеет хороший отрицательный вес. Люди далеко на каждый день туда обращаются, а многие - никогда. Странно, но придется оставить."
   ]
  },
  {
   "cell_type": "markdown",
   "metadata": {},
   "source": [
    "Доступность радиальных магистралей сильно влият на стоимость."
   ]
  },
  {
   "cell_type": "markdown",
   "metadata": {},
   "source": [
    "Налоговая ставка также играет роль."
   ]
  },
  {
   "cell_type": "markdown",
   "metadata": {},
   "source": [
    "Чем меньше соотношение учеников к учителям, тем более интеллигентным получается усредненный взрослый человек, а именно по этому срезу населения и судят о районе. Вес в модели подтверждает эту догадку. Поэтому оставляем."
   ]
  },
  {
   "cell_type": "markdown",
   "metadata": {},
   "source": [
    "Убираем нетолерантное деление по цвету кожи. Вес в модели, к слову, очень низкий и даже положительный. Плюс, на глаз такое соотношение довольно сложно определить, если, конечно, речь не идет о нью-йоркском Гарлеме.  \n",
    "Посмотрим, как будет выглядеть модель без этого параметра."
   ]
  },
  {
   "cell_type": "code",
   "execution_count": 8,
   "metadata": {},
   "outputs": [
    {
     "name": "stdout",
     "output_type": "stream",
     "text": [
      "Weights: [-1.21388618e-01  4.69634633e-02  1.34676947e-02  2.83999338e+00\n",
      " -1.87580220e+01  3.65811904e+00  3.61071055e-03 -1.49075365e+00\n",
      "  2.89404521e-01 -1.26819813e-02 -9.37532900e-01 -5.52019101e-01]\n",
      "Bias: 41.61727017595486\n",
      "Error: 3.3563060455291502\n",
      "Median: 21.2\n",
      "Error in %: 15.83\n"
     ]
    }
   ],
   "source": [
    "# Обучаем модель линейной регрессии и смотрим на получившиеся веса, сдвиг и среднюю абсолютную ошибку\n",
    "\n",
    "# Вводим иксы\n",
    "X = data[['CRIM', 'ZN', 'INDUS', 'CHAS', 'NOX', 'RM', 'AGE', 'DIS', 'RAD', 'TAX', 'PTRATIO', 'LSTAT']]\n",
    "# Вводим игреки\n",
    "y = data['MEDV']\n",
    "# Обучаем модель\n",
    "reg = LinearRegression().fit(X, y)\n",
    "# Определяем веса (коэффициенты перед Х):\n",
    "print('Weights: {}'.format(reg.coef_))\n",
    "# Сдвиг\n",
    "print('Bias: {}'.format(reg.intercept_))\n",
    "\n",
    "# С помощью обученной модели и иксов предсказываем игреки\n",
    "pred_values = reg.predict(data[['CRIM', 'ZN', 'INDUS', 'CHAS', 'NOX', 'RM', 'AGE', 'DIS', 'RAD', 'TAX', 'PTRATIO', 'LSTAT']])\n",
    "# Считаем абсолютную ошибку\n",
    "print('Error: {}'.format(mean_absolute_error(pred_values, y)))\n",
    "print('Median:', y.median())\n",
    "print(f'Error in %: {round((mean_absolute_error(pred_values, y) / y.median() * 100), 2)}')"
   ]
  },
  {
   "cell_type": "markdown",
   "metadata": {},
   "source": [
    "Доля населения с низким статусом (взрослое население без шкльного образования и рабочие) очевидно негативно влияет на статус района, снижая стоимость жилья. Важный показатель. Оставляем."
   ]
  },
  {
   "cell_type": "markdown",
   "metadata": {},
   "source": [
    "Сведем все выводы (правильные и не очень) в общую модель и новый датасет."
   ]
  },
  {
   "cell_type": "code",
   "execution_count": 9,
   "metadata": {},
   "outputs": [
    {
     "data": {
      "text/html": [
       "<div>\n",
       "<style scoped>\n",
       "    .dataframe tbody tr th:only-of-type {\n",
       "        vertical-align: middle;\n",
       "    }\n",
       "\n",
       "    .dataframe tbody tr th {\n",
       "        vertical-align: top;\n",
       "    }\n",
       "\n",
       "    .dataframe thead th {\n",
       "        text-align: right;\n",
       "    }\n",
       "</style>\n",
       "<table border=\"1\" class=\"dataframe\">\n",
       "  <thead>\n",
       "    <tr style=\"text-align: right;\">\n",
       "      <th></th>\n",
       "      <th>CRIM</th>\n",
       "      <th>CHAS</th>\n",
       "      <th>NOX</th>\n",
       "      <th>RM</th>\n",
       "      <th>DIS</th>\n",
       "      <th>RAD</th>\n",
       "      <th>TAX</th>\n",
       "      <th>PTRATIO</th>\n",
       "      <th>LSTAT</th>\n",
       "      <th>MEDV</th>\n",
       "    </tr>\n",
       "  </thead>\n",
       "  <tbody>\n",
       "    <tr>\n",
       "      <th>0</th>\n",
       "      <td>0.00632</td>\n",
       "      <td>0</td>\n",
       "      <td>0.538</td>\n",
       "      <td>6.575</td>\n",
       "      <td>4.0900</td>\n",
       "      <td>1</td>\n",
       "      <td>296</td>\n",
       "      <td>15.3</td>\n",
       "      <td>4.98</td>\n",
       "      <td>24.0</td>\n",
       "    </tr>\n",
       "    <tr>\n",
       "      <th>1</th>\n",
       "      <td>0.02731</td>\n",
       "      <td>0</td>\n",
       "      <td>0.469</td>\n",
       "      <td>6.421</td>\n",
       "      <td>4.9671</td>\n",
       "      <td>2</td>\n",
       "      <td>242</td>\n",
       "      <td>17.8</td>\n",
       "      <td>9.14</td>\n",
       "      <td>21.6</td>\n",
       "    </tr>\n",
       "    <tr>\n",
       "      <th>2</th>\n",
       "      <td>0.02729</td>\n",
       "      <td>0</td>\n",
       "      <td>0.469</td>\n",
       "      <td>7.185</td>\n",
       "      <td>4.9671</td>\n",
       "      <td>2</td>\n",
       "      <td>242</td>\n",
       "      <td>17.8</td>\n",
       "      <td>4.03</td>\n",
       "      <td>34.7</td>\n",
       "    </tr>\n",
       "    <tr>\n",
       "      <th>3</th>\n",
       "      <td>0.03237</td>\n",
       "      <td>0</td>\n",
       "      <td>0.458</td>\n",
       "      <td>6.998</td>\n",
       "      <td>6.0622</td>\n",
       "      <td>3</td>\n",
       "      <td>222</td>\n",
       "      <td>18.7</td>\n",
       "      <td>2.94</td>\n",
       "      <td>33.4</td>\n",
       "    </tr>\n",
       "    <tr>\n",
       "      <th>4</th>\n",
       "      <td>0.06905</td>\n",
       "      <td>0</td>\n",
       "      <td>0.458</td>\n",
       "      <td>7.147</td>\n",
       "      <td>6.0622</td>\n",
       "      <td>3</td>\n",
       "      <td>222</td>\n",
       "      <td>18.7</td>\n",
       "      <td>5.33</td>\n",
       "      <td>36.2</td>\n",
       "    </tr>\n",
       "  </tbody>\n",
       "</table>\n",
       "</div>"
      ],
      "text/plain": [
       "      CRIM  CHAS    NOX     RM     DIS  RAD  TAX  PTRATIO  LSTAT  MEDV\n",
       "0  0.00632     0  0.538  6.575  4.0900    1  296     15.3   4.98  24.0\n",
       "1  0.02731     0  0.469  6.421  4.9671    2  242     17.8   9.14  21.6\n",
       "2  0.02729     0  0.469  7.185  4.9671    2  242     17.8   4.03  34.7\n",
       "3  0.03237     0  0.458  6.998  6.0622    3  222     18.7   2.94  33.4\n",
       "4  0.06905     0  0.458  7.147  6.0622    3  222     18.7   5.33  36.2"
      ]
     },
     "execution_count": 9,
     "metadata": {},
     "output_type": "execute_result"
    }
   ],
   "source": [
    "data_corr = data.drop(['ZN', 'INDUS', 'AGE', 'B'], axis=1)\n",
    "data_corr.head()"
   ]
  },
  {
   "cell_type": "code",
   "execution_count": 10,
   "metadata": {},
   "outputs": [
    {
     "name": "stdout",
     "output_type": "stream",
     "text": [
      "Weights: [-1.11462941e-01  2.86602898e+00 -1.95345227e+01  3.87503339e+00\n",
      " -1.19893871e+00  2.68457812e-01 -1.00484636e-02 -1.08200076e+00\n",
      " -5.46013436e-01]\n",
      "Bias: 42.18608301936494\n",
      "Error: 3.4165415513149737\n",
      "Median: 21.2\n",
      "Error in %: 16.12\n"
     ]
    }
   ],
   "source": [
    "# Обучаем модель линейной регрессии и смотрим на получившиеся веса, сдвиг и среднюю абсолютную ошибку\n",
    "\n",
    "# Вводим иксы\n",
    "X = data_corr[['CRIM', 'CHAS', 'NOX', 'RM', 'DIS', 'RAD', 'TAX', 'PTRATIO', 'LSTAT']]\n",
    "# Вводим игреки\n",
    "y = data_corr['MEDV']\n",
    "# Обучаем модель\n",
    "reg = LinearRegression().fit(X, y)\n",
    "# Определяем веса (коэффициенты перед Х):\n",
    "print('Weights: {}'.format(reg.coef_))\n",
    "# Сдвиг\n",
    "print('Bias: {}'.format(reg.intercept_))\n",
    "\n",
    "# С помощью обученной модели и иксов предсказываем игреки\n",
    "pred_values = reg.predict(data_corr[['CRIM', 'CHAS', 'NOX', 'RM', 'DIS', 'RAD', 'TAX', 'PTRATIO', 'LSTAT']])\n",
    "# Считаем абсолютную ошибку\n",
    "print('Error: {}'.format(mean_absolute_error(pred_values, y)))\n",
    "print('Median:', y.median())\n",
    "print(f'Error in %: {round((mean_absolute_error(pred_values, y) / y.median() * 100), 2)}')"
   ]
  },
  {
   "cell_type": "markdown",
   "metadata": {},
   "source": [
    "Модель логически стала более правильной, но тест показывает, что ошибка в предсказании увеличилась на один процент."
   ]
  },
  {
   "cell_type": "markdown",
   "metadata": {},
   "source": [
    "Уважаемый преподаватель, очень жду ваш комментарий. В чем может быть загвоздка, и как с этим бороться?"
   ]
  }
 ],
 "metadata": {
  "kernelspec": {
   "display_name": "Python 3",
   "language": "python",
   "name": "python3"
  },
  "language_info": {
   "codemirror_mode": {
    "name": "ipython",
    "version": 3
   },
   "file_extension": ".py",
   "mimetype": "text/x-python",
   "name": "python",
   "nbconvert_exporter": "python",
   "pygments_lexer": "ipython3",
   "version": "3.7.6"
  }
 },
 "nbformat": 4,
 "nbformat_minor": 4
}

{
 "cells": [
  {
   "cell_type": "markdown",
   "metadata": {},
   "source": [
    "**Задание 1.**  \n",
    "Напишите функцию, которая принимает на вход строку и проверяет является ли она валидным транспортным номером. Если да, то функция должна возвращать отдельно номер и регион."
   ]
  },
  {
   "cell_type": "code",
   "execution_count": 1,
   "metadata": {},
   "outputs": [],
   "source": [
    "import re"
   ]
  },
  {
   "cell_type": "code",
   "execution_count": 2,
   "metadata": {},
   "outputs": [],
   "source": [
    "# ГОСТом разрешены 12 букв кириллицы,имеющие графические аналоги в латинском алфавите - А, В, Е, К, М, Н, О, Р, С, Т, У, Х\n",
    "\n",
    "def correct_reg_number(string):\n",
    "    reg_number_pattern = r'^[АВЕКМНОРСТУХавекмнорстух]\\d{3}[АВЕКМНОРСТУХавекмнорстух]{2}\\d{2,3}$'\n",
    "    if re.findall(reg_number_pattern, string):\n",
    "        return re.findall(r'\\d{2,3}', string)\n",
    "    else:\n",
    "        print('Wrong registration number')"
   ]
  },
  {
   "cell_type": "code",
   "execution_count": 3,
   "metadata": {},
   "outputs": [
    {
     "data": {
      "text/plain": [
       "['777', '199']"
      ]
     },
     "execution_count": 3,
     "metadata": {},
     "output_type": "execute_result"
    }
   ],
   "source": [
    "correct_reg_number('е777кх199')"
   ]
  },
  {
   "cell_type": "code",
   "execution_count": 4,
   "metadata": {},
   "outputs": [
    {
     "name": "stdout",
     "output_type": "stream",
     "text": [
      "Wrong registration number\n"
     ]
    }
   ],
   "source": [
    "correct_reg_number('е777кхххх199')"
   ]
  },
  {
   "cell_type": "markdown",
   "metadata": {},
   "source": [
    "**Задание 2.**  \n",
    "Постарайтесь написать (в крайнем случае найти) самый полный шаблон для проверки e-mail адресов через регулярное выражение, которая проверяет e-mail адрес на валидность. Можно руководствоваться следующими минимальными требованиями:  \n",
    "\n",
    "• адрес должен содержать специальный символ “@”, который отделяет имя пользователя почтовой системы от доменного имени;  \n",
    "• адрес не должен содержать следующие символы: “пробел”, “,”, “:”, “;”, “!”, “#”, “%”, “*”, “(”, “)”, “=”, “+”, “{”, “}”, \" \" \", \" ’ \", \" / \", \" \\ \" и “|”;  \n",
    "• адрес должен состоять только из латинских символов;  \n",
    "• после символа “@” должна быть как минимум одна “.”;  \n",
    "• после последней точки должно быть не менее 2-х и не более 4-х символов, причем наличие цифр не допускается;  \n",
    "• между последней точкой и символом “@” должно быть не менее 2-х символов  \n",
    "• слева от “@” должно быть не менее четырех символов"
   ]
  },
  {
   "cell_type": "code",
   "execution_count": 5,
   "metadata": {},
   "outputs": [
    {
     "name": "stdout",
     "output_type": "stream",
     "text": [
      "['harry.potter@hogwarts.co.uk']\n",
      "[]\n",
      "['harry-potter9.34@hogwarts.co.uk']\n",
      "[]\n",
      "['934hp@hogwarts.co.uk']\n",
      "[]\n",
      "['HaRrYpOtTeR@hOgWaRtS.cO.uK']\n",
      "[]\n",
      "['harry.potter@hogwarts.com']\n",
      "[]\n",
      "['harry.potter@hogwarts.ru']\n",
      "[]\n",
      "['harry.potter@ho.com']\n",
      "[]\n"
     ]
    }
   ],
   "source": [
    "email_pattern = r'^[A-Za-z0-9._-]{4,}@[A-Za-z0-9_-]{2,}[A-Za-z0-9._-]*\\.[A-Za-z]{2,3}$'\n",
    "\n",
    "print(re.findall(email_pattern, 'harry.potter@hogwarts.co.uk'))\n",
    "print(re.findall(email_pattern, 'harry potter@hogwarts.co.uk'))\n",
    "print(re.findall(email_pattern, 'harry-potter9.34@hogwarts.co.uk'))\n",
    "print(re.findall(email_pattern, 'harry-potter9.3/4@hogwarts.co.uk'))\n",
    "print(re.findall(email_pattern, '934hp@hogwarts.co.uk'))\n",
    "print(re.findall(email_pattern, 'hp@hogwarts.co.uk'))\n",
    "print(re.findall(email_pattern, 'HaRrYpOtTeR@hOgWaRtS.cO.uK'))\n",
    "print(re.findall(email_pattern, 'harry.potter@hogwarts.c'))\n",
    "print(re.findall(email_pattern, 'harry.potter@hogwarts.com'))\n",
    "print(re.findall(email_pattern, 'harry.potter@hogwarts.come'))\n",
    "print(re.findall(email_pattern, 'harry.potter@hogwarts.ru'))\n",
    "print(re.findall(email_pattern, 'harry.potter@hogwartscom'))\n",
    "print(re.findall(email_pattern, 'harry.potter@ho.com'))\n",
    "print(re.findall(email_pattern, 'harry.potter@h.com'))"
   ]
  },
  {
   "cell_type": "markdown",
   "metadata": {},
   "source": [
    "**Задание 3.**  \n",
    "Напишите функцию, которая будет удалять все последовательные повторы слов из заданной строки при помощи регулярных выражений."
   ]
  },
  {
   "cell_type": "code",
   "execution_count": 6,
   "metadata": {},
   "outputs": [
    {
     "data": {
      "text/plain": [
       "'Hello World! Goodbye my Love Goodbye!'"
      ]
     },
     "execution_count": 6,
     "metadata": {},
     "output_type": "execute_result"
    }
   ],
   "source": [
    "def del_rep(string):\n",
    "    return re.sub(r'(\\w+)( \\1)+', r'\\1', string)\n",
    "\n",
    "text = 'Hello World World World! Goodbye my Love Love Love Goodbye!'\n",
    "del_rep(text)"
   ]
  },
  {
   "cell_type": "markdown",
   "metadata": {},
   "source": [
    "**Задание 4.**  \n",
    "Напишите функцию, которая будет проверять номер сотового телефона на валидность, если он валиден, то переводить его в формат:  \n",
    "+7(xxx)-xxx-xx-xx  \n",
    "Постарайтесь предусмотреть как можно больше адекватных форматов изначального ввода номера. Примеры валидных форматов:  \n",
    "• +7 955 555-55-55;  \n",
    "• 9555555555;  \n",
    "• 8(955)555-55-55;  \n",
    "• +7 955 555 55 55;  \n",
    "• 7(955) 555-55-55;  \n",
    "• +7 955+555+55+55."
   ]
  },
  {
   "cell_type": "code",
   "execution_count": 7,
   "metadata": {},
   "outputs": [
    {
     "name": "stdout",
     "output_type": "stream",
     "text": [
      "+7(955)-555-55-55\n",
      "+7(955)-555-55-55\n",
      "+7(955)-555-55-55\n",
      "+7(955)-555-55-55\n",
      "+7(955)-555-55-55\n",
      "+7(955)-555-55-55\n",
      "Wrong format\n",
      "Wrong format\n",
      "Wrong format\n"
     ]
    }
   ],
   "source": [
    "def correct_phone_number(string):\n",
    "    phone_number_pattern = r'^\\+?7?8?[\\s\\+\\-]?\\(?\\d{3}\\)?[\\s\\+\\-]?\\d{3}[\\s\\+\\-]?\\d{2}[\\s\\+\\-]?\\d{2}$'\n",
    "    if re.findall(phone_number_pattern, string):\n",
    "        phone_number_pattern_groups = r'\\+?7?8?[\\s\\+\\-]?\\(?(\\d{3})\\)?[\\s\\+\\-]?(\\d{3})[\\s\\+\\-]?(\\d{2})[\\s\\+\\-]?(\\d{2})'\n",
    "        return re.sub(phone_number_pattern_groups, r'+7(\\1)-\\2-\\3-\\4', string)\n",
    "    else:\n",
    "        return 'Wrong format'\n",
    "\n",
    "print(correct_phone_number('+7 955 555-55-55'))\n",
    "print(correct_phone_number('9555555555'))\n",
    "print(correct_phone_number('8(955)555-55-55'))\n",
    "print(correct_phone_number('+7 955 555 55 55'))\n",
    "print(correct_phone_number('7(955) 555-55-55'))\n",
    "print(correct_phone_number('+7 955+555+55+55'))\n",
    "print(correct_phone_number('+7 955-5555555555555-55-55'))\n",
    "print(correct_phone_number('7955 555?55?55'))\n",
    "print(correct_phone_number('+4 955 555 55 55'))"
   ]
  },
  {
   "cell_type": "code",
   "execution_count": 8,
   "metadata": {},
   "outputs": [
    {
     "name": "stdout",
     "output_type": "stream",
     "text": [
      "['+7 955 555-55-55']\n",
      "['9555555555']\n",
      "['8(955)555-55-55']\n",
      "['+7 955 555 55 55']\n",
      "['7(955) 555-55-55']\n",
      "['+7 955+555+55+55']\n",
      "[]\n",
      "[]\n",
      "[]\n",
      "=================\n",
      "+7(955)-555-55-55\n",
      "+7(955)-555-55-55\n",
      "+7(955)-555-55-55\n",
      "+7(955)-555-55-55\n",
      "+7(955)-555-55-55\n",
      "+7(955)-555-55-55\n"
     ]
    }
   ],
   "source": [
    "# Приведено для справки, чтобы было видно, что происходит внутри функции\n",
    "\n",
    "phone_number_pattern = r'^\\+?7?8?[\\s\\+\\-]?\\(?\\d{3}\\)?[\\s\\+\\-]?\\d{3}[\\s\\+\\-]?\\d{2}[\\s\\+\\-]?\\d{2}$'\n",
    "\n",
    "print(re.findall(phone_number_pattern, '+7 955 555-55-55'))\n",
    "print(re.findall(phone_number_pattern, '9555555555'))\n",
    "print(re.findall(phone_number_pattern, '8(955)555-55-55'))\n",
    "print(re.findall(phone_number_pattern, '+7 955 555 55 55'))\n",
    "print(re.findall(phone_number_pattern, '7(955) 555-55-55'))\n",
    "print(re.findall(phone_number_pattern, '+7 955+555+55+55'))\n",
    "print(re.findall(phone_number_pattern, '+7 955-5555555555555-55-55'))\n",
    "print(re.findall(phone_number_pattern, '7955 555?55?55'))\n",
    "print(re.findall(phone_number_pattern, '+4 955 555 55 55'))\n",
    "print('=================')\n",
    "\n",
    "phone_number_pattern_groups = r'\\+?7?8?[\\s\\+\\-]?\\(?(\\d{3})\\)?[\\s\\+\\-]?(\\d{3})[\\s\\+\\-]?(\\d{2})[\\s\\+\\-]?(\\d{2})'\n",
    "\n",
    "print(re.sub(phone_number_pattern_groups, r'+7(\\1)-\\2-\\3-\\4', '+7 955 555-55-55'))\n",
    "print(re.sub(phone_number_pattern_groups, r'+7(\\1)-\\2-\\3-\\4', '9555555555'))\n",
    "print(re.sub(phone_number_pattern_groups, r'+7(\\1)-\\2-\\3-\\4', '8(955)555-55-55'))\n",
    "print(re.sub(phone_number_pattern_groups, r'+7(\\1)-\\2-\\3-\\4', '+7 955 555 55 55'))\n",
    "print(re.sub(phone_number_pattern_groups, r'+7(\\1)-\\2-\\3-\\4', '7(955) 555-55-55'))\n",
    "print(re.sub(phone_number_pattern_groups, r'+7(\\1)-\\2-\\3-\\4', '+7 955+555+55+55'))"
   ]
  }
 ],
 "metadata": {
  "kernelspec": {
   "display_name": "Python 3",
   "language": "python",
   "name": "python3"
  },
  "language_info": {
   "codemirror_mode": {
    "name": "ipython",
    "version": 3
   },
   "file_extension": ".py",
   "mimetype": "text/x-python",
   "name": "python",
   "nbconvert_exporter": "python",
   "pygments_lexer": "ipython3",
   "version": "3.7.6"
  }
 },
 "nbformat": 4,
 "nbformat_minor": 4
}

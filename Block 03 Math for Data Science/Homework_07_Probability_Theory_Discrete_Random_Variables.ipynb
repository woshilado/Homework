{
 "cells": [
  {
   "cell_type": "markdown",
   "metadata": {},
   "source": [
    "**Уровень 0**  \n",
    "**Задание 1**  \n",
    "Монетку подбрасывают 15 раз, найдите вероятность выпадения простого числа орлов (решение на бумажке и на python)."
   ]
  },
  {
   "cell_type": "code",
   "execution_count": 1,
   "metadata": {},
   "outputs": [],
   "source": [
    "import math\n",
    "import numpy as np\n",
    "import matplotlib.pyplot as plt\n",
    "import statistics"
   ]
  },
  {
   "cell_type": "markdown",
   "metadata": {},
   "source": [
    "Ренение \"на бумажке\":"
   ]
  },
  {
   "cell_type": "markdown",
   "metadata": {},
   "source": [
    "Число является простым, если оно больше 1 и при этом делится без остатка только на 1 и на самого себя. По условию монетку подбрасывают 15 раз, а это значит, что нам подходят простые числа не превышающие 15, т.е. 2, 3, 5, 7, 11 и 13."
   ]
  },
  {
   "cell_type": "markdown",
   "metadata": {},
   "source": [
    "Найдем количество всех равновозможных элементарных исходов эксперимента, заключающегося в подбрасывании монеты 15 раз. Для этого воспользуемся формулой комбинаторики для числа размещений с повторениями из 2 объектов по 15 позициям, т.е. \n",
    "\n",
    "$n = A_{2}^{15}=2^{15} = 32768$  \n",
    "\n",
    "Найдем число таких последовательностей, где орел встречается ровно 2 раза, затем 3, 5, 7, 11, 13, после чего сложим их для получения общего числа благоприятствующих исходов. Для этого воспользуемся формулой определения числа сочетаний.  \n",
    "\n",
    "$m = C_{2}^{15} + C_{3}^{15} + C_{5}^{15} + C_{7}^{15} + C_{11}^{15} + C_{13}^{15} =$  \n",
    "$= \\displaystyle \\frac{15!}{2!\\cdot(15-2)!} + \\displaystyle \\frac{15!}{3!\\cdot(15-3)!} + \\displaystyle \\frac{15!}{5!\\cdot(15-5)!} + \\displaystyle \\frac{15!}{7!\\cdot(15-7)!} + \\displaystyle \\frac{15!}{11!\\cdot(15-11)!} + \\displaystyle \\frac{15!}{13!\\cdot(15-13)!} = 11468$  \n",
    "\n",
    "Найдем значение вероятности.  \n",
    "\n",
    "$P = \\displaystyle \\frac{m}{n} = \\displaystyle \\frac{11468}{32768} = 0.3499755859375$"
   ]
  },
  {
   "cell_type": "markdown",
   "metadata": {},
   "source": [
    "Решение на Python:"
   ]
  },
  {
   "cell_type": "code",
   "execution_count": 2,
   "metadata": {},
   "outputs": [
    {
     "data": {
      "text/plain": [
       "0.3499755859375"
      ]
     },
     "execution_count": 2,
     "metadata": {},
     "output_type": "execute_result"
    }
   ],
   "source": [
    "# количество всех равновозможных элементарных исходов\n",
    "n = 2**15\n",
    "# число благоприятствующих исходов\n",
    "m = math.factorial(15)/(math.factorial(2)*math.factorial(13))+math.factorial(15)/(math.factorial(3)*math.factorial(12))+math.factorial(15)/(math.factorial(5)*math.factorial(10))+math.factorial(15)/(math.factorial(7)*math.factorial(8))+math.factorial(15)/(math.factorial(11)*math.factorial(4))+math.factorial(15)/(math.factorial(13)*math.factorial(2))\n",
    "# значение вероятности\n",
    "p = m/n\n",
    "p"
   ]
  },
  {
   "cell_type": "markdown",
   "metadata": {},
   "source": [
    "**Задание 2**  \n",
    "Создайте свою дискретную случайную величину с не менее, чем 10 значениями. Просемплируйте 1000 случайных значений, постройте гистограмму плотности распределения по выборке, посчитайте среднее, дисперсию и медиану."
   ]
  },
  {
   "cell_type": "markdown",
   "metadata": {},
   "source": [
    "Создаем случайную величину из 1000 случаных значений при учете, что уникальных значений только 30 (от 1 до 30)"
   ]
  },
  {
   "cell_type": "code",
   "execution_count": 3,
   "metadata": {},
   "outputs": [
    {
     "name": "stdout",
     "output_type": "stream",
     "text": [
      "[19, 12, 26, 4, 21, 11, 27, 22, 11, 7, 3, 1, 26, 27, 20, 5, 23, 5, 7, 12, 8, 6, 29, 20, 23, 24, 16, 9, 2, 16, 17, 4, 7, 3, 21, 22, 19, 22, 9, 22, 2, 5, 17, 2, 2, 24, 27, 22, 10, 24, 10, 29, 7, 1, 24, 24, 10, 6, 24, 24, 2, 20, 21, 8, 11, 14, 22, 6, 5, 3, 19, 25, 15, 23, 21, 21, 29, 14, 7, 2, 14, 3, 5, 7, 20, 7, 27, 13, 17, 28, 17, 26, 17, 26, 24, 6, 14, 2, 12, 28, 26, 14, 15, 25, 18, 20, 6, 14, 4, 20, 4, 26, 17, 28, 23, 25, 8, 1, 16, 13, 1, 17, 28, 5, 17, 11, 15, 28, 7, 8, 22, 24, 3, 17, 19, 8, 10, 2, 29, 12, 13, 13, 14, 13, 21, 14, 7, 20, 26, 4, 26, 21, 10, 29, 21, 10, 13, 5, 12, 9, 17, 27, 23, 10, 7, 25, 19, 13, 5, 16, 27, 3, 25, 17, 15, 1, 27, 23, 15, 28, 20, 14, 21, 25, 26, 23, 16, 10, 3, 6, 10, 3, 27, 12, 23, 20, 29, 5, 10, 13, 5, 19, 18, 13, 14, 25, 28, 2, 10, 24, 21, 7, 2, 9, 10, 23, 5, 23, 13, 4, 6, 2, 26, 4, 5, 18, 23, 7, 20, 6, 4, 10, 15, 16, 12, 27, 22, 25, 26, 21, 29, 1, 27, 7, 9, 13, 9, 15, 10, 15, 15, 6, 1, 24, 8, 17, 13, 22, 28, 1, 6, 3, 25, 2, 13, 11, 29, 16, 22, 13, 6, 1, 12, 24, 4, 6, 3, 21, 3, 6, 18, 7, 10, 14, 23, 20, 13, 14, 19, 17, 2, 14, 16, 2, 10, 2, 9, 1, 7, 9, 4, 8, 29, 23, 15, 23, 17, 16, 28, 28, 23, 23, 28, 20, 26, 13, 4, 16, 9, 9, 24, 16, 1, 18, 14, 27, 20, 4, 4, 22, 15, 21, 27, 23, 20, 10, 4, 14, 16, 18, 10, 7, 18, 26, 10, 19, 3, 11, 1, 29, 19, 14, 25, 12, 4, 24, 12, 15, 6, 8, 4, 23, 2, 21, 19, 2, 25, 12, 15, 14, 23, 2, 29, 2, 19, 3, 1, 12, 3, 20, 14, 17, 20, 25, 28, 6, 19, 28, 25, 5, 1, 13, 11, 8, 16, 29, 1, 29, 4, 26, 16, 16, 25, 23, 18, 21, 2, 29, 14, 26, 6, 12, 1, 22, 11, 24, 17, 4, 15, 22, 16, 14, 21, 18, 2, 2, 11, 17, 27, 29, 29, 13, 19, 13, 11, 2, 10, 7, 17, 7, 7, 21, 27, 10, 20, 5, 8, 17, 6, 2, 22, 22, 8, 26, 18, 17, 21, 5, 6, 28, 17, 1, 19, 29, 4, 3, 5, 25, 13, 28, 22, 20, 21, 9, 25, 8, 4, 8, 1, 15, 19, 24, 25, 14, 26, 17, 10, 17, 9, 7, 6, 4, 9, 18, 4, 23, 4, 2, 26, 3, 15, 11, 9, 17, 7, 27, 8, 24, 27, 29, 24, 6, 29, 16, 22, 9, 14, 27, 3, 4, 4, 18, 26, 14, 15, 24, 29, 23, 10, 29, 26, 21, 19, 5, 1, 3, 21, 24, 8, 5, 12, 4, 8, 25, 20, 7, 17, 23, 4, 8, 21, 25, 26, 5, 22, 27, 21, 10, 22, 28, 16, 9, 7, 23, 27, 23, 16, 21, 26, 9, 8, 22, 28, 20, 17, 16, 3, 1, 27, 18, 29, 3, 19, 13, 5, 26, 23, 22, 8, 10, 5, 13, 3, 7, 8, 23, 28, 27, 27, 15, 8, 6, 16, 18, 9, 2, 22, 16, 2, 6, 25, 23, 25, 15, 10, 9, 19, 15, 3, 29, 21, 6, 11, 8, 20, 2, 11, 11, 6, 4, 27, 28, 15, 7, 12, 18, 17, 26, 19, 25, 12, 4, 16, 7, 18, 15, 16, 29, 14, 14, 7, 27, 16, 2, 7, 9, 11, 14, 13, 17, 27, 26, 16, 28, 8, 20, 11, 4, 6, 19, 12, 3, 19, 21, 2, 27, 21, 17, 10, 23, 9, 7, 8, 26, 11, 16, 28, 27, 2, 15, 4, 16, 24, 4, 23, 24, 13, 26, 12, 29, 23, 1, 1, 12, 20, 12, 6, 14, 14, 27, 2, 4, 29, 12, 25, 24, 25, 8, 26, 10, 20, 24, 1, 3, 21, 4, 3, 6, 26, 10, 21, 15, 20, 8, 13, 9, 23, 28, 4, 6, 6, 18, 14, 29, 22, 23, 22, 15, 23, 23, 6, 28, 10, 26, 21, 20, 3, 13, 5, 13, 26, 22, 7, 5, 28, 10, 2, 3, 19, 7, 26, 13, 19, 29, 21, 29, 25, 2, 22, 3, 19, 20, 3, 27, 23, 11, 20, 18, 22, 25, 23, 28, 10, 15, 17, 9, 3, 22, 7, 13, 5, 9, 5, 12, 27, 11, 17, 15, 26, 8, 3, 1, 14, 24, 10, 14, 28, 15, 20, 25, 7, 9, 21, 12, 19, 26, 9, 21, 6, 21, 24, 17, 29, 24, 16, 17, 10, 9, 9, 11, 10, 10, 18, 19, 12, 14, 16, 17, 18, 22, 9, 24, 20, 8, 17, 27, 16, 7, 21, 13, 17, 9, 15, 23, 17, 8, 20, 29, 12, 25, 14, 18, 13, 18, 24, 3, 16, 26, 24, 7, 8, 29, 19, 13, 9, 25, 17, 2, 11, 8, 11, 23, 20, 21, 23, 27, 21, 12, 15, 14, 22, 20, 11, 22, 26, 25, 14, 11, 26, 18, 7, 14, 28, 16, 19, 24, 1, 26, 25, 16, 16, 21, 3, 25, 26, 24, 20, 26, 17, 28, 19, 28, 25, 5, 9, 10, 26, 14, 11, 5, 4, 10, 10, 26, 8, 29, 18, 29, 28, 19, 29, 28, 1, 26, 21, 23, 17, 23, 23, 16, 14, 20, 16, 8, 27, 11, 20, 16, 10, 21, 9, 24, 15, 16, 18, 29, 4, 27, 23, 16, 28, 5, 27, 11, 7, 2, 17, 2, 22, 2, 23, 21, 8, 15, 6, 16, 16, 18, 27, 16]\n"
     ]
    }
   ],
   "source": [
    "rand_var = np.random.randint(1, 30, 1000).tolist()\n",
    "print(rand_var)"
   ]
  },
  {
   "cell_type": "markdown",
   "metadata": {},
   "source": [
    "Строим гистограмму плотности распределения по выборке и делим на 10 столбцов"
   ]
  },
  {
   "cell_type": "code",
   "execution_count": 4,
   "metadata": {},
   "outputs": [
    {
     "data": {
      "image/png": "[encoded data removed]",
      "text/plain": [
       "<Figure size 432x288 with 1 Axes>"
      ]
     },
     "metadata": {
      "needs_background": "light"
     },
     "output_type": "display_data"
    }
   ],
   "source": [
    "plt.hist(rand_var, 10, facecolor='g')\n",
    "\n",
    "plt.xlabel('random variable')\n",
    "plt.ylabel('frequency')\n",
    "plt.title('Частотный график (разбиение интервала на 10 элементов)')\n",
    "plt.grid(True)\n",
    "plt.show()"
   ]
  },
  {
   "cell_type": "markdown",
   "metadata": {},
   "source": [
    "Считаем среднее значение случайной величины"
   ]
  },
  {
   "cell_type": "code",
   "execution_count": 5,
   "metadata": {},
   "outputs": [
    {
     "data": {
      "text/plain": [
       "15.336"
      ]
     },
     "execution_count": 5,
     "metadata": {},
     "output_type": "execute_result"
    }
   ],
   "source": [
    "statistics.mean(rand_var)"
   ]
  },
  {
   "cell_type": "markdown",
   "metadata": {},
   "source": [
    "Считаем дисперсию"
   ]
  },
  {
   "cell_type": "code",
   "execution_count": 6,
   "metadata": {},
   "outputs": [
    {
     "data": {
      "text/plain": [
       "69.649104"
      ]
     },
     "execution_count": 6,
     "metadata": {},
     "output_type": "execute_result"
    }
   ],
   "source": [
    "statistics.pvariance(rand_var)"
   ]
  },
  {
   "cell_type": "markdown",
   "metadata": {},
   "source": [
    "Считаем медиану"
   ]
  },
  {
   "cell_type": "code",
   "execution_count": 7,
   "metadata": {},
   "outputs": [
    {
     "data": {
      "text/plain": [
       "16.0"
      ]
     },
     "execution_count": 7,
     "metadata": {},
     "output_type": "execute_result"
    }
   ],
   "source": [
    "statistics.median(rand_var)"
   ]
  }
 ],
 "metadata": {
  "kernelspec": {
   "display_name": "Python 3",
   "language": "python",
   "name": "python3"
  },
  "language_info": {
   "codemirror_mode": {
    "name": "ipython",
    "version": 3
   },
   "file_extension": ".py",
   "mimetype": "text/x-python",
   "name": "python",
   "nbconvert_exporter": "python",
   "pygments_lexer": "ipython3",
   "version": "3.7.6"
  }
 },
 "nbformat": 4,
 "nbformat_minor": 4
}

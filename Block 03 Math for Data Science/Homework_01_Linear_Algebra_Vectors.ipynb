{
 "cells": [
  {
   "cell_type": "markdown",
   "metadata": {},
   "source": [
    "**Уровень 0:**  \n",
    "Даны вектора x=(1,1), y=(2, 0) и z = (0,2)  \n",
    "Надо:  \n",
    "Изобразить вектора на экране  \n",
    "Изобразить точку x + y + z  \n",
    "Найти угол между векторами x и y"
   ]
  },
  {
   "cell_type": "code",
   "execution_count": 1,
   "metadata": {},
   "outputs": [],
   "source": [
    "import numpy as np\n",
    "import matplotlib.pyplot as plt"
   ]
  },
  {
   "cell_type": "code",
   "execution_count": 2,
   "metadata": {},
   "outputs": [],
   "source": [
    "x = np.array([1, 1])\n",
    "y = np.array([2, 0])\n",
    "z = np.array([0, 2])"
   ]
  },
  {
   "cell_type": "code",
   "execution_count": 3,
   "metadata": {},
   "outputs": [
    {
     "data": {
      "image/png": "[encoded data removed]",
      "text/plain": [
       "<Figure size 432x288 with 1 Axes>"
      ]
     },
     "metadata": {
      "needs_background": "light"
     },
     "output_type": "display_data"
    }
   ],
   "source": [
    "plt.plot(x[0], x[1], 'o')\n",
    "plt.plot(y[0], y[1], 'o')\n",
    "plt.plot(z[0], z[1], 'o')\n",
    "# or\n",
    "# plt.scatter(x[0], x[1])\n",
    "# plt.scatter(y[0], y[1])\n",
    "# plt.scatter(z[0], z[1])\n",
    "# or\n",
    "# plt.scatter([x[0], y[0], z[0]],\n",
    "#             [x[1], y[1], z[1]])\n",
    "plt.grid()"
   ]
  },
  {
   "cell_type": "code",
   "execution_count": 4,
   "metadata": {},
   "outputs": [
    {
     "name": "stdout",
     "output_type": "stream",
     "text": [
      "[3 3]\n"
     ]
    },
    {
     "data": {
      "image/png": "[encoded data removed]",
      "text/plain": [
       "<Figure size 432x288 with 1 Axes>"
      ]
     },
     "metadata": {
      "needs_background": "light"
     },
     "output_type": "display_data"
    }
   ],
   "source": [
    "w = x + y + z\n",
    "print(w)\n",
    "plt.scatter(w[0], w[1])\n",
    "plt.grid()"
   ]
  },
  {
   "cell_type": "markdown",
   "metadata": {},
   "source": [
    "Поскольку скалярное произведение векторов является скаляром (числом), полученным в результате перемножения длин векторов на косинус угла между ними, то отсюда можно легко вычислить косинус угла."
   ]
  },
  {
   "cell_type": "code",
   "execution_count": 5,
   "metadata": {},
   "outputs": [
    {
     "name": "stdout",
     "output_type": "stream",
     "text": [
      "Угол между векторами х и у составляет 45.0 градусов\n"
     ]
    }
   ],
   "source": [
    "# длины векторов\n",
    "len_x = np.linalg.norm(x)\n",
    "len_y = np.linalg.norm(y)\n",
    "\n",
    "# косинус угла между векторами x и y (учитывая, что np.dot(x, y) = (len_x * len_y) * cos_xy)\n",
    "cos_xy = np.dot(x, y) / (len_x * len_y)\n",
    "\n",
    "# угол между векторами в градусах\n",
    "angle_xy = np.arccos(cos_xy) * 180 / np.pi\n",
    "\n",
    "print(f'Угол между векторами х и у составляет {round(angle_xy, 2)} градусов')"
   ]
  }
 ],
 "metadata": {
  "kernelspec": {
   "display_name": "Python 3",
   "language": "python",
   "name": "python3"
  },
  "language_info": {
   "codemirror_mode": {
    "name": "ipython",
    "version": 3
   },
   "file_extension": ".py",
   "mimetype": "text/x-python",
   "name": "python",
   "nbconvert_exporter": "python",
   "pygments_lexer": "ipython3",
   "version": "3.7.6"
  }
 },
 "nbformat": 4,
 "nbformat_minor": 4
}

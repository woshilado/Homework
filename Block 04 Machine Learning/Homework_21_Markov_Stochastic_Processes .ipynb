{
 "cells": [
  {
   "cell_type": "markdown",
   "metadata": {},
   "source": [
    "#### Домашнее задание к занятию \"Марковские случайные процессы\""
   ]
  },
  {
   "cell_type": "markdown",
   "metadata": {},
   "source": [
    "- Скачайте текст войны и мир (ссылка на [github](https://github.com/netology-code/ds3-spring-2018/tree/master/7.%20Time_series/7.4/war_and_peace) и [гугл диск](https://drive.google.com/drive/u/2/folders/1aM7cNI6Qs7AyeYpQ8lNg7vLsHzIl0JbU)). Очистите его, оставив только русские буквы и символы пробела.  \n",
    "Постройте матрицу переходных вероятностей.  \n",
    "Посчитайте вероятность встретить строку из 4-х символов, которая начинается п, а кончается на р;  \n",
    "Используя матрицу переходных вероятностей сгенерируйте слово, начинающееся с буквы \"Б\" и имеющее длину 8-мь символов\n",
    "- [Выберите ряд](https://datamarket.com/data/list/?q=cat:fpg%20provider:tsdl) и оцените его через HMM. Попробуйте \"построить\" (через среднее каждой компоненты) наивный прогноз ряда."
   ]
  },
  {
   "cell_type": "code",
   "execution_count": 1,
   "metadata": {},
   "outputs": [],
   "source": [
    "import numpy as np\n",
    "import re\n",
    "import matplotlib.pyplot as plt\n",
    "import seaborn as sns\n",
    "import pandas as pd\n",
    "from hmmlearn.hmm import GaussianHMM"
   ]
  },
  {
   "cell_type": "code",
   "execution_count": 2,
   "metadata": {},
   "outputs": [],
   "source": [
    "addr = 'C:/Users/gogol/Desktop/Netology/I work in this folder/Блок 4 Машинное обучение/21 Марковские случайные процессы/war_and_peace/'"
   ]
  },
  {
   "cell_type": "markdown",
   "metadata": {},
   "source": [
    "1.1 Скачиваем текст \"Войны и мир\" и оставляем только русские буквы и символы пробела"
   ]
  },
  {
   "cell_type": "code",
   "execution_count": 3,
   "metadata": {},
   "outputs": [],
   "source": [
    "with open(addr + 'tom_1.txt', 'r', encoding='utf-8') as tom1:\n",
    "    text1 = tom1.read().lower()\n",
    "with open(addr + 'tom_2.txt', 'r', encoding='utf-8') as tom2:\n",
    "    text2 = tom2.read().lower()\n",
    "with open(addr + 'tom_3.txt', 'r', encoding='utf-8') as tom3:\n",
    "    text3 = tom3.read().lower()\n",
    "with open(addr + 'tom_4.txt', 'r', encoding='utf-8') as tom4:\n",
    "    text4 = tom4.read().lower()\n",
    "\n",
    "text = text1 + ' ' + text2 + ' ' + text3 + ' ' + text4 # объединяем тома\n",
    "text = re.sub('[\\s]',' ', text)                        # заменяем все пробельные символы на обычный пробел\n",
    "text = re.sub('[^а-я ]','', text)                      # исключаем все символы, кроме кириллических букв и пробелов"
   ]
  },
  {
   "cell_type": "code",
   "execution_count": 4,
   "metadata": {},
   "outputs": [
    {
     "data": {
      "text/plain": [
       "'анна павловна кашляла несколько дней у нее был грипп как она говорила грипп был тогда новое слово употреблявшееся только редкими в записочках разосланных утром с красным лакеем было написано без различия'"
      ]
     },
     "execution_count": 4,
     "metadata": {},
     "output_type": "execute_result"
    }
   ],
   "source": [
    "text[1003:1206] # смотрим, что тут вообще происходит"
   ]
  },
  {
   "cell_type": "markdown",
   "metadata": {},
   "source": [
    "1.2 Строим матрицу переходных вероятностей"
   ]
  },
  {
   "cell_type": "code",
   "execution_count": 5,
   "metadata": {},
   "outputs": [],
   "source": [
    "RUSSIAN = 'абвгдежзийклмнопрстуфхцчшщъыьэюя ' # не забываем про пробел и исключаем букву ё (такой в книге нет)\n",
    "POS = {l: i for i, l in enumerate(RUSSIAN)}   # создаем словарь вида {'a': 0, 'б': 1, 'в': 2, ... , ' ': 32}"
   ]
  },
  {
   "cell_type": "code",
   "execution_count": 6,
   "metadata": {},
   "outputs": [],
   "source": [
    "probabilities = np.zeros((len(RUSSIAN), len(RUSSIAN))) # нулевая матрица 33х33"
   ]
  },
  {
   "cell_type": "code",
   "execution_count": 7,
   "metadata": {},
   "outputs": [],
   "source": [
    "for let1, let2 in zip(text[:-1], text[1:]):\n",
    "    probabilities[POS[let1], POS[let2]] += 1 # на пересечениях букв (переходах) к значению перехода добавляем +1"
   ]
  },
  {
   "cell_type": "code",
   "execution_count": 8,
   "metadata": {},
   "outputs": [],
   "source": [
    "probabilities = (probabilities / probabilities.sum(axis=1)[:, None]) # делим каждое знач. в строке матрицы на сумму всей строки"
   ]
  },
  {
   "cell_type": "code",
   "execution_count": 9,
   "metadata": {},
   "outputs": [],
   "source": [
    "df = pd.DataFrame(probabilities, index=(c for c in RUSSIAN), columns=(c for c in RUSSIAN))"
   ]
  },
  {
   "cell_type": "code",
   "execution_count": 10,
   "metadata": {},
   "outputs": [
    {
     "data": {
      "image/png": "[encoded data removed]",
      "text/plain": [
       "<Figure size 1008x576 with 2 Axes>"
      ]
     },
     "metadata": {
      "needs_background": "light"
     },
     "output_type": "display_data"
    }
   ],
   "source": [
    "plt.figure(figsize=(14,8))\n",
    "sns.heatmap(df)\n",
    "plt.show()"
   ]
  },
  {
   "cell_type": "markdown",
   "metadata": {},
   "source": [
    "1.3 Считаем вероятность встретить строку из 4-х символов, которая начинается на П, а кончается на Р"
   ]
  },
  {
   "cell_type": "code",
   "execution_count": 11,
   "metadata": {},
   "outputs": [
    {
     "name": "stdout",
     "output_type": "stream",
     "text": [
      "Общая вероятность встретить строку из 4-х символов, которая начинается на П, а кончается на Р: 0.0009676916660806726\n"
     ]
    }
   ],
   "source": [
    "start = POS['п']\n",
    "end = POS['р']\n",
    "sum_proba = 0\n",
    "prior = 1. / len(RUSSIAN) # задаем начальную вероятность встретить любую букву алфавита (1/33)\n",
    "\n",
    "for second in RUSSIAN:\n",
    "    for third in RUSSIAN:\n",
    "        proba = prior * probabilities[start, POS[second]] * probabilities[POS[second], POS[third]] * probabilities[POS[third], end]\n",
    "        if proba > 0:\n",
    "#             print(''.join(['п', second, third, 'р']), proba) # тут можно посмотреть на вероятность каждой строки\n",
    "            sum_proba += proba\n",
    "    \n",
    "print('Общая вероятность встретить строку из 4-х символов, которая начинается на П, а кончается на Р:', sum_proba)"
   ]
  },
  {
   "cell_type": "markdown",
   "metadata": {},
   "source": [
    "1.4 Используя матрицу переходных вероятностей сгенерируем слово, начинающееся с буквы Б и имеющее длину 8 символов"
   ]
  },
  {
   "cell_type": "code",
   "execution_count": 18,
   "metadata": {},
   "outputs": [
    {
     "name": "stdout",
     "output_type": "stream",
     "text": [
      "ботволовы\n"
     ]
    }
   ],
   "source": [
    "word = []\n",
    "start = 'б'\n",
    "word.append(start)\n",
    "length = 8\n",
    "\n",
    "for i in range(length):\n",
    "    index = POS[word[i]] # здесь определяем индекс текущей буквы (для i=0: POS[word[0]] --> POS['б'] --> 1)\n",
    "    next_char = np.random.choice(list(RUSSIAN), p=probabilities[index]) # choice([а,б,в,...], [0.07,0.0006,0.005,...]) учитывает матрицу переходных состояний для текущей буквы и выдает следующую букву не случайно, а учитывая ее реальную вероятность появления после текущей (поэтому мы генерируем слова по крайней мере похожие на настоящие, а не полную белиберду)\n",
    "    while next_char == ' ': # здесь мы исключаем наличие пробела в слове\n",
    "        next_char = np.random.choice(list(RUSSIAN), p=probabilities[index])\n",
    "    word.append(next_char)\n",
    "\n",
    "print (''.join(word))"
   ]
  },
  {
   "cell_type": "markdown",
   "metadata": {},
   "source": [
    "2.1 Оцениваем ряд через HMM"
   ]
  },
  {
   "cell_type": "code",
   "execution_count": 13,
   "metadata": {},
   "outputs": [],
   "source": [
    "# P.S. ссылка в задании перенаправляет на https://www.qlik.com/, где нет рядов для скачивания,\n",
    "# поэтому в работе использован ряд из предыдущих занятий"
   ]
  },
  {
   "cell_type": "code",
   "execution_count": 14,
   "metadata": {},
   "outputs": [],
   "source": [
    "series = pd.read_csv(\"C:/Users/gogol/Desktop/Netology/I work in this folder/Блок 4 Машинное обучение/17 Знакомство с временными рядами/Series/weekly-closings-of-the-dowjones-.csv\")['Close']"
   ]
  },
  {
   "cell_type": "code",
   "execution_count": 15,
   "metadata": {},
   "outputs": [],
   "source": [
    "values = series.values.reshape(-1,1)"
   ]
  },
  {
   "cell_type": "code",
   "execution_count": 16,
   "metadata": {},
   "outputs": [
    {
     "name": "stdout",
     "output_type": "stream",
     "text": [
      "1 -894.2620483582104\n",
      "2 -820.6341453620569\n",
      "3 -786.8375332667733\n",
      "4 -752.0201472668961\n",
      "5 -737.1181111930912\n",
      "6 -729.5671112589438\n",
      "7 -713.7233991716986\n",
      "8 -702.1075404014942\n",
      "9 -690.9838068209625\n",
      "10 -682.1267008564821\n"
     ]
    },
    {
     "name": "stderr",
     "output_type": "stream",
     "text": [
      "Fitting a model with 167 free scalar parameters with only 162 data points will result in a degenerate solution.\n",
      "Fitting a model with 194 free scalar parameters with only 162 data points will result in a degenerate solution.\n"
     ]
    },
    {
     "name": "stdout",
     "output_type": "stream",
     "text": [
      "11 -678.9259827228622\n",
      "12 -674.6658425183452\n",
      "13 -663.0816538384943\n"
     ]
    }
   ],
   "source": [
    "for n in range(1, 14):\n",
    "    model = GaussianHMM(n_components=n,\n",
    "                        covariance_type=\"diag\",\n",
    "                        n_iter=1000)\n",
    "    model.fit(values)\n",
    "    print (n, model.score(values))"
   ]
  },
  {
   "cell_type": "code",
   "execution_count": 17,
   "metadata": {},
   "outputs": [
    {
     "data": {
      "text/plain": [
       "[<matplotlib.lines.Line2D at 0x15b70e9be08>]"
      ]
     },
     "execution_count": 17,
     "metadata": {},
     "output_type": "execute_result"
    },
    {
     "data": {
      "image/png": "[encoded data removed]",
      "text/plain": [
       "<Figure size 864x432 with 1 Axes>"
      ]
     },
     "metadata": {
      "needs_background": "light"
     },
     "output_type": "display_data"
    }
   ],
   "source": [
    "model = GaussianHMM(n_components=10,\n",
    "                        covariance_type=\"diag\",\n",
    "                        n_iter=1000)\n",
    "model.fit(values)\n",
    "labels = model.predict(values)\n",
    "means = np.zeros_like(values)\n",
    "for i in range(model.n_components):\n",
    "    means[labels == i] = model.means_[i]\n",
    "    \n",
    "plt.figure(figsize=(12, 6))\n",
    "plt.plot(values)\n",
    "plt.plot(means, linewidth=3)"
   ]
  }
 ],
 "metadata": {
  "kernelspec": {
   "display_name": "Python 3",
   "language": "python",
   "name": "python3"
  },
  "language_info": {
   "codemirror_mode": {
    "name": "ipython",
    "version": 3
   },
   "file_extension": ".py",
   "mimetype": "text/x-python",
   "name": "python",
   "nbconvert_exporter": "python",
   "pygments_lexer": "ipython3",
   "version": "3.7.6"
  }
 },
 "nbformat": 4,
 "nbformat_minor": 4
}

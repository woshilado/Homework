{
 "cells": [
  {
   "cell_type": "code",
   "execution_count": 1,
   "metadata": {},
   "outputs": [],
   "source": [
    "import numpy as np\n",
    "from scipy.optimize import approx_fprime"
   ]
  },
  {
   "cell_type": "markdown",
   "metadata": {},
   "source": [
    "### Задание 1: \n",
    "Посчитайте частные производные функций\n",
    "(как обычно, необходимо решение на бумажке или в LaTeX и на scipy):"
   ]
  },
  {
   "cell_type": "markdown",
   "metadata": {},
   "source": [
    "1) $f(x,y)=2x^2y^3 + 1/x + y^2x + 7$, а для этой функции также градиент в точке $(1,2)$\n",
    "\n",
    "2) $f(x,y)=x^2y - sin(xy) + cos(x^2) + 6y$"
   ]
  },
  {
   "cell_type": "markdown",
   "metadata": {},
   "source": [
    "**1)** $f(x,y)=2x^2y^3 + 1/x + y^2x + 7$, а для этой функции также градиент в точке $(1,2)$"
   ]
  },
  {
   "cell_type": "markdown",
   "metadata": {},
   "source": [
    "**Решение \"на бумажке\"**  \n",
    "\n",
    "Считаем аргумент y постоянным:  \n",
    "$f'_{x}(x,y) = 4xy^3 -\\displaystyle \\frac{1}{x^2} + y^2$  \n",
    "Находим частную производную в точке (1, 2):  \n",
    "$f'_{x}(1,2) = 4\\cdot1\\cdot2^3 -\\displaystyle \\frac{1}{1^2} + 2^2 = 35$  \n",
    "\n",
    "Считаем аргумент x постоянным:  \n",
    "$f'_{y}(x,y) = 6x^2y^2 + 2xy$  \n",
    "Находим частную производную в точке (1, 2):  \n",
    "$f'_{y}(1,2) = 6\\cdot1^2\\cdot2^2 + 2\\cdot1\\cdot2 = 28$  \n",
    "\n",
    "$grad_f(1,2) = (35, 28)$"
   ]
  },
  {
   "cell_type": "markdown",
   "metadata": {},
   "source": [
    "**Решение на SciPy**"
   ]
  },
  {
   "cell_type": "code",
   "execution_count": 2,
   "metadata": {},
   "outputs": [],
   "source": [
    "def func(x, c0, c1, c2):\n",
    "    return c0 * x[0]**2 * x[1]**3 + c1 / x[0] + c2 * x[1]**2 * x[0]"
   ]
  },
  {
   "cell_type": "code",
   "execution_count": 3,
   "metadata": {},
   "outputs": [
    {
     "data": {
      "text/plain": [
       "array([35.00000024, 28.00000024])"
      ]
     },
     "execution_count": 3,
     "metadata": {},
     "output_type": "execute_result"
    }
   ],
   "source": [
    "# Задаем точку\n",
    "x = np.array([1., 2.])\n",
    "# Задаем коэффициенты одночленов\n",
    "c0, c1, c2 = (2, 1, 1)\n",
    "eps = np.sqrt(np.finfo(float).eps)\n",
    "approx_fprime(x, func, [eps, eps], c0, c1, c2)"
   ]
  },
  {
   "cell_type": "markdown",
   "metadata": {},
   "source": [
    "**2)** $f(x,y)=x^2y - sin(xy) + cos(x^2) + 6y$"
   ]
  },
  {
   "cell_type": "markdown",
   "metadata": {},
   "source": [
    "**Решение \"на бумажке\"**  \n",
    "\n",
    "Считаем аргумент y постоянным:  \n",
    "$f'_{x}(x,y) = 2xy - y\\cdot cos(xy) - 2x\\cdot sin(x^2)$  \n",
    "Считаем аргумент x постоянным:  \n",
    "$f'_{y}(x,y) = x^2 - x\\cdot cos(xy) + 6$ "
   ]
  },
  {
   "cell_type": "markdown",
   "metadata": {},
   "source": [
    "**Решение на SymPy**"
   ]
  },
  {
   "cell_type": "code",
   "execution_count": 4,
   "metadata": {},
   "outputs": [],
   "source": [
    "from sympy import *\n",
    "\n",
    "x, y = symbols('x y')\n",
    "df_dx = diff(x**2*y - sin(x*y) + cos(x**2) + 6*y, x)\n",
    "df_dy = diff(x**2*y - sin(x*y) + cos(x**2) + 6*y, y)"
   ]
  },
  {
   "cell_type": "code",
   "execution_count": 5,
   "metadata": {},
   "outputs": [
    {
     "data": {
      "text/latex": [
       "$\\displaystyle 2 x y - 2 x \\sin{\\left(x^{2} \\right)} - y \\cos{\\left(x y \\right)}$"
      ],
      "text/plain": [
       "2*x*y - 2*x*sin(x**2) - y*cos(x*y)"
      ]
     },
     "execution_count": 5,
     "metadata": {},
     "output_type": "execute_result"
    }
   ],
   "source": [
    "df_dx"
   ]
  },
  {
   "cell_type": "code",
   "execution_count": 6,
   "metadata": {},
   "outputs": [
    {
     "data": {
      "text/latex": [
       "$\\displaystyle x^{2} - x \\cos{\\left(x y \\right)} + 6$"
      ],
      "text/plain": [
       "x**2 - x*cos(x*y) + 6"
      ]
     },
     "execution_count": 6,
     "metadata": {},
     "output_type": "execute_result"
    }
   ],
   "source": [
    "df_dy"
   ]
  },
  {
   "cell_type": "markdown",
   "metadata": {},
   "source": [
    "### Задание 2:\n",
    "\n",
    "Градиентный спуск своими руками"
   ]
  },
  {
   "cell_type": "code",
   "execution_count": null,
   "metadata": {},
   "outputs": [],
   "source": [
    "def f(x):\n",
    "    return (x[0]**2) + (x[1]**2) "
   ]
  },
  {
   "cell_type": "code",
   "execution_count": null,
   "metadata": {},
   "outputs": [],
   "source": [
    "x = np.array([100, 200])\n",
    "learning_rate = 0.1"
   ]
  },
  {
   "cell_type": "code",
   "execution_count": null,
   "metadata": {},
   "outputs": [],
   "source": [
    "for i in range(100):\n",
    "    # Calculate gradient\n",
    "    grad = # Your code here (функция для вычисления градиента есть в лекционном ноутбуке)\n",
    "    \n",
    "    # Update x with gradient\n",
    "    x = # Your code here (смотри слайд презентации про градиентный спуск)"
   ]
  },
  {
   "cell_type": "code",
   "execution_count": null,
   "metadata": {},
   "outputs": [],
   "source": [
    "print(\"Минимум достигается в: \", x)\n",
    "print(\"Значение функции в минимуме: \", f(x))"
   ]
  },
  {
   "cell_type": "markdown",
   "metadata": {},
   "source": [
    "Проверка с помощью встроенной функции numpy: "
   ]
  },
  {
   "cell_type": "code",
   "execution_count": null,
   "metadata": {},
   "outputs": [],
   "source": []
  }
 ],
 "metadata": {
  "kernelspec": {
   "display_name": "Python 3",
   "language": "python",
   "name": "python3"
  },
  "language_info": {
   "codemirror_mode": {
    "name": "ipython",
    "version": 3
   },
   "file_extension": ".py",
   "mimetype": "text/x-python",
   "name": "python",
   "nbconvert_exporter": "python",
   "pygments_lexer": "ipython3",
   "version": "3.7.6"
  }
 },
 "nbformat": 4,
 "nbformat_minor": 2
}

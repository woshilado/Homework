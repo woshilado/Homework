{
 "cells": [
  {
   "cell_type": "code",
   "execution_count": 1,
   "metadata": {},
   "outputs": [],
   "source": [
    "import numpy as np\n",
    "import pandas as pd\n",
    "from sklearn.linear_model import LinearRegression"
   ]
  },
  {
   "cell_type": "markdown",
   "metadata": {},
   "source": [
    "Создадим датасет с данными о продажах продукции по различным компаниям и рыночной стоимостью этих компаний.\n",
    "Если упростить один из методов оценки стоимости компании, то стоимость складывается из\n",
    "1. имеющихся активов (предположим, что все компании располагают активами в $200200),\n",
    "2. прогноза будущих доходов за какой-то период времени (возьмем 10 лет) за вычетом всех расходов на поддержание бизнеса, налогов и прочих обязательств (будем считать, что на все это уходит 80% от дохода)"
   ]
  },
  {
   "cell_type": "code",
   "execution_count": 2,
   "metadata": {},
   "outputs": [
    {
     "data": {
      "text/html": [
       "<div>\n",
       "<style scoped>\n",
       "    .dataframe tbody tr th:only-of-type {\n",
       "        vertical-align: middle;\n",
       "    }\n",
       "\n",
       "    .dataframe tbody tr th {\n",
       "        vertical-align: top;\n",
       "    }\n",
       "\n",
       "    .dataframe thead th {\n",
       "        text-align: right;\n",
       "    }\n",
       "</style>\n",
       "<table border=\"1\" class=\"dataframe\">\n",
       "  <thead>\n",
       "    <tr style=\"text-align: right;\">\n",
       "      <th></th>\n",
       "      <th>number_of_stuff</th>\n",
       "      <th>quantity_of_sold_goods</th>\n",
       "      <th>average_price_of_sold_goods</th>\n",
       "      <th>company_value</th>\n",
       "    </tr>\n",
       "  </thead>\n",
       "  <tbody>\n",
       "    <tr>\n",
       "      <th>0</th>\n",
       "      <td>177</td>\n",
       "      <td>13830</td>\n",
       "      <td>21</td>\n",
       "      <td>2523640.0</td>\n",
       "    </tr>\n",
       "    <tr>\n",
       "      <th>1</th>\n",
       "      <td>197</td>\n",
       "      <td>50964</td>\n",
       "      <td>68</td>\n",
       "      <td>27924616.0</td>\n",
       "    </tr>\n",
       "    <tr>\n",
       "      <th>2</th>\n",
       "      <td>137</td>\n",
       "      <td>49846</td>\n",
       "      <td>62</td>\n",
       "      <td>24923816.0</td>\n",
       "    </tr>\n",
       "    <tr>\n",
       "      <th>3</th>\n",
       "      <td>432</td>\n",
       "      <td>97146</td>\n",
       "      <td>87</td>\n",
       "      <td>67813816.0</td>\n",
       "    </tr>\n",
       "    <tr>\n",
       "      <th>4</th>\n",
       "      <td>312</td>\n",
       "      <td>19642</td>\n",
       "      <td>66</td>\n",
       "      <td>10571176.0</td>\n",
       "    </tr>\n",
       "  </tbody>\n",
       "</table>\n",
       "</div>"
      ],
      "text/plain": [
       "   number_of_stuff  quantity_of_sold_goods  average_price_of_sold_goods  \\\n",
       "0              177                   13830                           21   \n",
       "1              197                   50964                           68   \n",
       "2              137                   49846                           62   \n",
       "3              432                   97146                           87   \n",
       "4              312                   19642                           66   \n",
       "\n",
       "   company_value  \n",
       "0      2523640.0  \n",
       "1     27924616.0  \n",
       "2     24923816.0  \n",
       "3     67813816.0  \n",
       "4     10571176.0  "
      ]
     },
     "execution_count": 2,
     "metadata": {},
     "output_type": "execute_result"
    }
   ],
   "source": [
    "# Создаем сэмпл\n",
    "n_samples = 500\n",
    "\n",
    "# количество персонала в компании\n",
    "number_of_stuff = np.random.choice(500, n_samples) + 10\n",
    "# количество проданных единиц товара за год\n",
    "quantity_of_sold_goods  = np.random.choice(100100, n_samples) + 1000\n",
    "# средняя цена единицы товара\n",
    "average_price_of_sold_goods  = np.random.choice(100, n_samples) + 10\n",
    "\n",
    "# стоимость компании\n",
    "company_value = quantity_of_sold_goods * average_price_of_sold_goods * 10 * 0.8 + 200200\n",
    "\n",
    "data = pd.DataFrame({'number_of_stuff': number_of_stuff, 'quantity_of_sold_goods': quantity_of_sold_goods, \n",
    "                     'average_price_of_sold_goods': average_price_of_sold_goods, 'company_value': company_value})\n",
    "data.head(5)"
   ]
  },
  {
   "cell_type": "code",
   "execution_count": 3,
   "metadata": {},
   "outputs": [
    {
     "name": "stdout",
     "output_type": "stream",
     "text": [
      "Weights: [-3.30675885e+02  4.75301298e+02  4.22208080e+05]\n",
      "Bias: -24791079.557531487\n",
      "Error: 5119070.276585985\n"
     ]
    }
   ],
   "source": [
    "# Обучаем модель линейной регрессии и смотрим на получившиеся веса, сдвиг и среднюю абсолютную ошибку\n",
    "\n",
    "from sklearn.metrics import mean_absolute_error\n",
    "\n",
    "# Вводим иксы\n",
    "X = data[['number_of_stuff', 'quantity_of_sold_goods', 'average_price_of_sold_goods']]\n",
    "# Вводим игреки\n",
    "y = data['company_value']\n",
    "# Обучаем модель\n",
    "reg = LinearRegression().fit(X, y)\n",
    "# Определяем веса (коэффициенты перед Х):\n",
    "print('Weights: {}'.format(reg.coef_))\n",
    "# Сдвиг, который был равен 200200 по условию\n",
    "print('Bias: {}'.format(reg.intercept_))\n",
    "\n",
    "# С помощью обученной модели и иксов предсказываем игреки\n",
    "pred_values = reg.predict(data[['number_of_stuff', 'quantity_of_sold_goods', 'average_price_of_sold_goods']])\n",
    "# Считаем абсолютную ошибку\n",
    "print('Error: {}'.format(mean_absolute_error(pred_values, y)))"
   ]
  },
  {
   "cell_type": "code",
   "execution_count": 4,
   "metadata": {},
   "outputs": [
    {
     "data": {
      "text/plain": [
       "18878804.0"
      ]
     },
     "execution_count": 4,
     "metadata": {},
     "output_type": "execute_result"
    }
   ],
   "source": [
    "y.median()"
   ]
  },
  {
   "cell_type": "markdown",
   "metadata": {},
   "source": [
    "В результате видим достаточно сомнительные веса, неверный сдвиг и огромную среднюю абсолютную ошибку (около четверти).  \n",
    "Попробуем убрать лишний признак, т.е. количество персонала, которое не влияет на рыночную капитализацию компании (строго говоря, косвенно немного влияет, но это влияние настолько невелико, что можно легко им пренебречь безо всякого ущерба для модели)."
   ]
  },
  {
   "cell_type": "code",
   "execution_count": 5,
   "metadata": {},
   "outputs": [
    {
     "name": "stdout",
     "output_type": "stream",
     "text": [
      "Weights: [   475.41285311 422157.06453108]\n",
      "Bias: -24876771.7922563\n",
      "Error: 5118724.44052206\n"
     ]
    }
   ],
   "source": [
    "# Вводим иксы\n",
    "X = data[['quantity_of_sold_goods', 'average_price_of_sold_goods']]\n",
    "# Вводим игреки\n",
    "y = data['company_value']\n",
    "# Обучаем модель\n",
    "reg = LinearRegression().fit(X, y)\n",
    "# Определяем веса (коэффициенты перед Х):\n",
    "print('Weights: {}'.format(reg.coef_))\n",
    "# Сдвиг, который был равен 200200 по условию\n",
    "print('Bias: {}'.format(reg.intercept_))\n",
    "\n",
    "# С помощью обученной модели и иксов предсказываем игреки\n",
    "pred_values = reg.predict(data[['quantity_of_sold_goods', 'average_price_of_sold_goods']])\n",
    "# Считаем абсолютную ошибку\n",
    "print('Error: {}'.format(mean_absolute_error(pred_values, y)))"
   ]
  },
  {
   "cell_type": "markdown",
   "metadata": {},
   "source": [
    "Результаты не стали лучше.  \n",
    "Чтобы понять почему, нужно ответить на вопрос: что из себя представляет линейная модель?  \n",
    "f(x,b) = b0 + b1x1 + b2x2 и т.д., где b - параметры (коэффициенты) регрессии, х - регрессоры (факторы модели).  \n",
    "В нашем примере получается так: b0 + b1x1x2, что не является линейной зависимостью и приводит к огромным погрешностям модели.  \n",
    "Поэтому необходимо создать новый признак, чтобы получить зависимость вида: b0 + b1x1."
   ]
  },
  {
   "cell_type": "code",
   "execution_count": 6,
   "metadata": {},
   "outputs": [
    {
     "data": {
      "text/html": [
       "<div>\n",
       "<style scoped>\n",
       "    .dataframe tbody tr th:only-of-type {\n",
       "        vertical-align: middle;\n",
       "    }\n",
       "\n",
       "    .dataframe tbody tr th {\n",
       "        vertical-align: top;\n",
       "    }\n",
       "\n",
       "    .dataframe thead th {\n",
       "        text-align: right;\n",
       "    }\n",
       "</style>\n",
       "<table border=\"1\" class=\"dataframe\">\n",
       "  <thead>\n",
       "    <tr style=\"text-align: right;\">\n",
       "      <th></th>\n",
       "      <th>number_of_stuff</th>\n",
       "      <th>quantity_of_sold_goods</th>\n",
       "      <th>average_price_of_sold_goods</th>\n",
       "      <th>company_value</th>\n",
       "      <th>annual_profit</th>\n",
       "    </tr>\n",
       "  </thead>\n",
       "  <tbody>\n",
       "    <tr>\n",
       "      <th>0</th>\n",
       "      <td>177</td>\n",
       "      <td>13830</td>\n",
       "      <td>21</td>\n",
       "      <td>2523640.0</td>\n",
       "      <td>290430</td>\n",
       "    </tr>\n",
       "    <tr>\n",
       "      <th>1</th>\n",
       "      <td>197</td>\n",
       "      <td>50964</td>\n",
       "      <td>68</td>\n",
       "      <td>27924616.0</td>\n",
       "      <td>3465552</td>\n",
       "    </tr>\n",
       "    <tr>\n",
       "      <th>2</th>\n",
       "      <td>137</td>\n",
       "      <td>49846</td>\n",
       "      <td>62</td>\n",
       "      <td>24923816.0</td>\n",
       "      <td>3090452</td>\n",
       "    </tr>\n",
       "    <tr>\n",
       "      <th>3</th>\n",
       "      <td>432</td>\n",
       "      <td>97146</td>\n",
       "      <td>87</td>\n",
       "      <td>67813816.0</td>\n",
       "      <td>8451702</td>\n",
       "    </tr>\n",
       "    <tr>\n",
       "      <th>4</th>\n",
       "      <td>312</td>\n",
       "      <td>19642</td>\n",
       "      <td>66</td>\n",
       "      <td>10571176.0</td>\n",
       "      <td>1296372</td>\n",
       "    </tr>\n",
       "  </tbody>\n",
       "</table>\n",
       "</div>"
      ],
      "text/plain": [
       "   number_of_stuff  quantity_of_sold_goods  average_price_of_sold_goods  \\\n",
       "0              177                   13830                           21   \n",
       "1              197                   50964                           68   \n",
       "2              137                   49846                           62   \n",
       "3              432                   97146                           87   \n",
       "4              312                   19642                           66   \n",
       "\n",
       "   company_value  annual_profit  \n",
       "0      2523640.0         290430  \n",
       "1     27924616.0        3465552  \n",
       "2     24923816.0        3090452  \n",
       "3     67813816.0        8451702  \n",
       "4     10571176.0        1296372  "
      ]
     },
     "execution_count": 6,
     "metadata": {},
     "output_type": "execute_result"
    }
   ],
   "source": [
    "# Создаем новый признак - годовая прибыль (annual profit)\n",
    "data['annual_profit'] = data['quantity_of_sold_goods'] * data['average_price_of_sold_goods']\n",
    "data.head(5)"
   ]
  },
  {
   "cell_type": "code",
   "execution_count": 7,
   "metadata": {},
   "outputs": [
    {
     "name": "stdout",
     "output_type": "stream",
     "text": [
      "Weights: [8.]\n",
      "Bias: 200200.0\n",
      "Error: 0.0\n"
     ]
    }
   ],
   "source": [
    "# Вводим иксы\n",
    "X = data[['annual_profit']]\n",
    "# Вводим игреки\n",
    "y = data['company_value']\n",
    "# Обучаем модель\n",
    "reg = LinearRegression().fit(X, y)\n",
    "# Определяем веса (коэффициенты перед Х):\n",
    "print('Weights: {}'.format(reg.coef_))\n",
    "# Сдвиг, который был равен 200200 по условию\n",
    "print('Bias: {}'.format(reg.intercept_))\n",
    "\n",
    "# С помощью обученной модели и иксов предсказываем игреки\n",
    "pred_values = reg.predict(data[['annual_profit']])\n",
    "# Считаем абсолютную ошибку\n",
    "print('Error: {}'.format(mean_absolute_error(pred_values, y)))"
   ]
  },
  {
   "cell_type": "markdown",
   "metadata": {},
   "source": [
    "Вуаля! Абсолютно верные вес и сдвиг, нулевая ошибка. И все это по причине того, что мы создали линейную зависимость с помощью нового признака."
   ]
  }
 ],
 "metadata": {
  "kernelspec": {
   "display_name": "Python 3",
   "language": "python",
   "name": "python3"
  },
  "language_info": {
   "codemirror_mode": {
    "name": "ipython",
    "version": 3
   },
   "file_extension": ".py",
   "mimetype": "text/x-python",
   "name": "python",
   "nbconvert_exporter": "python",
   "pygments_lexer": "ipython3",
   "version": "3.7.6"
  }
 },
 "nbformat": 4,
 "nbformat_minor": 4
}

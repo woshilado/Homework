{
 "cells": [
  {
   "cell_type": "markdown",
   "metadata": {},
   "source": [
    "Вы работаете секретарем и вам постоянно приходят различные документы. Вы должны быть очень внимательны, чтобы не потерять ни один документ. Каталог документов хранится в следующем виде:"
   ]
  },
  {
   "cell_type": "code",
   "execution_count": 1,
   "metadata": {},
   "outputs": [],
   "source": [
    "documents = [\n",
    "    {'type': 'passport', 'number': '2207 876234', 'name': 'Василий Гупкин'},\n",
    "    {'type': 'invoice', 'number': '11-2', 'name': 'Геннадий Покемонов'},\n",
    "    {'type': 'insurance', 'number': '10006', 'name': 'Аристарх Павлов'}\n",
    "]"
   ]
  },
  {
   "cell_type": "markdown",
   "metadata": {},
   "source": [
    "Перечень полок, на которых находятся документы хранится в следующем виде:"
   ]
  },
  {
   "cell_type": "code",
   "execution_count": 2,
   "metadata": {},
   "outputs": [],
   "source": [
    "directories = {\n",
    "    '1': ['2207 876234', '11-2'],\n",
    "    '2': ['10006'],\n",
    "    '3': []\n",
    "}"
   ]
  },
  {
   "cell_type": "markdown",
   "metadata": {},
   "source": [
    "Необходимо реализовать пользовательские команды (внимание! это не название функций, которые должны быть выразительными, а команды, которые вводит пользователь, чтобы получить необходимый результат):\n",
    "  \n",
    "- p – people – команда, которая спросит номер документа и выведет имя человека, которому он принадлежит;  \n",
    "- s – shelf – команда, которая спросит номер документа и выведет номер полки, на которой он находится  \n",
    "*Правильно обработайте ситуации, когда пользователь будет вводить несуществующий документ*.\n",
    "- l – list – команда, которая выведет список всех документов в формате   \n",
    "**passport \"2207 876234\" \"Василий Гупкин\"**  \n",
    "- as – add shelf – команда, которая спросит номер новой полки и добавит ее в перечень. *Предусмотрите случай, когда пользователь добавляет полку, которая уже существует*.\n",
    "- d – delete – команда, которая спросит номер документа и удалит его из каталога и из перечня полок. *Предусмотрите сценарий, когда пользователь вводит несуществующий документ*;  \n",
    "- m – move – команда, которая спросит номер документа и целевую полку и переместит его с текущей полки на целевую. *Корректно обработайте кейсы, когда пользователь пытается переместить несуществующий документ или переместить документ на несуществующую полку*;  \n",
    "- a – add – команда, которая добавит новый документ в каталог и в перечень полок, спросив его номер, тип, имя владельца и номер полки, на котором он будет храниться. *Корректно обработайте ситуацию, когда пользователь будет пытаться добавить документ на несуществующую полку*."
   ]
  },
  {
   "cell_type": "code",
   "execution_count": 100,
   "metadata": {},
   "outputs": [],
   "source": [
    "def people(documents_list):\n",
    "    user_input_number = input('Для получения имени владельца, введите номер документа: ')\n",
    "    check = 'no'\n",
    "    for doc_info in documents_list:\n",
    "        if user_input_number == doc_info['number']:\n",
    "            print('Имя владельца:', doc_info['name'])\n",
    "            check = 'yes'\n",
    "    if check == 'no':\n",
    "        print('К сожалению, документ с таким номером отсутсвует в базе')"
   ]
  },
  {
   "cell_type": "code",
   "execution_count": 101,
   "metadata": {},
   "outputs": [
    {
     "name": "stdout",
     "output_type": "stream",
     "text": [
      "Для получения имени владельца, введите номер документа: 11-2\n",
      "Имя владельца: Геннадий Покемонов\n"
     ]
    }
   ],
   "source": [
    "people(documents)"
   ]
  },
  {
   "cell_type": "code",
   "execution_count": 102,
   "metadata": {},
   "outputs": [],
   "source": [
    "def shelf(shelfs_dict):\n",
    "    user_input_number = input('Для получения номера полки, введите номер документа: ')\n",
    "    check = 'no'\n",
    "    for shelfs_item in shelfs_dict.items():\n",
    "        for shelfs_item_info in shelfs_item[1]:\n",
    "            if user_input_number == shelfs_item_info:\n",
    "                print('Номер полки:', shelfs_item[0])\n",
    "                check = 'yes'\n",
    "    if check == 'no':\n",
    "        print('К сожалению, документ с таким номером отсутсвует в базе')"
   ]
  },
  {
   "cell_type": "code",
   "execution_count": 103,
   "metadata": {},
   "outputs": [
    {
     "name": "stdout",
     "output_type": "stream",
     "text": [
      "Для получения номера полки, введите номер документа: 11-2\n",
      "Номер полки: 1\n"
     ]
    }
   ],
   "source": [
    "shelf(directories)"
   ]
  },
  {
   "cell_type": "code",
   "execution_count": 104,
   "metadata": {},
   "outputs": [],
   "source": [
    "def listt(documents_list):\n",
    "    for doc_info in documents_list:\n",
    "        print(f\"{doc_info['type']} \\\"{doc_info['number']}\\\" \\\"{doc_info['name']}\\\"\")"
   ]
  },
  {
   "cell_type": "code",
   "execution_count": 105,
   "metadata": {},
   "outputs": [
    {
     "name": "stdout",
     "output_type": "stream",
     "text": [
      "passport \"2207 876234\" \"Василий Гупкин\"\n",
      "invoice \"11-2\" \"Геннадий Покемонов\"\n",
      "insurance \"10006\" \"Аристарх Павлов\"\n"
     ]
    }
   ],
   "source": [
    "listt(documents)"
   ]
  },
  {
   "cell_type": "code",
   "execution_count": 106,
   "metadata": {},
   "outputs": [],
   "source": [
    "def add_shelf(shelfs_dict):\n",
    "    user_input_shelf = input('Введите номер новой полки: ')\n",
    "    if user_input_shelf in shelfs_dict: # для себя: проверка на наличие ключа в словаре происхоит именно так, т.е. обращение к самому словарю, а не к его keys\n",
    "        print('Увы, но такой номер полки уже существует')\n",
    "    else:\n",
    "        shelfs_dict[user_input_shelf] = [] # для себя: так создается новый ключ со значением (( dict[new_key] = whatever ))\n",
    "        print(f'Ура, новая полка номер {user_input_shelf} добавлена')\n",
    "        print('Обновленный перечень полок теперь выглядит так:', shelfs_dict)"
   ]
  },
  {
   "cell_type": "code",
   "execution_count": 107,
   "metadata": {},
   "outputs": [
    {
     "name": "stdout",
     "output_type": "stream",
     "text": [
      "Введите номер новой полки: 4\n",
      "Ура, новая полка номер 4 добавлена\n",
      "Обновленный перечень полок теперь выглядит так: {'1': ['2207 876234', '11-2'], '2': ['10006'], '3': [], '4': []}\n"
     ]
    }
   ],
   "source": [
    "add_shelf(directories)"
   ]
  },
  {
   "cell_type": "code",
   "execution_count": 108,
   "metadata": {},
   "outputs": [],
   "source": [
    "def delete(documents_list, shelfs_dict):\n",
    "    user_input_delete = input('Введите номер документа, который необходимо удалить: ')\n",
    "    check_number = 'no'\n",
    "    \n",
    "    for doc_info in documents_list:\n",
    "        if user_input_delete == doc_info['number']:\n",
    "            documents_list.remove(doc_info)\n",
    "            check_number = 'yes'\n",
    "        \n",
    "    for shelfs_item in shelfs_dict.items():\n",
    "        for shelfs_item_info in shelfs_item[1]:\n",
    "            if user_input_delete == shelfs_item_info:\n",
    "                shelfs_item[1].remove(shelfs_item_info)\n",
    "                \n",
    "    if check_number == 'no':\n",
    "        print('К сожалению, документ с таким номером отсутсвует в базе')\n",
    "    else:\n",
    "        print('Документ удален')\n",
    "        print('Обновленный вид каталога документов теперь выглядит так:', documents_list)\n",
    "        print('Обновленный перечень полок теперь выглядит так:', shelfs_dict)"
   ]
  },
  {
   "cell_type": "code",
   "execution_count": 109,
   "metadata": {},
   "outputs": [
    {
     "name": "stdout",
     "output_type": "stream",
     "text": [
      "Введите номер документа, который необходимо удалить: 700000007\n",
      "К сожалению, документ с таким номером отсутсвует в базе\n"
     ]
    }
   ],
   "source": [
    "delete(documents, directories)"
   ]
  },
  {
   "cell_type": "code",
   "execution_count": 3,
   "metadata": {},
   "outputs": [],
   "source": [
    "def move(shelfs_dict):\n",
    "    user_input_number = input('Введите номер документа, который необходимо переместить: ')\n",
    "    user_input_new_shelf = input('Введите номер полки, на которую необходимо переместить документ: ')\n",
    "    \n",
    "    check_number = 'no'\n",
    "    for shelfs_item in shelfs_dict.items():\n",
    "        for shelfs_item_info in shelfs_item[1]:\n",
    "            if user_input_number == shelfs_item_info:\n",
    "                check_number = 'yes'\n",
    "                \n",
    "    check_shelf = 'nope'    \n",
    "    for shelf_key, shelf_value in shelfs_dict.items(): # для себя: лучше так распаковывать словарь, а не индексировать его эл-ты     \n",
    "        if shelf_key == user_input_new_shelf:\n",
    "            check_shelf = 'yup'\n",
    "    \n",
    "    if (check_number == 'no') and (check_shelf == 'nope'):\n",
    "        print('К сожалению, документ с таким номером отсутсвует в базе, а полки с таким номером еще нет')\n",
    "    elif (check_number == 'no') and (check_shelf != 'nope'):\n",
    "        print('К сожалению, документ с таким номером отсутсвует в базе')    \n",
    "    elif (check_number != 'no') and (check_shelf == 'nope'):\n",
    "        print('К сожалению, такой номер полки отсуствует')\n",
    "    else:\n",
    "        for shelfs_item in shelfs_dict.items():\n",
    "            for shelfs_item_info in shelfs_item[1]:\n",
    "                if shelfs_item_info == user_input_number:\n",
    "                    shelfs_item[1].remove(shelfs_item_info) # удалили номер\n",
    "        for shelf_key, shelf_value in shelfs_dict.items():\n",
    "            if shelf_key == user_input_new_shelf:\n",
    "                shelf_value.append(user_input_number) # добавили номер\n",
    "        print('Обновленный перечень полок теперь выглядит так:', shelfs_dict)"
   ]
  },
  {
   "cell_type": "code",
   "execution_count": 4,
   "metadata": {},
   "outputs": [
    {
     "name": "stdout",
     "output_type": "stream",
     "text": [
      "Введите номер документа, который необходимо переместить: 11-2\n",
      "Введите номер полки, на которую необходимо переместить документ: 2\n",
      "Обновленный перечень полок теперь выглядит так: {'1': ['2207 876234'], '2': ['10006', '11-2'], '3': []}\n"
     ]
    }
   ],
   "source": [
    "move(directories)"
   ]
  },
  {
   "cell_type": "code",
   "execution_count": 6,
   "metadata": {},
   "outputs": [],
   "source": [
    "def add(documents_list, shelfs_dict):\n",
    "    user_input_number = input('Введите номер документа, который необходимо добавить: ')\n",
    "    user_input_type = input('Введите тип документа, который необходимо добавить: ')\n",
    "    user_input_name = input('Введите имя владельца документа, который необходимо добавить: ')\n",
    "    user_input_shelf = input('Введите номер полки, на которую необходимо поместить документ: ')\n",
    "    \n",
    "    if user_input_shelf not in shelfs_dict:\n",
    "        print('Увы, но такого номера полки не существует')\n",
    "    else:\n",
    "        new_doc = {}\n",
    "        new_doc['type'] = user_input_type\n",
    "        new_doc['number'] = user_input_number\n",
    "        new_doc['name'] = user_input_name\n",
    "        documents_list.append(new_doc)\n",
    "        for shelfs_item in shelfs_dict.items():\n",
    "            if shelfs_item[0] == user_input_shelf:\n",
    "                shelfs_item[1].append(user_input_number)\n",
    "                shelfs_dict[user_input_shelf] = shelfs_item[1]\n",
    "        print('Обновленный вид каталога документов теперь выглядит так:', documents_list)\n",
    "        print('Обновленный перечень полок теперь выглядит так:', shelfs_dict)"
   ]
  },
  {
   "cell_type": "code",
   "execution_count": 7,
   "metadata": {},
   "outputs": [
    {
     "name": "stdout",
     "output_type": "stream",
     "text": [
      "Введите номер документа, который необходимо добавить: 1828\n",
      "Введите тип документа, который необходимо добавить: passport\n",
      "Введите имя владельца документа, который необходимо добавить: Лев Толстой\n",
      "Введите номер полки, на которую необходимо поместить документ: 3\n",
      "Обновленный вид каталога документов теперь выглядит так: [{'type': 'passport', 'number': '2207 876234', 'name': 'Василий Гупкин'}, {'type': 'invoice', 'number': '11-2', 'name': 'Геннадий Покемонов'}, {'type': 'insurance', 'number': '10006', 'name': 'Аристарх Павлов'}, {'type': 'passport', 'number': '1828', 'name': 'Лев Толстой'}]\n",
      "Обновленный перечень полок теперь выглядит так: {'1': ['2207 876234'], '2': ['10006', '11-2'], '3': ['1828']}\n"
     ]
    }
   ],
   "source": [
    "add(documents, directories)"
   ]
  },
  {
   "cell_type": "code",
   "execution_count": 8,
   "metadata": {},
   "outputs": [],
   "source": [
    "def main():\n",
    "    while True:\n",
    "        user_input = input('Введите команду: ')\n",
    "        if user_input == 'p':\n",
    "            people(documents)\n",
    "        elif user_input == 's':\n",
    "            shelf(directories)\n",
    "        elif user_input == 'l':\n",
    "            listt(documents)\n",
    "        elif user_input == 'as':\n",
    "            add_shelf(directories)\n",
    "        elif user_input == 'd':\n",
    "            delete(documents, directories)\n",
    "        elif user_input == 'a':\n",
    "            add(documents, directories)\n",
    "        elif user_input == 'q':\n",
    "            print('Спасибо, что пользуетесь нашим сервисом! До новых встреч!')\n",
    "            break"
   ]
  },
  {
   "cell_type": "code",
   "execution_count": 116,
   "metadata": {},
   "outputs": [
    {
     "name": "stdout",
     "output_type": "stream",
     "text": [
      "Введите команду: p\n",
      "Для получения имени владельца, введите номер документа: 1828\n",
      "Имя владельца: Лев Толстой\n",
      "Введите команду: q\n",
      "Спасибо, что пользуетесь нашим сервисом! До новых встреч!\n"
     ]
    }
   ],
   "source": [
    "main()"
   ]
  }
 ],
 "metadata": {
  "kernelspec": {
   "display_name": "Python 3",
   "language": "python",
   "name": "python3"
  },
  "language_info": {
   "codemirror_mode": {
    "name": "ipython",
    "version": 3
   },
   "file_extension": ".py",
   "mimetype": "text/x-python",
   "name": "python",
   "nbconvert_exporter": "python",
   "pygments_lexer": "ipython3",
   "version": "3.7.6"
  }
 },
 "nbformat": 4,
 "nbformat_minor": 2
}

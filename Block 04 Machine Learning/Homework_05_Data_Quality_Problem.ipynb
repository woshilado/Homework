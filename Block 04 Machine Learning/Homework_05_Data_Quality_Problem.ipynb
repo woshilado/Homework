{
 "cells": [
  {
   "cell_type": "markdown",
   "metadata": {},
   "source": [
    "#### Домашнее задание к занятию \"Проблема качества данных\""
   ]
  },
  {
   "cell_type": "markdown",
   "metadata": {},
   "source": [
    "Необходимо запустить практическую часть занятия, и посмотреть самому то, о чём говорили на лекции. По образу практики, попробуйте создать искусственный датасет с лишними столбцами. Целевую метку, при правильной обработке данных, формируйте таким образом, чтобы без затруднений её смогла описать линейная модель. Ориентируйтесь на то, что было показано во время занятия, и каждый шаг описывайте в markdown. Здесь важно видеть ваш ход мысли. Не бойтесь ошибиться или написать не то. Данное задание не имеет какого-то “правильного” решения. Цель - достичь базового понимания проблемы. Чем больше вы фантазируете, тем лучше :) Тем не менее, старайтесь представить те ситуации, которые по-вашему мнению могли бы быть в реальных данных. Успеха!"
   ]
  },
  {
   "cell_type": "code",
   "execution_count": 1,
   "metadata": {},
   "outputs": [],
   "source": [
    "import numpy as np\n",
    "import pandas as pd\n",
    "from sklearn.linear_model import LinearRegression"
   ]
  },
  {
   "cell_type": "markdown",
   "metadata": {},
   "source": [
    "Создадим датасет с данными о продажах продукции по различным компаниям и рыночной стоимостью этих компаний.\n",
    "Если упростить один из методов оценки стоимости компании, то стоимость складывается из\n",
    "1. имеющихся активов (предположим, что все компании располагают активами в $200200),\n",
    "2. прогноза будущих доходов за какой-то период времени (возьмем 10 лет) за вычетом всех расходов на поддержание бизнеса, налогов и прочих обязательств (будем считать, что на все это уходит 80% от дохода)"
   ]
  },
  {
   "cell_type": "code",
   "execution_count": 2,
   "metadata": {
    "scrolled": true
   },
   "outputs": [
    {
     "data": {
      "text/html": [
       "<div>\n",
       "<style scoped>\n",
       "    .dataframe tbody tr th:only-of-type {\n",
       "        vertical-align: middle;\n",
       "    }\n",
       "\n",
       "    .dataframe tbody tr th {\n",
       "        vertical-align: top;\n",
       "    }\n",
       "\n",
       "    .dataframe thead th {\n",
       "        text-align: right;\n",
       "    }\n",
       "</style>\n",
       "<table border=\"1\" class=\"dataframe\">\n",
       "  <thead>\n",
       "    <tr style=\"text-align: right;\">\n",
       "      <th></th>\n",
       "      <th>number_of_stuff</th>\n",
       "      <th>quantity_of_sold_goods</th>\n",
       "      <th>average_price_of_sold_goods</th>\n",
       "      <th>company_value</th>\n",
       "    </tr>\n",
       "  </thead>\n",
       "  <tbody>\n",
       "    <tr>\n",
       "      <th>0</th>\n",
       "      <td>481</td>\n",
       "      <td>90488</td>\n",
       "      <td>34</td>\n",
       "      <td>6353384.0</td>\n",
       "    </tr>\n",
       "    <tr>\n",
       "      <th>1</th>\n",
       "      <td>422</td>\n",
       "      <td>46396</td>\n",
       "      <td>21</td>\n",
       "      <td>2148832.0</td>\n",
       "    </tr>\n",
       "    <tr>\n",
       "      <th>2</th>\n",
       "      <td>357</td>\n",
       "      <td>87939</td>\n",
       "      <td>25</td>\n",
       "      <td>4597150.0</td>\n",
       "    </tr>\n",
       "    <tr>\n",
       "      <th>3</th>\n",
       "      <td>278</td>\n",
       "      <td>33299</td>\n",
       "      <td>13</td>\n",
       "      <td>1065974.0</td>\n",
       "    </tr>\n",
       "    <tr>\n",
       "      <th>4</th>\n",
       "      <td>176</td>\n",
       "      <td>28547</td>\n",
       "      <td>58</td>\n",
       "      <td>3511652.0</td>\n",
       "    </tr>\n",
       "  </tbody>\n",
       "</table>\n",
       "</div>"
      ],
      "text/plain": [
       "   number_of_stuff  quantity_of_sold_goods  average_price_of_sold_goods  \\\n",
       "0              481                   90488                           34   \n",
       "1              422                   46396                           21   \n",
       "2              357                   87939                           25   \n",
       "3              278                   33299                           13   \n",
       "4              176                   28547                           58   \n",
       "\n",
       "   company_value  \n",
       "0      6353384.0  \n",
       "1      2148832.0  \n",
       "2      4597150.0  \n",
       "3      1065974.0  \n",
       "4      3511652.0  "
      ]
     },
     "execution_count": 2,
     "metadata": {},
     "output_type": "execute_result"
    }
   ],
   "source": [
    "# Создаем сэмпл\n",
    "n_samples = 500\n",
    "\n",
    "# количество персонала в компании\n",
    "number_of_stuff = np.random.choice(500, n_samples) + 10\n",
    "\n",
    "# количество проданных единиц товара за год\n",
    "quantity_of_sold_goods  = np.random.choice(100100, n_samples) + 1000\n",
    "\n",
    "# средняя цена единицы товара\n",
    "average_price_of_sold_goods  = np.random.choice(100, n_samples) + 10\n",
    "\n",
    "# стоимость компании\n",
    "company_value = quantity_of_sold_goods * average_price_of_sold_goods * 10 * 0.2 + 200200\n",
    "\n",
    "data = pd.DataFrame({'number_of_stuff': number_of_stuff, 'quantity_of_sold_goods': quantity_of_sold_goods, \n",
    "                     'average_price_of_sold_goods': average_price_of_sold_goods, 'company_value': company_value})\n",
    "data.head(5)"
   ]
  },
  {
   "cell_type": "markdown",
   "metadata": {},
   "source": [
    "Обучаем модель линейной регрессии и смотрим на получившиеся веса, сдвиг и среднюю абсолютную ошибку"
   ]
  },
  {
   "cell_type": "code",
   "execution_count": 3,
   "metadata": {},
   "outputs": [
    {
     "name": "stdout",
     "output_type": "stream",
     "text": [
      "Weights: [   496.67847665    116.69429107 101892.00740179]\n",
      "Bias: -5778267.020082743\n",
      "Error: 1241957.5142400449\n"
     ]
    }
   ],
   "source": [
    "from sklearn.metrics import mean_absolute_error\n",
    "\n",
    "# Определяем параметры\n",
    "X = data[['number_of_stuff', 'quantity_of_sold_goods', 'average_price_of_sold_goods']]\n",
    "\n",
    "# Определяем целевое значение\n",
    "y = data['company_value']\n",
    "\n",
    "# Обучаем модель\n",
    "reg = LinearRegression().fit(X, y)\n",
    "\n",
    "# Определяем веса (коэффициенты перед Х):\n",
    "print('Weights: {}'.format(reg.coef_))\n",
    "\n",
    "# Определяем сдвиг, который был равен 200200 по условию\n",
    "print('Bias: {}'.format(reg.intercept_))\n",
    "\n",
    "# С помощью обученной модели и имеющихся параметров Х предсказываем целевые значения у\n",
    "pred_values = reg.predict(X)\n",
    "\n",
    "# Считаем абсолютную ошибку\n",
    "print('Error: {}'.format(mean_absolute_error(pred_values, y)))"
   ]
  },
  {
   "cell_type": "code",
   "execution_count": 4,
   "metadata": {},
   "outputs": [
    {
     "data": {
      "text/plain": [
       "5092750.0"
      ]
     },
     "execution_count": 4,
     "metadata": {},
     "output_type": "execute_result"
    }
   ],
   "source": [
    "y.median()"
   ]
  },
  {
   "cell_type": "markdown",
   "metadata": {},
   "source": [
    "В результате видим достаточно сомнительные веса, неверный сдвиг и огромную среднюю абсолютную ошибку (около четверти).  \n",
    "Попробуем убрать лишний признак, т.е. количество персонала, которое не влияет на рыночную капитализацию компании (строго говоря, косвенно немного влияет, но это влияние настолько невелико, что можно легко им пренебречь безо всякого ущерба для модели)."
   ]
  },
  {
   "cell_type": "code",
   "execution_count": 5,
   "metadata": {},
   "outputs": [
    {
     "name": "stdout",
     "output_type": "stream",
     "text": [
      "Weights: [   116.65491981 101901.54532945]\n",
      "Bias: -5646108.2870503655\n",
      "Error: 1239859.7060360666\n"
     ]
    }
   ],
   "source": [
    "# Определяем параметры (уже без персонала)\n",
    "X = data[['quantity_of_sold_goods', 'average_price_of_sold_goods']]\n",
    "\n",
    "# Определяем целевое значение\n",
    "y = data['company_value']\n",
    "\n",
    "# Обучаем модель\n",
    "reg = LinearRegression().fit(X, y)\n",
    "\n",
    "# Определяем веса (коэффициенты перед Х):\n",
    "print('Weights: {}'.format(reg.coef_))\n",
    "\n",
    "# Определяем сдвиг, который был равен 200200 по условию\n",
    "print('Bias: {}'.format(reg.intercept_))\n",
    "\n",
    "# С помощью обученной модели и имеющихся параметров Х предсказываем целевые значения у\n",
    "pred_values = reg.predict(X)\n",
    "\n",
    "# Считаем абсолютную ошибку\n",
    "print('Error: {}'.format(mean_absolute_error(pred_values, y)))"
   ]
  },
  {
   "cell_type": "markdown",
   "metadata": {},
   "source": [
    "Результаты не стали лучше.  \n",
    "Чтобы понять почему, нужно ответить на вопрос: что из себя представляет линейная модель?  \n",
    "f(x,b) = b0 + b1x1 + b2x2 и т.д., где b - параметры (коэффициенты) регрессии, х - регрессоры (факторы модели).  \n",
    "В нашем примере получается так: b0 + b1x1x2, что не является линейной зависимостью и приводит к огромным погрешностям модели.  \n",
    "Поэтому необходимо создать новый признак, чтобы получить зависимость вида: b0 + b1x1."
   ]
  },
  {
   "cell_type": "code",
   "execution_count": 6,
   "metadata": {},
   "outputs": [
    {
     "data": {
      "text/html": [
       "<div>\n",
       "<style scoped>\n",
       "    .dataframe tbody tr th:only-of-type {\n",
       "        vertical-align: middle;\n",
       "    }\n",
       "\n",
       "    .dataframe tbody tr th {\n",
       "        vertical-align: top;\n",
       "    }\n",
       "\n",
       "    .dataframe thead th {\n",
       "        text-align: right;\n",
       "    }\n",
       "</style>\n",
       "<table border=\"1\" class=\"dataframe\">\n",
       "  <thead>\n",
       "    <tr style=\"text-align: right;\">\n",
       "      <th></th>\n",
       "      <th>number_of_stuff</th>\n",
       "      <th>quantity_of_sold_goods</th>\n",
       "      <th>average_price_of_sold_goods</th>\n",
       "      <th>company_value</th>\n",
       "      <th>annual_income</th>\n",
       "    </tr>\n",
       "  </thead>\n",
       "  <tbody>\n",
       "    <tr>\n",
       "      <th>0</th>\n",
       "      <td>481</td>\n",
       "      <td>90488</td>\n",
       "      <td>34</td>\n",
       "      <td>6353384.0</td>\n",
       "      <td>3076592</td>\n",
       "    </tr>\n",
       "    <tr>\n",
       "      <th>1</th>\n",
       "      <td>422</td>\n",
       "      <td>46396</td>\n",
       "      <td>21</td>\n",
       "      <td>2148832.0</td>\n",
       "      <td>974316</td>\n",
       "    </tr>\n",
       "    <tr>\n",
       "      <th>2</th>\n",
       "      <td>357</td>\n",
       "      <td>87939</td>\n",
       "      <td>25</td>\n",
       "      <td>4597150.0</td>\n",
       "      <td>2198475</td>\n",
       "    </tr>\n",
       "    <tr>\n",
       "      <th>3</th>\n",
       "      <td>278</td>\n",
       "      <td>33299</td>\n",
       "      <td>13</td>\n",
       "      <td>1065974.0</td>\n",
       "      <td>432887</td>\n",
       "    </tr>\n",
       "    <tr>\n",
       "      <th>4</th>\n",
       "      <td>176</td>\n",
       "      <td>28547</td>\n",
       "      <td>58</td>\n",
       "      <td>3511652.0</td>\n",
       "      <td>1655726</td>\n",
       "    </tr>\n",
       "  </tbody>\n",
       "</table>\n",
       "</div>"
      ],
      "text/plain": [
       "   number_of_stuff  quantity_of_sold_goods  average_price_of_sold_goods  \\\n",
       "0              481                   90488                           34   \n",
       "1              422                   46396                           21   \n",
       "2              357                   87939                           25   \n",
       "3              278                   33299                           13   \n",
       "4              176                   28547                           58   \n",
       "\n",
       "   company_value  annual_income  \n",
       "0      6353384.0        3076592  \n",
       "1      2148832.0         974316  \n",
       "2      4597150.0        2198475  \n",
       "3      1065974.0         432887  \n",
       "4      3511652.0        1655726  "
      ]
     },
     "execution_count": 6,
     "metadata": {},
     "output_type": "execute_result"
    }
   ],
   "source": [
    "# Создаем новый признак - годовую прибыль (annual income), т.е. [кол-во проданного за год товара] * [средняя цена товара]\n",
    "data['annual_income'] = data['quantity_of_sold_goods'] * data['average_price_of_sold_goods']\n",
    "data.head(5)"
   ]
  },
  {
   "cell_type": "code",
   "execution_count": 7,
   "metadata": {},
   "outputs": [
    {
     "name": "stdout",
     "output_type": "stream",
     "text": [
      "Weights: [2.]\n",
      "Bias: 200200.0\n",
      "Error: 0.0\n"
     ]
    }
   ],
   "source": [
    "# Определяем параметры\n",
    "X = data[['annual_income']]\n",
    "\n",
    "# Определяем целевое значение\n",
    "y = data['company_value']\n",
    "\n",
    "# Обучаем модель\n",
    "reg = LinearRegression().fit(X, y)\n",
    "\n",
    "# Определяем веса (коэффициенты перед Х):\n",
    "print('Weights: {}'.format(reg.coef_))\n",
    "\n",
    "# Определяем сдвиг, который был равен 200200 по условию\n",
    "print('Bias: {}'.format(reg.intercept_))\n",
    "\n",
    "# С помощью обученной модели и имеющихся параметров Х предсказываем целевые значения у\n",
    "pred_values = reg.predict(data[['annual_income']])\n",
    "\n",
    "# Считаем абсолютную ошибку\n",
    "print('Error: {}'.format(mean_absolute_error(pred_values, y)))"
   ]
  },
  {
   "cell_type": "markdown",
   "metadata": {},
   "source": [
    "Получили абсолютно верные вес (10 лет * 20% = 2) и сдвиг (200200 как в условии), а также нулевую ошибку. И все это по причине того, что мы создали линейную зависимость с помощью нового признака."
   ]
  }
 ],
 "metadata": {
  "kernelspec": {
   "display_name": "Python 3",
   "language": "python",
   "name": "python3"
  },
  "language_info": {
   "codemirror_mode": {
    "name": "ipython",
    "version": 3
   },
   "file_extension": ".py",
   "mimetype": "text/x-python",
   "name": "python",
   "nbconvert_exporter": "python",
   "pygments_lexer": "ipython3",
   "version": "3.7.6"
  }
 },
 "nbformat": 4,
 "nbformat_minor": 4
}
